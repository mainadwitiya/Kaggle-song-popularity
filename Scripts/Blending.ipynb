{
 "cells": [
  {
   "cell_type": "code",
   "execution_count": 1,
   "metadata": {
    "id": "sZo-rQO82Fsv",
    "scrolled": false
   },
   "outputs": [],
   "source": [
    "import pandas as pd"
   ]
  },
  {
   "cell_type": "code",
   "execution_count": 2,
   "metadata": {},
   "outputs": [
    {
     "data": {
      "text/plain": [
       "'D:\\\\Kaggle-song-popularity\\\\Scripts'"
      ]
     },
     "execution_count": 2,
     "metadata": {},
     "output_type": "execute_result"
    }
   ],
   "source": [
    "pwd"
   ]
  },
  {
   "cell_type": "code",
   "execution_count": 3,
   "metadata": {},
   "outputs": [
    {
     "name": "stdout",
     "output_type": "stream",
     "text": [
      "D:\\Kaggle-song-popularity\n"
     ]
    }
   ],
   "source": []
  },
  {
   "cell_type": "code",
   "execution_count": 4,
   "metadata": {
    "id": "0AIrJPVByaG6",
    "scrolled": true
   },
   "outputs": [],
   "source": [
    "nn1 = pd.read_csv('submission_files/imputed_blends/spp-1-v2-test_iterative_impu_spp-BLEND-NN-1-0.5879.csv')\n",
    "nn2 = pd.read_csv('submission_files/imputed_blends/spp-1-v2-test_iterative_impu_spp-BLEND-NN-2-0.5876.csv')\n",
    "xgb_pred = pd.read_csv('submission_files/imputed_blends/spp-1-v2-test_iterative_impu_spp-BLEND-XGB-1-0.5864.csv')"
   ]
  },
  {
   "cell_type": "code",
   "execution_count": 6,
   "metadata": {},
   "outputs": [
    {
     "data": {
      "text/html": [
       "<div>\n",
       "<style scoped>\n",
       "    .dataframe tbody tr th:only-of-type {\n",
       "        vertical-align: middle;\n",
       "    }\n",
       "\n",
       "    .dataframe tbody tr th {\n",
       "        vertical-align: top;\n",
       "    }\n",
       "\n",
       "    .dataframe thead th {\n",
       "        text-align: right;\n",
       "    }\n",
       "</style>\n",
       "<table border=\"1\" class=\"dataframe\">\n",
       "  <thead>\n",
       "    <tr style=\"text-align: right;\">\n",
       "      <th></th>\n",
       "      <th>id</th>\n",
       "      <th>song_popularity</th>\n",
       "    </tr>\n",
       "  </thead>\n",
       "  <tbody>\n",
       "    <tr>\n",
       "      <th>0</th>\n",
       "      <td>0.0</td>\n",
       "      <td>0.392934</td>\n",
       "    </tr>\n",
       "    <tr>\n",
       "      <th>1</th>\n",
       "      <td>1.0</td>\n",
       "      <td>0.474245</td>\n",
       "    </tr>\n",
       "    <tr>\n",
       "      <th>2</th>\n",
       "      <td>2.0</td>\n",
       "      <td>0.251814</td>\n",
       "    </tr>\n",
       "    <tr>\n",
       "      <th>3</th>\n",
       "      <td>3.0</td>\n",
       "      <td>0.277137</td>\n",
       "    </tr>\n",
       "    <tr>\n",
       "      <th>4</th>\n",
       "      <td>4.0</td>\n",
       "      <td>0.380438</td>\n",
       "    </tr>\n",
       "    <tr>\n",
       "      <th>...</th>\n",
       "      <td>...</td>\n",
       "      <td>...</td>\n",
       "    </tr>\n",
       "    <tr>\n",
       "      <th>9995</th>\n",
       "      <td>9995.0</td>\n",
       "      <td>0.346843</td>\n",
       "    </tr>\n",
       "    <tr>\n",
       "      <th>9996</th>\n",
       "      <td>9996.0</td>\n",
       "      <td>0.292488</td>\n",
       "    </tr>\n",
       "    <tr>\n",
       "      <th>9997</th>\n",
       "      <td>9997.0</td>\n",
       "      <td>0.360433</td>\n",
       "    </tr>\n",
       "    <tr>\n",
       "      <th>9998</th>\n",
       "      <td>9998.0</td>\n",
       "      <td>0.442600</td>\n",
       "    </tr>\n",
       "    <tr>\n",
       "      <th>9999</th>\n",
       "      <td>9999.0</td>\n",
       "      <td>0.240521</td>\n",
       "    </tr>\n",
       "  </tbody>\n",
       "</table>\n",
       "<p>10000 rows × 2 columns</p>\n",
       "</div>"
      ],
      "text/plain": [
       "          id  song_popularity\n",
       "0        0.0         0.392934\n",
       "1        1.0         0.474245\n",
       "2        2.0         0.251814\n",
       "3        3.0         0.277137\n",
       "4        4.0         0.380438\n",
       "...      ...              ...\n",
       "9995  9995.0         0.346843\n",
       "9996  9996.0         0.292488\n",
       "9997  9997.0         0.360433\n",
       "9998  9998.0         0.442600\n",
       "9999  9999.0         0.240521\n",
       "\n",
       "[10000 rows x 2 columns]"
      ]
     },
     "execution_count": 6,
     "metadata": {},
     "output_type": "execute_result"
    }
   ],
   "source": [
    "xgb_pred"
   ]
  },
  {
   "cell_type": "code",
   "execution_count": 7,
   "metadata": {},
   "outputs": [],
   "source": [
    "submission = pd.read_csv('csv/sample_submission.csv')"
   ]
  },
  {
   "cell_type": "code",
   "execution_count": 8,
   "metadata": {
    "id": "Xxed-mzRybJp"
   },
   "outputs": [],
   "source": [
    "submission.song_popularity = nn1.song_popularity * 0.50 + nn2.song_popularity * 0.3 + xgb_pred.song_popularity * 0.2"
   ]
  },
  {
   "cell_type": "code",
   "execution_count": 11,
   "metadata": {},
   "outputs": [],
   "source": [
    "submission=submission.drop(['id'],axis=1)"
   ]
  },
  {
   "cell_type": "code",
   "execution_count": null,
   "metadata": {},
   "outputs": [],
   "source": []
  },
  {
   "cell_type": "code",
   "execution_count": 14,
   "metadata": {
    "id": "qav4yOVdybOW"
   },
   "outputs": [],
   "source": [
    "submission.to_csv('submission_files/imputed_blends/imputed_blend_nn1_nn2_xgb.csv', index = True)"
   ]
  },
  {
   "cell_type": "code",
   "execution_count": 15,
   "metadata": {
    "colab": {
     "base_uri": "https://localhost:8080/",
     "height": 424
    },
    "id": "0GE6TjvgybRl",
    "outputId": "ba9ad544-beb5-493d-8cce-f8ab6e1895fd"
   },
   "outputs": [
    {
     "data": {
      "text/html": [
       "<div>\n",
       "<style scoped>\n",
       "    .dataframe tbody tr th:only-of-type {\n",
       "        vertical-align: middle;\n",
       "    }\n",
       "\n",
       "    .dataframe tbody tr th {\n",
       "        vertical-align: top;\n",
       "    }\n",
       "\n",
       "    .dataframe thead th {\n",
       "        text-align: right;\n",
       "    }\n",
       "</style>\n",
       "<table border=\"1\" class=\"dataframe\">\n",
       "  <thead>\n",
       "    <tr style=\"text-align: right;\">\n",
       "      <th></th>\n",
       "      <th>song_popularity</th>\n",
       "    </tr>\n",
       "  </thead>\n",
       "  <tbody>\n",
       "    <tr>\n",
       "      <th>0</th>\n",
       "      <td>0.374256</td>\n",
       "    </tr>\n",
       "    <tr>\n",
       "      <th>1</th>\n",
       "      <td>0.463153</td>\n",
       "    </tr>\n",
       "    <tr>\n",
       "      <th>2</th>\n",
       "      <td>0.229708</td>\n",
       "    </tr>\n",
       "    <tr>\n",
       "      <th>3</th>\n",
       "      <td>0.266924</td>\n",
       "    </tr>\n",
       "    <tr>\n",
       "      <th>4</th>\n",
       "      <td>0.350627</td>\n",
       "    </tr>\n",
       "    <tr>\n",
       "      <th>...</th>\n",
       "      <td>...</td>\n",
       "    </tr>\n",
       "    <tr>\n",
       "      <th>9995</th>\n",
       "      <td>0.327205</td>\n",
       "    </tr>\n",
       "    <tr>\n",
       "      <th>9996</th>\n",
       "      <td>0.281810</td>\n",
       "    </tr>\n",
       "    <tr>\n",
       "      <th>9997</th>\n",
       "      <td>0.334879</td>\n",
       "    </tr>\n",
       "    <tr>\n",
       "      <th>9998</th>\n",
       "      <td>0.426147</td>\n",
       "    </tr>\n",
       "    <tr>\n",
       "      <th>9999</th>\n",
       "      <td>0.232983</td>\n",
       "    </tr>\n",
       "  </tbody>\n",
       "</table>\n",
       "<p>10000 rows × 1 columns</p>\n",
       "</div>"
      ],
      "text/plain": [
       "      song_popularity\n",
       "0            0.374256\n",
       "1            0.463153\n",
       "2            0.229708\n",
       "3            0.266924\n",
       "4            0.350627\n",
       "...               ...\n",
       "9995         0.327205\n",
       "9996         0.281810\n",
       "9997         0.334879\n",
       "9998         0.426147\n",
       "9999         0.232983\n",
       "\n",
       "[10000 rows x 1 columns]"
      ]
     },
     "execution_count": 15,
     "metadata": {},
     "output_type": "execute_result"
    }
   ],
   "source": [
    "submission"
   ]
  },
  {
   "cell_type": "code",
   "execution_count": null,
   "metadata": {
    "id": "OaSb9fQcybUp"
   },
   "outputs": [],
   "source": []
  },
  {
   "cell_type": "code",
   "execution_count": null,
   "metadata": {
    "id": "uxjufWy3ybXf"
   },
   "outputs": [],
   "source": []
  },
  {
   "cell_type": "code",
   "execution_count": null,
   "metadata": {
    "id": "_HBqf4mK3U8Q"
   },
   "outputs": [],
   "source": [
    "train_base = pd.read_csv('https://raw.githubusercontent.com/mainadwitiya/Kaggle-song-popularity/main/csv/train.csv?token=GHSAT0AAAAAABPK7AEBVULXIUG5MRGDGVFGYPWRUNQ')\n",
    "test_base = pd.read_csv('https://raw.githubusercontent.com/mainadwitiya/Kaggle-song-popularity/main/csv/test.csv?token=GHSAT0AAAAAABPK7AEA6PG33UFDPGL462I4YPWRVWQ')\n",
    "submission = pd.read_csv('https://raw.githubusercontent.com/mainadwitiya/Kaggle-song-popularity/main/csv/sample_submission.csv?token=GHSAT0AAAAAABPK7AEATANZGA77FJZG6ZX6YPWZEGA')"
   ]
  },
  {
   "cell_type": "code",
   "execution_count": null,
   "metadata": {
    "id": "sGJKv4ZbdBsF"
   },
   "outputs": [],
   "source": [
    "from sklearn.impute import SimpleImputer\n",
    "imputer = SimpleImputer(strategy='median')\n",
    "\n",
    "\n",
    "train = pd.DataFrame(imputer.fit_transform(train_base), columns = train_base.columns)\n",
    "test = pd.DataFrame(imputer.fit_transform(test_base), columns = test_base.columns)"
   ]
  },
  {
   "cell_type": "code",
   "execution_count": null,
   "metadata": {
    "id": "JZX6AdH35ztS"
   },
   "outputs": [],
   "source": [
    "#creating folds\n",
    "from sklearn.model_selection import StratifiedKFold\n",
    "\n",
    "train['kfold'] = -1\n",
    "\n",
    "y_train = train_base.song_popularity\n",
    "X_train = train.copy()\n",
    "\n",
    "skf = StratifiedKFold(n_splits=5, shuffle=True, random_state=42)\n",
    "for fold, (train_indicies, valid_indicies) in enumerate(skf.split(X_train,y_train )):\n",
    "    train.loc[valid_indicies, \"kfold\"] = fold\n",
    "train.to_csv(\"song_popularity_S5Fold.csv\", index=False)"
   ]
  },
  {
   "cell_type": "code",
   "execution_count": null,
   "metadata": {
    "id": "PXq3UsDmdPJ4"
   },
   "outputs": [],
   "source": [
    "df = pd.read_csv(\"./song_popularity_S5Fold.csv\")\n",
    "\n",
    "#features taken to train\n",
    "features = [f for f in df.columns if f not in(\"id\",\"kfold\",\"song_popularity\")]\n",
    "test= test[features]"
   ]
  },
  {
   "cell_type": "code",
   "execution_count": null,
   "metadata": {
    "id": "adWEUdsz587U"
   },
   "outputs": [],
   "source": [
    "def objective(trial): \n",
    "  for fold in range (5):\n",
    "    # parameters\n",
    "    param = {\n",
    "        'objective': 'binary',\n",
    "        'metric': 'binary_logloss',\n",
    "        'verbosity': -1,\n",
    "        'boosting_type': 'gbdt',\n",
    "        'lambda_l1': trial.suggest_float('lambda_l1', 1e-8, 10.0, log=True),\n",
    "        'lambda_l2': trial.suggest_float('lambda_l2', 1e-8, 10.0, log=True),\n",
    "        'num_leaves': trial.suggest_int('num_leaves', 2, 64),\n",
    "        'feature_fraction': trial.suggest_float('feature_fraction', 0.4, 1.0),\n",
    "        'bagging_fraction': trial.suggest_float('bagging_fraction', 0.4, 1.0),\n",
    "        'bagging_freq': trial.suggest_int('bagging_freq', 1, 7),\n",
    "        'min_child_samples': trial.suggest_int('min_child_samples', 5, 100),\n",
    "        'min_data_in_leaf' : trial.suggest_int('min_data_in_leaf', 100,1000, step = 100),\n",
    "        'max_depth' : trial.suggest_int('max_depth', 100,500, step = 100),\n",
    "    }\n",
    "    score = []\n",
    "\n",
    "    xtrain = df[df.kfold != fold].reset_index(drop=True)\n",
    "    xvalid = df[df.kfold == fold].reset_index(drop=True)\n",
    "    xtest = test.copy()\n",
    "    \n",
    "    ytrain = xtrain.song_popularity\n",
    "    yvalid = xvalid.song_popularity\n",
    "    \n",
    "    xtrain = xtrain[features]\n",
    "    xvalid = xvalid[features]\n",
    "    \n",
    "    lE = StandardScaler()\n",
    "    xtrain[features] = lE.fit_transform(xtrain[features])\n",
    "    xvalid[features] = lE.transform(xvalid[features])\n",
    "    xtest[features] = lE.transform(xtest[features])\n",
    "    \n",
    "    model= lgb.LGBMRegressor(**param, verbose = -1)\n",
    "    model.fit(xtrain,ytrain,early_stopping_rounds=10,eval_set=[(xvalid,yvalid)],verbose=False)\n",
    "    preds_valid = model.predict(xvalid)\n",
    "\n",
    "    \n",
    "    roc1= roc_auc_score(yvalid,preds_valid)\n",
    "    #Score \n",
    "    score.append(roc1)\n",
    "    print(f\"fold|split:{fold},roc:{roc1}\")\n",
    "  \n",
    "  return np.mean(score)\n"
   ]
  },
  {
   "cell_type": "code",
   "execution_count": null,
   "metadata": {
    "colab": {
     "background_save": true,
     "base_uri": "https://localhost:8080/"
    },
    "id": "x5qF70F4UBFa",
    "outputId": "69aa07ec-c8e1-47f4-f7f1-dc295b7863b7"
   },
   "outputs": [
    {
     "name": "stderr",
     "output_type": "stream",
     "text": [
      "\u001b[32m[I 2022-01-26 11:56:43,400]\u001b[0m A new study created in memory with name: no-name-70b22bf6-db16-464f-8cf0-6266cf047d1e\u001b[0m\n"
     ]
    },
    {
     "name": "stdout",
     "output_type": "stream",
     "text": [
      "fold|split:0,roc:0.5735903702241989\n",
      "fold|split:1,roc:0.5724853814484804\n",
      "fold|split:2,roc:0.5753097513792121\n",
      "fold|split:3,roc:0.5722004145647491\n"
     ]
    },
    {
     "name": "stderr",
     "output_type": "stream",
     "text": [
      "\u001b[32m[I 2022-01-26 11:56:44,930]\u001b[0m Trial 0 finished with value: 0.5665576881774392 and parameters: {'lambda_l1': 0.01536227454204362, 'lambda_l2': 5.410292970203162e-06, 'num_leaves': 37, 'feature_fraction': 0.6731581338291512, 'bagging_fraction': 0.7854211956050916, 'bagging_freq': 3, 'min_child_samples': 46, 'min_data_in_leaf': 600, 'max_depth': 500}. Best is trial 0 with value: 0.5665576881774392.\u001b[0m\n"
     ]
    },
    {
     "name": "stdout",
     "output_type": "stream",
     "text": [
      "fold|split:4,roc:0.5665576881774392\n",
      "fold|split:0,roc:0.5748024239725692\n",
      "fold|split:1,roc:0.5759192189046922\n",
      "fold|split:2,roc:0.5777928896579756\n",
      "fold|split:3,roc:0.5753292484032174\n"
     ]
    },
    {
     "name": "stderr",
     "output_type": "stream",
     "text": [
      "\u001b[32m[I 2022-01-26 11:56:46,687]\u001b[0m Trial 1 finished with value: 0.5701837389739888 and parameters: {'lambda_l1': 0.0006146614260020327, 'lambda_l2': 1.934168570142215e-07, 'num_leaves': 8, 'feature_fraction': 0.44702817503172426, 'bagging_fraction': 0.9180824421880464, 'bagging_freq': 5, 'min_child_samples': 54, 'min_data_in_leaf': 1000, 'max_depth': 200}. Best is trial 1 with value: 0.5701837389739888.\u001b[0m\n"
     ]
    },
    {
     "name": "stdout",
     "output_type": "stream",
     "text": [
      "fold|split:4,roc:0.5701837389739888\n",
      "fold|split:0,roc:0.5747440678280551\n",
      "fold|split:1,roc:0.5757124425082348\n",
      "fold|split:2,roc:0.5770533857526677\n",
      "fold|split:3,roc:0.5752506531334383\n"
     ]
    },
    {
     "name": "stderr",
     "output_type": "stream",
     "text": [
      "\u001b[32m[I 2022-01-26 11:56:48,058]\u001b[0m Trial 2 finished with value: 0.56419855616318 and parameters: {'lambda_l1': 0.0008171393311357319, 'lambda_l2': 0.006959116862568465, 'num_leaves': 4, 'feature_fraction': 0.414793728468724, 'bagging_fraction': 0.6514581523207402, 'bagging_freq': 6, 'min_child_samples': 19, 'min_data_in_leaf': 400, 'max_depth': 400}. Best is trial 1 with value: 0.5701837389739888.\u001b[0m\n"
     ]
    },
    {
     "name": "stdout",
     "output_type": "stream",
     "text": [
      "fold|split:4,roc:0.56419855616318\n",
      "fold|split:0,roc:0.5661864934197544\n",
      "fold|split:1,roc:0.5648486872397376\n",
      "fold|split:2,roc:0.5676116988890407\n",
      "fold|split:3,roc:0.569694473538187\n"
     ]
    },
    {
     "name": "stderr",
     "output_type": "stream",
     "text": [
      "\u001b[32m[I 2022-01-26 11:56:49,390]\u001b[0m Trial 3 finished with value: 0.5572292549637962 and parameters: {'lambda_l1': 9.000109682934247e-08, 'lambda_l2': 0.002877368299629004, 'num_leaves': 2, 'feature_fraction': 0.8761491415981815, 'bagging_fraction': 0.8119244306263906, 'bagging_freq': 1, 'min_child_samples': 76, 'min_data_in_leaf': 200, 'max_depth': 300}. Best is trial 1 with value: 0.5701837389739888.\u001b[0m\n"
     ]
    },
    {
     "name": "stdout",
     "output_type": "stream",
     "text": [
      "fold|split:4,roc:0.5572292549637962\n",
      "fold|split:0,roc:0.5748214487503184\n",
      "fold|split:1,roc:0.5753745840438109\n",
      "fold|split:2,roc:0.5785465272190936\n",
      "fold|split:3,roc:0.5759124725296039\n"
     ]
    },
    {
     "name": "stderr",
     "output_type": "stream",
     "text": [
      "\u001b[32m[I 2022-01-26 11:56:50,976]\u001b[0m Trial 4 finished with value: 0.5656910407216378 and parameters: {'lambda_l1': 0.2531734092377981, 'lambda_l2': 0.06067174208164148, 'num_leaves': 44, 'feature_fraction': 0.6508864903027753, 'bagging_fraction': 0.8725932895470138, 'bagging_freq': 5, 'min_child_samples': 44, 'min_data_in_leaf': 700, 'max_depth': 400}. Best is trial 1 with value: 0.5701837389739888.\u001b[0m\n"
     ]
    },
    {
     "name": "stdout",
     "output_type": "stream",
     "text": [
      "fold|split:4,roc:0.5656910407216378\n",
      "fold|split:0,roc:0.575064588108502\n",
      "fold|split:1,roc:0.5732502179922451\n",
      "fold|split:2,roc:0.5777820954578343\n",
      "fold|split:3,roc:0.5751769152537227\n"
     ]
    },
    {
     "name": "stderr",
     "output_type": "stream",
     "text": [
      "\u001b[32m[I 2022-01-26 11:56:52,328]\u001b[0m Trial 5 finished with value: 0.5633424989666066 and parameters: {'lambda_l1': 0.0038720568486419658, 'lambda_l2': 1.2854028224745608, 'num_leaves': 52, 'feature_fraction': 0.43839866301349667, 'bagging_fraction': 0.4072551560432067, 'bagging_freq': 5, 'min_child_samples': 91, 'min_data_in_leaf': 800, 'max_depth': 500}. Best is trial 1 with value: 0.5701837389739888.\u001b[0m\n"
     ]
    },
    {
     "name": "stdout",
     "output_type": "stream",
     "text": [
      "fold|split:4,roc:0.5633424989666066\n",
      "fold|split:0,roc:0.5747979039012601\n",
      "fold|split:1,roc:0.5718711239966876\n",
      "fold|split:2,roc:0.5719590292640886\n",
      "fold|split:3,roc:0.5693736159389858\n"
     ]
    },
    {
     "name": "stderr",
     "output_type": "stream",
     "text": [
      "\u001b[32m[I 2022-01-26 11:56:53,887]\u001b[0m Trial 6 finished with value: 0.5645287766348392 and parameters: {'lambda_l1': 0.0019925383369349117, 'lambda_l2': 6.339219272346024e-05, 'num_leaves': 60, 'feature_fraction': 0.828730199433394, 'bagging_fraction': 0.6753814533525831, 'bagging_freq': 6, 'min_child_samples': 13, 'min_data_in_leaf': 300, 'max_depth': 500}. Best is trial 1 with value: 0.5701837389739888.\u001b[0m\n"
     ]
    },
    {
     "name": "stdout",
     "output_type": "stream",
     "text": [
      "fold|split:4,roc:0.5645287766348392\n",
      "fold|split:0,roc:0.5736456230361724\n",
      "fold|split:1,roc:0.5727252150828708\n",
      "fold|split:2,roc:0.58073660296402\n",
      "fold|split:3,roc:0.5728573091071003\n"
     ]
    },
    {
     "name": "stderr",
     "output_type": "stream",
     "text": [
      "\u001b[32m[I 2022-01-26 11:56:55,286]\u001b[0m Trial 7 finished with value: 0.5682386388778264 and parameters: {'lambda_l1': 1.6761692517804758, 'lambda_l2': 0.21374702055778866, 'num_leaves': 28, 'feature_fraction': 0.7604765607137689, 'bagging_fraction': 0.574683222829121, 'bagging_freq': 6, 'min_child_samples': 76, 'min_data_in_leaf': 400, 'max_depth': 500}. Best is trial 1 with value: 0.5701837389739888.\u001b[0m\n"
     ]
    },
    {
     "name": "stdout",
     "output_type": "stream",
     "text": [
      "fold|split:4,roc:0.5682386388778264\n",
      "fold|split:0,roc:0.5747386707279845\n",
      "fold|split:1,roc:0.5745745314220854\n",
      "fold|split:2,roc:0.5788107827313037\n",
      "fold|split:3,roc:0.5749162353203094\n"
     ]
    },
    {
     "name": "stderr",
     "output_type": "stream",
     "text": [
      "\u001b[32m[I 2022-01-26 11:56:56,836]\u001b[0m Trial 8 finished with value: 0.5685821140369907 and parameters: {'lambda_l1': 0.6318324862633464, 'lambda_l2': 0.03597352263078658, 'num_leaves': 46, 'feature_fraction': 0.6093732745946553, 'bagging_fraction': 0.7159649329156562, 'bagging_freq': 5, 'min_child_samples': 81, 'min_data_in_leaf': 1000, 'max_depth': 200}. Best is trial 1 with value: 0.5701837389739888.\u001b[0m\n"
     ]
    },
    {
     "name": "stdout",
     "output_type": "stream",
     "text": [
      "fold|split:4,roc:0.5685821140369907\n",
      "fold|split:0,roc:0.5748047852038501\n",
      "fold|split:1,roc:0.5725091286887914\n",
      "fold|split:2,roc:0.5786548740030123\n",
      "fold|split:3,roc:0.5758877807967806\n"
     ]
    },
    {
     "name": "stderr",
     "output_type": "stream",
     "text": [
      "\u001b[32m[I 2022-01-26 11:56:58,151]\u001b[0m Trial 9 finished with value: 0.5672109115555513 and parameters: {'lambda_l1': 1.0926054157988803e-05, 'lambda_l2': 3.271047313924249e-05, 'num_leaves': 62, 'feature_fraction': 0.6094895325732472, 'bagging_fraction': 0.4939699743170223, 'bagging_freq': 6, 'min_child_samples': 25, 'min_data_in_leaf': 900, 'max_depth': 300}. Best is trial 1 with value: 0.5701837389739888.\u001b[0m\n"
     ]
    },
    {
     "name": "stdout",
     "output_type": "stream",
     "text": [
      "fold|split:4,roc:0.5672109115555513\n",
      "fold|split:0,roc:0.5786639816093816\n",
      "fold|split:1,roc:0.5778172440720446\n",
      "fold|split:2,roc:0.5774669048137073\n",
      "fold|split:3,roc:0.5734224866801257\n"
     ]
    },
    {
     "name": "stderr",
     "output_type": "stream",
     "text": [
      "\u001b[32m[I 2022-01-26 11:56:59,804]\u001b[0m Trial 10 finished with value: 0.5682517923845108 and parameters: {'lambda_l1': 5.615030343761583e-06, 'lambda_l2': 1.3913363575923807e-08, 'num_leaves': 19, 'feature_fraction': 0.9997485614538189, 'bagging_fraction': 0.984471238194514, 'bagging_freq': 3, 'min_child_samples': 61, 'min_data_in_leaf': 1000, 'max_depth': 100}. Best is trial 1 with value: 0.5701837389739888.\u001b[0m\n"
     ]
    },
    {
     "name": "stdout",
     "output_type": "stream",
     "text": [
      "fold|split:4,roc:0.5682517923845108\n",
      "fold|split:0,roc:0.576088283064406\n",
      "fold|split:1,roc:0.5749744565373217\n",
      "fold|split:2,roc:0.5794155952579729\n",
      "fold|split:3,roc:0.5771567064871457\n"
     ]
    },
    {
     "name": "stderr",
     "output_type": "stream",
     "text": [
      "\u001b[32m[I 2022-01-26 11:57:01,348]\u001b[0m Trial 11 finished with value: 0.5683816411043442 and parameters: {'lambda_l1': 0.16904602908787356, 'lambda_l2': 1.4032507997030046e-07, 'num_leaves': 19, 'feature_fraction': 0.503041295961596, 'bagging_fraction': 0.9114154356799571, 'bagging_freq': 4, 'min_child_samples': 98, 'min_data_in_leaf': 1000, 'max_depth': 100}. Best is trial 1 with value: 0.5701837389739888.\u001b[0m\n"
     ]
    },
    {
     "name": "stdout",
     "output_type": "stream",
     "text": [
      "fold|split:4,roc:0.5683816411043442\n",
      "fold|split:0,roc:0.5775976495629193\n",
      "fold|split:1,roc:0.5724715513795493\n",
      "fold|split:2,roc:0.5778542816712795\n",
      "fold|split:3,roc:0.5755646968938002\n"
     ]
    },
    {
     "name": "stderr",
     "output_type": "stream",
     "text": [
      "\u001b[32m[I 2022-01-26 11:57:03,136]\u001b[0m Trial 12 finished with value: 0.5668465256934528 and parameters: {'lambda_l1': 8.149165658416864, 'lambda_l2': 6.548694243541266e-07, 'num_leaves': 45, 'feature_fraction': 0.5494280407680544, 'bagging_fraction': 0.7644070344683744, 'bagging_freq': 7, 'min_child_samples': 64, 'min_data_in_leaf': 800, 'max_depth': 200}. Best is trial 1 with value: 0.5701837389739888.\u001b[0m\n"
     ]
    },
    {
     "name": "stdout",
     "output_type": "stream",
     "text": [
      "fold|split:4,roc:0.5668465256934528\n",
      "fold|split:0,roc:0.5760533368414484\n",
      "fold|split:1,roc:0.5790114199264308\n",
      "fold|split:2,roc:0.5796218994081742\n",
      "fold|split:3,roc:0.5754721366275883\n"
     ]
    },
    {
     "name": "stderr",
     "output_type": "stream",
     "text": [
      "\u001b[32m[I 2022-01-26 11:57:04,679]\u001b[0m Trial 13 finished with value: 0.5684681169790591 and parameters: {'lambda_l1': 3.0711251373041175e-05, 'lambda_l2': 0.004503396390463284, 'num_leaves': 15, 'feature_fraction': 0.5297600861240133, 'bagging_fraction': 0.9607426126899508, 'bagging_freq': 4, 'min_child_samples': 33, 'min_data_in_leaf': 1000, 'max_depth': 200}. Best is trial 1 with value: 0.5701837389739888.\u001b[0m\n"
     ]
    },
    {
     "name": "stdout",
     "output_type": "stream",
     "text": [
      "fold|split:4,roc:0.5684681169790591\n",
      "fold|split:0,roc:0.5710909057177216\n",
      "fold|split:1,roc:0.5736796247666176\n",
      "fold|split:2,roc:0.5797461001735505\n",
      "fold|split:3,roc:0.5790452192656232\n"
     ]
    },
    {
     "name": "stderr",
     "output_type": "stream",
     "text": [
      "\u001b[32m[I 2022-01-26 11:57:06,105]\u001b[0m Trial 14 finished with value: 0.5682293302423267 and parameters: {'lambda_l1': 6.068822155097245e-08, 'lambda_l2': 7.2436248020315634, 'num_leaves': 27, 'feature_fraction': 0.5629584453535934, 'bagging_fraction': 0.591333306102246, 'bagging_freq': 2, 'min_child_samples': 82, 'min_data_in_leaf': 800, 'max_depth': 200}. Best is trial 1 with value: 0.5701837389739888.\u001b[0m\n"
     ]
    },
    {
     "name": "stdout",
     "output_type": "stream",
     "text": [
      "fold|split:4,roc:0.5682293302423267\n",
      "fold|split:0,roc:0.5722328646289241\n",
      "fold|split:1,roc:0.574588024172262\n",
      "fold|split:2,roc:0.5783142495248023\n",
      "fold|split:3,roc:0.5739428683225645\n"
     ]
    },
    {
     "name": "stderr",
     "output_type": "stream",
     "text": [
      "\u001b[32m[I 2022-01-26 11:57:07,565]\u001b[0m Trial 15 finished with value: 0.5683188415416611 and parameters: {'lambda_l1': 0.03363767604442814, 'lambda_l2': 0.0003033737610401944, 'num_leaves': 40, 'feature_fraction': 0.727387571759123, 'bagging_fraction': 0.85761270482581, 'bagging_freq': 5, 'min_child_samples': 60, 'min_data_in_leaf': 600, 'max_depth': 200}. Best is trial 1 with value: 0.5701837389739888.\u001b[0m\n"
     ]
    },
    {
     "name": "stdout",
     "output_type": "stream",
     "text": [
      "fold|split:4,roc:0.5683188415416611\n",
      "fold|split:0,roc:0.5676923518032218\n",
      "fold|split:1,roc:0.5708568065021563\n",
      "fold|split:2,roc:0.5720652846717298\n",
      "fold|split:3,roc:0.5671596580262468\n"
     ]
    },
    {
     "name": "stderr",
     "output_type": "stream",
     "text": [
      "\u001b[32m[I 2022-01-26 11:57:08,934]\u001b[0m Trial 16 finished with value: 0.5590871034656184 and parameters: {'lambda_l1': 7.267080236155444e-05, 'lambda_l2': 1.6032660243683424e-08, 'num_leaves': 50, 'feature_fraction': 0.4749504600638693, 'bagging_fraction': 0.7547191551687737, 'bagging_freq': 7, 'min_child_samples': 36, 'min_data_in_leaf': 100, 'max_depth': 100}. Best is trial 1 with value: 0.5701837389739888.\u001b[0m\n"
     ]
    },
    {
     "name": "stdout",
     "output_type": "stream",
     "text": [
      "fold|split:4,roc:0.5590871034656184\n",
      "fold|split:0,roc:0.5758373179111199\n",
      "fold|split:1,roc:0.5775010414716543\n",
      "fold|split:2,roc:0.5807249317351171\n",
      "fold|split:3,roc:0.5767179222514003\n"
     ]
    },
    {
     "name": "stderr",
     "output_type": "stream",
     "text": [
      "\u001b[32m[I 2022-01-26 11:57:10,228]\u001b[0m Trial 17 finished with value: 0.5692316274516787 and parameters: {'lambda_l1': 9.18927103277949e-07, 'lambda_l2': 2.8996413020855455e-06, 'num_leaves': 11, 'feature_fraction': 0.6048190562276783, 'bagging_fraction': 0.7173006232891168, 'bagging_freq': 3, 'min_child_samples': 69, 'min_data_in_leaf': 900, 'max_depth': 300}. Best is trial 1 with value: 0.5701837389739888.\u001b[0m\n"
     ]
    },
    {
     "name": "stdout",
     "output_type": "stream",
     "text": [
      "fold|split:4,roc:0.5692316274516787\n",
      "fold|split:0,roc:0.575304556670394\n",
      "fold|split:1,roc:0.5801667366603083\n",
      "fold|split:2,roc:0.5809403434916875\n",
      "fold|split:3,roc:0.5770698806397587\n"
     ]
    },
    {
     "name": "stderr",
     "output_type": "stream",
     "text": [
      "\u001b[32m[I 2022-01-26 11:57:11,749]\u001b[0m Trial 18 finished with value: 0.5684664306320484 and parameters: {'lambda_l1': 9.132678267240787e-07, 'lambda_l2': 2.208778232651412e-06, 'num_leaves': 10, 'feature_fraction': 0.4669005373744142, 'bagging_fraction': 0.916865059674058, 'bagging_freq': 3, 'min_child_samples': 53, 'min_data_in_leaf': 900, 'max_depth': 300}. Best is trial 1 with value: 0.5701837389739888.\u001b[0m\n"
     ]
    },
    {
     "name": "stdout",
     "output_type": "stream",
     "text": [
      "fold|split:4,roc:0.5684664306320484\n",
      "fold|split:0,roc:0.5732805766801425\n",
      "fold|split:1,roc:0.5756166439819804\n",
      "fold|split:2,roc:0.5801296990610731\n",
      "fold|split:3,roc:0.5785713538794186\n"
     ]
    },
    {
     "name": "stderr",
     "output_type": "stream",
     "text": [
      "\u001b[32m[I 2022-01-26 11:57:13,109]\u001b[0m Trial 19 finished with value: 0.5693430612621538 and parameters: {'lambda_l1': 1.0616520724480187e-06, 'lambda_l2': 8.601170448462278e-08, 'num_leaves': 10, 'feature_fraction': 0.40288913026294, 'bagging_fraction': 0.6122526459249262, 'bagging_freq': 2, 'min_child_samples': 69, 'min_data_in_leaf': 700, 'max_depth': 400}. Best is trial 1 with value: 0.5701837389739888.\u001b[0m\n"
     ]
    },
    {
     "name": "stdout",
     "output_type": "stream",
     "text": [
      "fold|split:4,roc:0.5693430612621538\n",
      "fold|split:0,roc:0.5765211304900736\n",
      "fold|split:1,roc:0.5780132262683607\n",
      "fold|split:2,roc:0.5777723806777071\n",
      "fold|split:3,roc:0.57505069057582\n"
     ]
    },
    {
     "name": "stderr",
     "output_type": "stream",
     "text": [
      "\u001b[32m[I 2022-01-26 11:57:14,383]\u001b[0m Trial 20 finished with value: 0.5662154946420034 and parameters: {'lambda_l1': 1.0872880361988238e-08, 'lambda_l2': 1.799212915159691e-07, 'num_leaves': 25, 'feature_fraction': 0.4025743925285528, 'bagging_fraction': 0.6028645180882471, 'bagging_freq': 1, 'min_child_samples': 41, 'min_data_in_leaf': 500, 'max_depth': 400}. Best is trial 1 with value: 0.5701837389739888.\u001b[0m\n"
     ]
    },
    {
     "name": "stdout",
     "output_type": "stream",
     "text": [
      "fold|split:4,roc:0.5662154946420034\n",
      "fold|split:0,roc:0.5745519310655394\n",
      "fold|split:1,roc:0.5743792913270289\n",
      "fold|split:2,roc:0.5825725614805595\n",
      "fold|split:3,roc:0.5782598737415903\n"
     ]
    },
    {
     "name": "stderr",
     "output_type": "stream",
     "text": [
      "\u001b[32m[I 2022-01-26 11:57:15,747]\u001b[0m Trial 21 finished with value: 0.5701063019192518 and parameters: {'lambda_l1': 1.2254511282767717e-06, 'lambda_l2': 1.2958179707071024e-07, 'num_leaves': 9, 'feature_fraction': 0.4748525013432825, 'bagging_fraction': 0.512690451062386, 'bagging_freq': 2, 'min_child_samples': 69, 'min_data_in_leaf': 700, 'max_depth': 300}. Best is trial 1 with value: 0.5701837389739888.\u001b[0m\n"
     ]
    },
    {
     "name": "stdout",
     "output_type": "stream",
     "text": [
      "fold|split:4,roc:0.5701063019192518\n",
      "fold|split:0,roc:0.5749087468439615\n",
      "fold|split:1,roc:0.5726980946550158\n",
      "fold|split:2,roc:0.5818680375300846\n",
      "fold|split:3,roc:0.579903695495614\n"
     ]
    },
    {
     "name": "stderr",
     "output_type": "stream",
     "text": [
      "\u001b[32m[I 2022-01-26 11:57:17,131]\u001b[0m Trial 22 finished with value: 0.5716472858177407 and parameters: {'lambda_l1': 0.0002327135385401103, 'lambda_l2': 5.850562790194026e-08, 'num_leaves': 7, 'feature_fraction': 0.4814612171746773, 'bagging_fraction': 0.5087313302209575, 'bagging_freq': 2, 'min_child_samples': 54, 'min_data_in_leaf': 700, 'max_depth': 400}. Best is trial 22 with value: 0.5716472858177407.\u001b[0m\n"
     ]
    },
    {
     "name": "stdout",
     "output_type": "stream",
     "text": [
      "fold|split:4,roc:0.5716472858177407\n",
      "fold|split:0,roc:0.5724384941416165\n",
      "fold|split:1,roc:0.5738110441533383\n",
      "fold|split:2,roc:0.5784096432685513\n",
      "fold|split:3,roc:0.5761374641387998\n"
     ]
    },
    {
     "name": "stderr",
     "output_type": "stream",
     "text": [
      "\u001b[32m[I 2022-01-26 11:57:18,417]\u001b[0m Trial 23 finished with value: 0.5676895642911028 and parameters: {'lambda_l1': 0.00024978833000656036, 'lambda_l2': 5.1090845572089154e-08, 'num_leaves': 4, 'feature_fraction': 0.476093795108427, 'bagging_fraction': 0.5089428277749961, 'bagging_freq': 2, 'min_child_samples': 53, 'min_data_in_leaf': 700, 'max_depth': 300}. Best is trial 22 with value: 0.5716472858177407.\u001b[0m\n"
     ]
    },
    {
     "name": "stdout",
     "output_type": "stream",
     "text": [
      "fold|split:4,roc:0.5676895642911028\n",
      "fold|split:0,roc:0.5734111190381018\n",
      "fold|split:1,roc:0.5739593969415309\n",
      "fold|split:2,roc:0.5749585350921134\n",
      "fold|split:3,roc:0.5761589850753317\n"
     ]
    },
    {
     "name": "stderr",
     "output_type": "stream",
     "text": [
      "\u001b[32m[I 2022-01-26 11:57:19,773]\u001b[0m Trial 24 finished with value: 0.5643771740385664 and parameters: {'lambda_l1': 0.00011940431819517747, 'lambda_l2': 5.670286485919113e-07, 'num_leaves': 19, 'feature_fraction': 0.5231495808387117, 'bagging_fraction': 0.42308028142925685, 'bagging_freq': 1, 'min_child_samples': 51, 'min_data_in_leaf': 600, 'max_depth': 400}. Best is trial 22 with value: 0.5716472858177407.\u001b[0m\n"
     ]
    },
    {
     "name": "stdout",
     "output_type": "stream",
     "text": [
      "fold|split:4,roc:0.5643771740385664\n",
      "fold|split:0,roc:0.5742729009918859\n",
      "fold|split:1,roc:0.5742772186719423\n",
      "fold|split:2,roc:0.5835729139786578\n",
      "fold|split:3,roc:0.5833356439668012\n"
     ]
    },
    {
     "name": "stderr",
     "output_type": "stream",
     "text": [
      "\u001b[32m[I 2022-01-26 11:57:21,220]\u001b[0m Trial 25 finished with value: 0.5713446877101188 and parameters: {'lambda_l1': 0.010086045245125847, 'lambda_l2': 1.217446975596112e-05, 'num_leaves': 9, 'feature_fraction': 0.4588609231522055, 'bagging_fraction': 0.512037547527713, 'bagging_freq': 4, 'min_child_samples': 57, 'min_data_in_leaf': 500, 'max_depth': 300}. Best is trial 22 with value: 0.5716472858177407.\u001b[0m\n"
     ]
    },
    {
     "name": "stdout",
     "output_type": "stream",
     "text": [
      "fold|split:4,roc:0.5713446877101188\n",
      "fold|split:0,roc:0.5764379476852344\n",
      "fold|split:1,roc:0.5778206847233396\n",
      "fold|split:2,roc:0.578462399921742\n",
      "fold|split:3,roc:0.5774748655363116\n"
     ]
    },
    {
     "name": "stderr",
     "output_type": "stream",
     "text": [
      "\u001b[32m[I 2022-01-26 11:57:22,398]\u001b[0m Trial 26 finished with value: 0.5686857231973355 and parameters: {'lambda_l1': 0.009353717602384485, 'lambda_l2': 1.4797512030497956e-05, 'num_leaves': 6, 'feature_fraction': 0.573637447958737, 'bagging_fraction': 0.4448613665420125, 'bagging_freq': 4, 'min_child_samples': 28, 'min_data_in_leaf': 500, 'max_depth': 200}. Best is trial 22 with value: 0.5716472858177407.\u001b[0m\n"
     ]
    },
    {
     "name": "stdout",
     "output_type": "stream",
     "text": [
      "fold|split:4,roc:0.5686857231973355\n",
      "fold|split:0,roc:0.5708959354776686\n",
      "fold|split:1,roc:0.5715788035641101\n",
      "fold|split:2,roc:0.5815722089824611\n",
      "fold|split:3,roc:0.5747425836255357\n"
     ]
    },
    {
     "name": "stderr",
     "output_type": "stream",
     "text": [
      "\u001b[32m[I 2022-01-26 11:57:23,648]\u001b[0m Trial 27 finished with value: 0.5686101073973703 and parameters: {'lambda_l1': 0.0009132751019746287, 'lambda_l2': 0.00036925878176315244, 'num_leaves': 14, 'feature_fraction': 0.4467907583815685, 'bagging_fraction': 0.5469056129170651, 'bagging_freq': 4, 'min_child_samples': 57, 'min_data_in_leaf': 400, 'max_depth': 400}. Best is trial 22 with value: 0.5716472858177407.\u001b[0m\n"
     ]
    },
    {
     "name": "stdout",
     "output_type": "stream",
     "text": [
      "fold|split:4,roc:0.5686101073973703\n",
      "fold|split:0,roc:0.5706209532290681\n",
      "fold|split:1,roc:0.5810864699761009\n",
      "fold|split:2,roc:0.5756059172455901\n",
      "fold|split:3,roc:0.5775928596366066\n"
     ]
    },
    {
     "name": "stderr",
     "output_type": "stream",
     "text": [
      "\u001b[32m[I 2022-01-26 11:57:24,871]\u001b[0m Trial 28 finished with value: 0.5667409603705754 and parameters: {'lambda_l1': 0.034864531410011876, 'lambda_l2': 8.063966614681359e-07, 'num_leaves': 22, 'feature_fraction': 0.5032107734875053, 'bagging_fraction': 0.4701855150103911, 'bagging_freq': 5, 'min_child_samples': 47, 'min_data_in_leaf': 500, 'max_depth': 300}. Best is trial 22 with value: 0.5716472858177407.\u001b[0m\n"
     ]
    },
    {
     "name": "stdout",
     "output_type": "stream",
     "text": [
      "fold|split:4,roc:0.5667409603705754\n",
      "fold|split:0,roc:0.5721909696396256\n",
      "fold|split:1,roc:0.5674303225947908\n",
      "fold|split:2,roc:0.5772697757336261\n",
      "fold|split:3,roc:0.5757355825747877\n"
     ]
    },
    {
     "name": "stderr",
     "output_type": "stream",
     "text": [
      "\u001b[32m[I 2022-01-26 11:57:26,278]\u001b[0m Trial 29 finished with value: 0.5645724530224194 and parameters: {'lambda_l1': 0.006464494027268231, 'lambda_l2': 1.2582987914924243e-05, 'num_leaves': 30, 'feature_fraction': 0.7008967349960483, 'bagging_fraction': 0.5431274764958043, 'bagging_freq': 3, 'min_child_samples': 38, 'min_data_in_leaf': 300, 'max_depth': 300}. Best is trial 22 with value: 0.5716472858177407.\u001b[0m\n"
     ]
    },
    {
     "name": "stdout",
     "output_type": "stream",
     "text": [
      "fold|split:4,roc:0.5645724530224194\n",
      "fold|split:0,roc:0.5749336409680373\n",
      "fold|split:1,roc:0.5725889383060864\n",
      "fold|split:2,roc:0.578208533827168\n",
      "fold|split:3,roc:0.5734941669154392\n"
     ]
    },
    {
     "name": "stderr",
     "output_type": "stream",
     "text": [
      "\u001b[32m[I 2022-01-26 11:57:27,869]\u001b[0m Trial 30 finished with value: 0.5678604924241197 and parameters: {'lambda_l1': 0.00030561172180022274, 'lambda_l2': 0.00010104128706661218, 'num_leaves': 35, 'feature_fraction': 0.639386333948383, 'bagging_fraction': 0.821211695386302, 'bagging_freq': 3, 'min_child_samples': 46, 'min_data_in_leaf': 600, 'max_depth': 200}. Best is trial 22 with value: 0.5716472858177407.\u001b[0m\n"
     ]
    },
    {
     "name": "stdout",
     "output_type": "stream",
     "text": [
      "fold|split:4,roc:0.5678604924241197\n",
      "fold|split:0,roc:0.572605939171309\n",
      "fold|split:1,roc:0.5750851645525213\n",
      "fold|split:2,roc:0.5815431321058304\n",
      "fold|split:3,roc:0.5768267412815751\n"
     ]
    },
    {
     "name": "stderr",
     "output_type": "stream",
     "text": [
      "\u001b[32m[I 2022-01-26 11:57:29,272]\u001b[0m Trial 31 finished with value: 0.5694962490246168 and parameters: {'lambda_l1': 5.734181572744375e-06, 'lambda_l2': 3.4431600339481897e-08, 'num_leaves': 9, 'feature_fraction': 0.45015078734493913, 'bagging_fraction': 0.5340017113972675, 'bagging_freq': 2, 'min_child_samples': 70, 'min_data_in_leaf': 700, 'max_depth': 300}. Best is trial 22 with value: 0.5716472858177407.\u001b[0m\n"
     ]
    },
    {
     "name": "stdout",
     "output_type": "stream",
     "text": [
      "fold|split:4,roc:0.5694962490246168\n",
      "fold|split:0,roc:0.5718920377594614\n",
      "fold|split:1,roc:0.5746333598128556\n",
      "fold|split:2,roc:0.5804079870334671\n",
      "fold|split:3,roc:0.5798676023888913\n"
     ]
    },
    {
     "name": "stderr",
     "output_type": "stream",
     "text": [
      "\u001b[32m[I 2022-01-26 11:57:30,755]\u001b[0m Trial 32 finished with value: 0.568379145310768 and parameters: {'lambda_l1': 0.0012532366243054763, 'lambda_l2': 3.0503052320857934e-07, 'num_leaves': 15, 'feature_fraction': 0.502463193026481, 'bagging_fraction': 0.6320114223941982, 'bagging_freq': 2, 'min_child_samples': 63, 'min_data_in_leaf': 800, 'max_depth': 400}. Best is trial 22 with value: 0.5716472858177407.\u001b[0m\n"
     ]
    },
    {
     "name": "stdout",
     "output_type": "stream",
     "text": [
      "fold|split:4,roc:0.568379145310768\n",
      "fold|split:0,roc:0.567040685701564\n",
      "fold|split:1,roc:0.5661003759417518\n",
      "fold|split:2,roc:0.5683394641016949\n",
      "fold|split:3,roc:0.5703030640349057\n"
     ]
    },
    {
     "name": "stderr",
     "output_type": "stream",
     "text": [
      "\u001b[32m[I 2022-01-26 11:57:31,958]\u001b[0m Trial 33 finished with value: 0.5586878102203962 and parameters: {'lambda_l1': 0.08019439293804793, 'lambda_l2': 2.350830935752404e-06, 'num_leaves': 2, 'feature_fraction': 0.4412465011016514, 'bagging_fraction': 0.46886664957664054, 'bagging_freq': 1, 'min_child_samples': 55, 'min_data_in_leaf': 600, 'max_depth': 300}. Best is trial 22 with value: 0.5716472858177407.\u001b[0m\n"
     ]
    },
    {
     "name": "stdout",
     "output_type": "stream",
     "text": [
      "fold|split:4,roc:0.5586878102203962\n",
      "fold|split:0,roc:0.5748769039535444\n",
      "fold|split:1,roc:0.5748167262877565\n",
      "fold|split:2,roc:0.5807721563607354\n",
      "fold|split:3,roc:0.575577582470219\n"
     ]
    },
    {
     "name": "stderr",
     "output_type": "stream",
     "text": [
      "\u001b[32m[I 2022-01-26 11:57:33,514]\u001b[0m Trial 34 finished with value: 0.5686289944838915 and parameters: {'lambda_l1': 4.462258053210703e-05, 'lambda_l2': 5.0441067030435614e-08, 'num_leaves': 7, 'feature_fraction': 0.48734583796436814, 'bagging_fraction': 0.6596756344363894, 'bagging_freq': 4, 'min_child_samples': 75, 'min_data_in_leaf': 500, 'max_depth': 400}. Best is trial 22 with value: 0.5716472858177407.\u001b[0m\n"
     ]
    },
    {
     "name": "stdout",
     "output_type": "stream",
     "text": [
      "fold|split:4,roc:0.5686289944838915\n",
      "fold|split:0,roc:0.5704676081233102\n",
      "fold|split:1,roc:0.5750502857933146\n",
      "fold|split:2,roc:0.5808669429307265\n",
      "fold|split:3,roc:0.5741608437016685\n"
     ]
    },
    {
     "name": "stderr",
     "output_type": "stream",
     "text": [
      "\u001b[32m[I 2022-01-26 11:57:34,822]\u001b[0m Trial 35 finished with value: 0.5688218451280491 and parameters: {'lambda_l1': 1.5087436601540746e-07, 'lambda_l2': 8.775287683536845e-06, 'num_leaves': 13, 'feature_fraction': 0.42497275034469756, 'bagging_fraction': 0.4836112371332034, 'bagging_freq': 2, 'min_child_samples': 86, 'min_data_in_leaf': 300, 'max_depth': 300}. Best is trial 22 with value: 0.5716472858177407.\u001b[0m\n"
     ]
    },
    {
     "name": "stdout",
     "output_type": "stream",
     "text": [
      "fold|split:4,roc:0.5688218451280491\n",
      "fold|split:0,roc:0.5741845234782286\n",
      "fold|split:1,roc:0.5738148221233877\n",
      "fold|split:2,roc:0.5797316629308614\n",
      "fold|split:3,roc:0.57862033256256\n"
     ]
    },
    {
     "name": "stderr",
     "output_type": "stream",
     "text": [
      "\u001b[32m[I 2022-01-26 11:57:36,107]\u001b[0m Trial 36 finished with value: 0.570408967480754 and parameters: {'lambda_l1': 0.000485877154448391, 'lambda_l2': 1.0573655121590104e-08, 'num_leaves': 6, 'feature_fraction': 0.5722850191600016, 'bagging_fraction': 0.5672502627922205, 'bagging_freq': 1, 'min_child_samples': 5, 'min_data_in_leaf': 700, 'max_depth': 500}. Best is trial 22 with value: 0.5716472858177407.\u001b[0m\n"
     ]
    },
    {
     "name": "stdout",
     "output_type": "stream",
     "text": [
      "fold|split:4,roc:0.570408967480754\n",
      "fold|split:0,roc:0.5743850257458539\n",
      "fold|split:1,roc:0.575101322120858\n",
      "fold|split:2,roc:0.5790945352675191\n",
      "fold|split:3,roc:0.5762881781582734\n"
     ]
    },
    {
     "name": "stderr",
     "output_type": "stream",
     "text": [
      "\u001b[32m[I 2022-01-26 11:57:37,473]\u001b[0m Trial 37 finished with value: 0.5680082838761482 and parameters: {'lambda_l1': 0.004015651006336248, 'lambda_l2': 3.06273791550276e-08, 'num_leaves': 4, 'feature_fraction': 0.5733499011772081, 'bagging_fraction': 0.5686720837010909, 'bagging_freq': 1, 'min_child_samples': 10, 'min_data_in_leaf': 400, 'max_depth': 500}. Best is trial 22 with value: 0.5716472858177407.\u001b[0m\n"
     ]
    },
    {
     "name": "stdout",
     "output_type": "stream",
     "text": [
      "fold|split:4,roc:0.5680082838761482\n",
      "fold|split:0,roc:0.5726197017764892\n",
      "fold|split:1,roc:0.5764940100622185\n",
      "fold|split:2,roc:0.5808344254028008\n",
      "fold|split:3,roc:0.5741597305497791\n"
     ]
    },
    {
     "name": "stderr",
     "output_type": "stream",
     "text": [
      "\u001b[32m[I 2022-01-26 11:57:38,875]\u001b[0m Trial 38 finished with value: 0.5686857906512159 and parameters: {'lambda_l1': 0.0005361649456209367, 'lambda_l2': 1.2566887286954607e-08, 'num_leaves': 6, 'feature_fraction': 0.5367807926952091, 'bagging_fraction': 0.40796013942444437, 'bagging_freq': 1, 'min_child_samples': 16, 'min_data_in_leaf': 900, 'max_depth': 500}. Best is trial 22 with value: 0.5716472858177407.\u001b[0m\n"
     ]
    },
    {
     "name": "stdout",
     "output_type": "stream",
     "text": [
      "fold|split:4,roc:0.5686857906512159\n",
      "fold|split:0,roc:0.5645048582333605\n",
      "fold|split:1,roc:0.5642115595763951\n",
      "fold|split:2,roc:0.5685010397850605\n",
      "fold|split:3,roc:0.5711138771248974\n"
     ]
    },
    {
     "name": "stderr",
     "output_type": "stream",
     "text": [
      "\u001b[32m[I 2022-01-26 11:57:39,932]\u001b[0m Trial 39 finished with value: 0.5593523321234806 and parameters: {'lambda_l1': 0.0024079675336735338, 'lambda_l2': 1.186952850977112e-06, 'num_leaves': 2, 'feature_fraction': 0.7830437600676504, 'bagging_fraction': 0.44258477499033966, 'bagging_freq': 5, 'min_child_samples': 49, 'min_data_in_leaf': 800, 'max_depth': 500}. Best is trial 22 with value: 0.5716472858177407.\u001b[0m\n"
     ]
    },
    {
     "name": "stdout",
     "output_type": "stream",
     "text": [
      "fold|split:4,roc:0.5593523321234806\n",
      "fold|split:0,roc:0.5741373663163611\n",
      "fold|split:1,roc:0.5759034323869856\n",
      "fold|split:2,roc:0.5772967612339794\n",
      "fold|split:3,roc:0.5777445181485923\n"
     ]
    },
    {
     "name": "stderr",
     "output_type": "stream",
     "text": [
      "\u001b[32m[I 2022-01-26 11:57:41,338]\u001b[0m Trial 40 finished with value: 0.5657403495082343 and parameters: {'lambda_l1': 0.00018675527463239778, 'lambda_l2': 2.1352763915164083e-07, 'num_leaves': 18, 'feature_fraction': 0.5935176158159161, 'bagging_fraction': 0.6965391908388565, 'bagging_freq': 6, 'min_child_samples': 23, 'min_data_in_leaf': 700, 'max_depth': 500}. Best is trial 22 with value: 0.5716472858177407.\u001b[0m\n"
     ]
    },
    {
     "name": "stdout",
     "output_type": "stream",
     "text": [
      "fold|split:4,roc:0.5657403495082343\n",
      "fold|split:0,roc:0.575017700801638\n",
      "fold|split:1,roc:0.5704534407356248\n",
      "fold|split:2,roc:0.5829172337838225\n",
      "fold|split:3,roc:0.5774249423606579\n"
     ]
    },
    {
     "name": "stderr",
     "output_type": "stream",
     "text": [
      "\u001b[32m[I 2022-01-26 11:57:42,553]\u001b[0m Trial 41 finished with value: 0.5683794151262898 and parameters: {'lambda_l1': 2.046885891543243e-05, 'lambda_l2': 1.0040076086995116e-08, 'num_leaves': 8, 'feature_fraction': 0.4428112711020704, 'bagging_fraction': 0.5173780632852378, 'bagging_freq': 1, 'min_child_samples': 6, 'min_data_in_leaf': 700, 'max_depth': 400}. Best is trial 22 with value: 0.5716472858177407.\u001b[0m\n"
     ]
    },
    {
     "name": "stdout",
     "output_type": "stream",
     "text": [
      "fold|split:4,roc:0.5683794151262898\n",
      "fold|split:0,roc:0.5722353607877068\n",
      "fold|split:1,roc:0.5749198108991063\n",
      "fold|split:2,roc:0.5802261047610855\n",
      "fold|split:3,roc:0.5776007528954599\n"
     ]
    },
    {
     "name": "stderr",
     "output_type": "stream",
     "text": [
      "\u001b[32m[I 2022-01-26 11:57:43,823]\u001b[0m Trial 42 finished with value: 0.5683860930604527 and parameters: {'lambda_l1': 0.019312910517803886, 'lambda_l2': 1.0387360681892255e-07, 'num_leaves': 13, 'feature_fraction': 0.6578427813659503, 'bagging_fraction': 0.5716531693130319, 'bagging_freq': 2, 'min_child_samples': 42, 'min_data_in_leaf': 800, 'max_depth': 400}. Best is trial 22 with value: 0.5716472858177407.\u001b[0m\n"
     ]
    },
    {
     "name": "stdout",
     "output_type": "stream",
     "text": [
      "fold|split:4,roc:0.5683860930604527\n",
      "fold|split:0,roc:0.5748311297985702\n",
      "fold|split:1,roc:0.5744823084746277\n",
      "fold|split:2,roc:0.5799729807677713\n",
      "fold|split:3,roc:0.579896746729273\n"
     ]
    },
    {
     "name": "stderr",
     "output_type": "stream",
     "text": [
      "\u001b[32m[I 2022-01-26 11:57:45,145]\u001b[0m Trial 43 finished with value: 0.5661840611337217 and parameters: {'lambda_l1': 0.0005724052085648086, 'lambda_l2': 3.7875567390353943e-07, 'num_leaves': 6, 'feature_fraction': 0.9467567045762357, 'bagging_fraction': 0.5090520203505695, 'bagging_freq': 5, 'min_child_samples': 65, 'min_data_in_leaf': 700, 'max_depth': 300}. Best is trial 22 with value: 0.5716472858177407.\u001b[0m\n"
     ]
    },
    {
     "name": "stdout",
     "output_type": "stream",
     "text": [
      "fold|split:4,roc:0.5661840611337217\n",
      "fold|split:0,roc:0.5711504087460006\n",
      "fold|split:1,roc:0.573426028527047\n",
      "fold|split:2,roc:0.577679887875246\n",
      "fold|split:3,roc:0.5759004639819467\n"
     ]
    },
    {
     "name": "stderr",
     "output_type": "stream",
     "text": [
      "\u001b[32m[I 2022-01-26 11:57:46,519]\u001b[0m Trial 44 finished with value: 0.5694435675439988 and parameters: {'lambda_l1': 2.923780583748266e-06, 'lambda_l2': 5.318475796807141e-06, 'num_leaves': 23, 'feature_fraction': 0.5199786513569595, 'bagging_fraction': 0.6331588241905778, 'bagging_freq': 3, 'min_child_samples': 58, 'min_data_in_leaf': 600, 'max_depth': 100}. Best is trial 22 with value: 0.5716472858177407.\u001b[0m\n"
     ]
    },
    {
     "name": "stdout",
     "output_type": "stream",
     "text": [
      "fold|split:4,roc:0.5694435675439988\n",
      "fold|split:0,roc:0.5722539807829505\n",
      "fold|split:1,roc:0.5723148330862473\n",
      "fold|split:2,roc:0.5781862033256255\n",
      "fold|split:3,roc:0.5723984206735918\n"
     ]
    },
    {
     "name": "stderr",
     "output_type": "stream",
     "text": [
      "\u001b[32m[I 2022-01-26 11:57:47,888]\u001b[0m Trial 45 finished with value: 0.5703761174409832 and parameters: {'lambda_l1': 0.0017513171604963153, 'lambda_l2': 7.942189269993914e-08, 'num_leaves': 17, 'feature_fraction': 0.4224069681478435, 'bagging_fraction': 0.4480353142443449, 'bagging_freq': 6, 'min_child_samples': 73, 'min_data_in_leaf': 900, 'max_depth': 200}. Best is trial 22 with value: 0.5716472858177407.\u001b[0m\n"
     ]
    },
    {
     "name": "stdout",
     "output_type": "stream",
     "text": [
      "fold|split:4,roc:0.5703761174409832\n",
      "fold|split:0,roc:0.574262309182997\n",
      "fold|split:1,roc:0.5717172391809225\n",
      "fold|split:2,roc:0.5775806486976965\n",
      "fold|split:3,roc:0.5753990059216307\n"
     ]
    },
    {
     "name": "stderr",
     "output_type": "stream",
     "text": [
      "\u001b[32m[I 2022-01-26 11:57:49,118]\u001b[0m Trial 46 finished with value: 0.5671400849810968 and parameters: {'lambda_l1': 0.0016908983288163866, 'lambda_l2': 2.8362149019060178e-08, 'num_leaves': 16, 'feature_fraction': 0.41651573258051144, 'bagging_fraction': 0.4517600559843722, 'bagging_freq': 6, 'min_child_samples': 91, 'min_data_in_leaf': 1000, 'max_depth': 200}. Best is trial 22 with value: 0.5716472858177407.\u001b[0m\n"
     ]
    },
    {
     "name": "stdout",
     "output_type": "stream",
     "text": [
      "fold|split:4,roc:0.5671400849810968\n",
      "fold|split:0,roc:0.5721816596420036\n",
      "fold|split:1,roc:0.5755160555294133\n",
      "fold|split:2,roc:0.5801390090586951\n",
      "fold|split:3,roc:0.5703256643914516\n"
     ]
    },
    {
     "name": "stderr",
     "output_type": "stream",
     "text": [
      "\u001b[32m[I 2022-01-26 11:57:50,501]\u001b[0m Trial 47 finished with value: 0.5666547543113822 and parameters: {'lambda_l1': 0.4932620622599315, 'lambda_l2': 2.9912195341537668e-05, 'num_leaves': 11, 'feature_fraction': 0.5013641594625532, 'bagging_fraction': 0.48682505158511746, 'bagging_freq': 7, 'min_child_samples': 31, 'min_data_in_leaf': 900, 'max_depth': 200}. Best is trial 22 with value: 0.5716472858177407.\u001b[0m\n"
     ]
    },
    {
     "name": "stdout",
     "output_type": "stream",
     "text": [
      "fold|split:4,roc:0.5666547543113822\n",
      "fold|split:0,roc:0.5741595281585263\n",
      "fold|split:1,roc:0.5745869447522478\n",
      "fold|split:2,roc:0.5775149390043363\n"
     ]
    },
    {
     "name": "stderr",
     "output_type": "stream",
     "text": [
      "\u001b[32m[I 2022-01-26 11:57:51,657]\u001b[0m Trial 48 finished with value: 0.5642018614033213 and parameters: {'lambda_l1': 0.01131996569617726, 'lambda_l2': 0.039491643743949666, 'num_leaves': 4, 'feature_fraction': 0.4593897364618621, 'bagging_fraction': 0.40150051880167814, 'bagging_freq': 6, 'min_child_samples': 76, 'min_data_in_leaf': 1000, 'max_depth': 100}. Best is trial 22 with value: 0.5716472858177407.\u001b[0m\n"
     ]
    },
    {
     "name": "stdout",
     "output_type": "stream",
     "text": [
      "fold|split:3,roc:0.5722117822067729\n",
      "fold|split:4,roc:0.5642018614033213\n",
      "fold|split:0,roc:0.5778324234159933\n",
      "fold|split:1,roc:0.5777436411198309\n",
      "fold|split:2,roc:0.5775466469672514\n",
      "fold|split:3,roc:0.5763654916167856\n"
     ]
    },
    {
     "name": "stderr",
     "output_type": "stream",
     "text": [
      "\u001b[32m[I 2022-01-26 11:57:53,305]\u001b[0m Trial 49 finished with value: 0.5694445118983249 and parameters: {'lambda_l1': 9.043187748159588e-05, 'lambda_l2': 0.0012729957674815218, 'num_leaves': 17, 'feature_fraction': 0.6325244887781862, 'bagging_fraction': 0.9954783448215189, 'bagging_freq': 5, 'min_child_samples': 83, 'min_data_in_leaf': 900, 'max_depth': 500}. Best is trial 22 with value: 0.5716472858177407.\u001b[0m\n"
     ]
    },
    {
     "name": "stdout",
     "output_type": "stream",
     "text": [
      "fold|split:4,roc:0.5694445118983249\n"
     ]
    }
   ],
   "source": [
    "study = optuna.create_study(direction='maximize')\n",
    "study.optimize(objective, n_trials=50)"
   ]
  },
  {
   "cell_type": "code",
   "execution_count": null,
   "metadata": {
    "colab": {
     "background_save": true
    },
    "id": "hDNoZ-dxbfNc",
    "outputId": "2a8d6193-6f48-4967-978a-898f3d3f10be"
   },
   "outputs": [
    {
     "data": {
      "text/plain": [
       "{'bagging_fraction': 0.5087313302209575,\n",
       " 'bagging_freq': 2,\n",
       " 'feature_fraction': 0.4814612171746773,\n",
       " 'lambda_l1': 0.0002327135385401103,\n",
       " 'lambda_l2': 5.850562790194026e-08,\n",
       " 'max_depth': 400,\n",
       " 'min_child_samples': 54,\n",
       " 'min_data_in_leaf': 700,\n",
       " 'num_leaves': 7}"
      ]
     },
     "execution_count": null,
     "metadata": {},
     "output_type": "execute_result"
    }
   ],
   "source": [
    "study.best_params"
   ]
  },
  {
   "cell_type": "code",
   "execution_count": null,
   "metadata": {
    "colab": {
     "base_uri": "https://localhost:8080/"
    },
    "id": "qiPmarsec1aa",
    "outputId": "2932f6b3-571d-4a03-c4f8-9430837304b8"
   },
   "outputs": [
    {
     "name": "stdout",
     "output_type": "stream",
     "text": [
      "fold|split:0,roc:0.5770355415905591\n",
      "fold|split:1,roc:0.5737396675049038\n",
      "fold|split:2,roc:0.5744024988573327\n",
      "fold|split:3,roc:0.5681563000180465\n",
      "fold|split:4,roc:0.5634788232589614\n",
      "0.5713625662459607 0.004888926191848228\n"
     ]
    }
   ],
   "source": [
    "from sklearn.ensemble import GradientBoostingRegressor\n",
    "prediction = []\n",
    "score = []\n",
    "\n",
    "#parameters = study.best_params\n",
    "\n",
    "params={'alpha': 0.4275932000556265,\n",
    " 'colsample_bytree': 0.3303272480369658,\n",
    " 'eval_metric': 'mlogloss',\n",
    " 'lambda': 0.013685373489365672,\n",
    " 'learning_rate': 0.08882012188858979,\n",
    " 'max_depth': 17,\n",
    " 'min_child_weight': 223,\n",
    " 'subsample': 0.5807927818586308,\n",
    " 'n_estimators':5000,\n",
    " }\n",
    "\n",
    "for fold in range (5):\n",
    "    xtrain = df[df.kfold != fold].reset_index(drop=True)\n",
    "    xvalid = df[df.kfold == fold].reset_index(drop=True)\n",
    "    xtest = test.copy()\n",
    "    \n",
    "    ytrain = xtrain.song_popularity\n",
    "    yvalid = xvalid.song_popularity\n",
    "    \n",
    "    xtrain = xtrain[features]\n",
    "    xvalid = xvalid[features]\n",
    "    \n",
    "    lE = StandardScaler()\n",
    "    xtrain[features] = lE.fit_transform(xtrain[features])\n",
    "    xvalid[features] = lE.transform(xvalid[features])\n",
    "    xtest[features] = lE.transform(xtest[features])\n",
    "    \n",
    "    model= GradientBoostingRegressor()\n",
    "    model.fit(xtrain,ytrain)\n",
    "    preds_valid = model.predict(xvalid)\n",
    "    \n",
    "    #Training model apply the test data and predict the output\n",
    "    test_predict = model.predict(xtest)\n",
    "    prediction.append(test_predict)\n",
    "    roc1= roc_auc_score(yvalid,preds_valid)\n",
    "    #Score \n",
    "    score.append(roc1)\n",
    "    print(f\"fold|split:{fold},roc:{roc1}\")\n",
    "    \n",
    "print(np.mean(score),np.std(score))"
   ]
  },
  {
   "cell_type": "code",
   "execution_count": null,
   "metadata": {
    "colab": {
     "background_save": true
    },
    "id": "WfkaIDEhddiz"
   },
   "outputs": [],
   "source": [
    "#submission = pd.read_csv('sample_submission.csv')\n",
    "submission['song_popularity']= model.predict(test)\n",
    "submission.to_csv('lightgbreg_.csv',index=False)"
   ]
  },
  {
   "cell_type": "code",
   "execution_count": null,
   "metadata": {
    "colab": {
     "background_save": true
    },
    "id": "FrtviYGncEft",
    "outputId": "5677d11e-4175-4ca5-dbba-02180b798f7a"
   },
   "outputs": [
    {
     "ename": "FileNotFoundError",
     "evalue": "ignored",
     "output_type": "error",
     "traceback": [
      "\u001b[0;31m---------------------------------------------------------------------------\u001b[0m",
      "\u001b[0;31mFileNotFoundError\u001b[0m                         Traceback (most recent call last)",
      "\u001b[0;32m<ipython-input-56-c802ec6e6ffc>\u001b[0m in \u001b[0;36m<module>\u001b[0;34m()\u001b[0m\n\u001b[0;32m----> 1\u001b[0;31m \u001b[0msubmission\u001b[0m \u001b[0;34m=\u001b[0m \u001b[0mpd\u001b[0m\u001b[0;34m.\u001b[0m\u001b[0mread_csv\u001b[0m\u001b[0;34m(\u001b[0m\u001b[0;34m'sample_submission.csv'\u001b[0m\u001b[0;34m)\u001b[0m\u001b[0;34m\u001b[0m\u001b[0;34m\u001b[0m\u001b[0m\n\u001b[0m\u001b[1;32m      2\u001b[0m \u001b[0msubmission\u001b[0m\u001b[0;34m[\u001b[0m\u001b[0;34m'song_popularity'\u001b[0m\u001b[0;34m]\u001b[0m\u001b[0;34m=\u001b[0m \u001b[0mmodel\u001b[0m\u001b[0;34m.\u001b[0m\u001b[0mpredict\u001b[0m\u001b[0;34m(\u001b[0m\u001b[0mtest\u001b[0m\u001b[0;34m)\u001b[0m\u001b[0;34m\u001b[0m\u001b[0;34m\u001b[0m\u001b[0m\n\u001b[1;32m      3\u001b[0m \u001b[0msubmission\u001b[0m\u001b[0;34m.\u001b[0m\u001b[0mto_csv\u001b[0m\u001b[0;34m(\u001b[0m\u001b[0;34m'lgmb.csv'\u001b[0m\u001b[0;34m,\u001b[0m\u001b[0mindex\u001b[0m\u001b[0;34m=\u001b[0m\u001b[0;32mFalse\u001b[0m\u001b[0;34m)\u001b[0m\u001b[0;34m\u001b[0m\u001b[0;34m\u001b[0m\u001b[0m\n",
      "\u001b[0;32m/usr/local/lib/python3.7/dist-packages/pandas/io/parsers.py\u001b[0m in \u001b[0;36mread_csv\u001b[0;34m(filepath_or_buffer, sep, delimiter, header, names, index_col, usecols, squeeze, prefix, mangle_dupe_cols, dtype, engine, converters, true_values, false_values, skipinitialspace, skiprows, skipfooter, nrows, na_values, keep_default_na, na_filter, verbose, skip_blank_lines, parse_dates, infer_datetime_format, keep_date_col, date_parser, dayfirst, cache_dates, iterator, chunksize, compression, thousands, decimal, lineterminator, quotechar, quoting, doublequote, escapechar, comment, encoding, dialect, error_bad_lines, warn_bad_lines, delim_whitespace, low_memory, memory_map, float_precision)\u001b[0m\n\u001b[1;32m    686\u001b[0m     )\n\u001b[1;32m    687\u001b[0m \u001b[0;34m\u001b[0m\u001b[0m\n\u001b[0;32m--> 688\u001b[0;31m     \u001b[0;32mreturn\u001b[0m \u001b[0m_read\u001b[0m\u001b[0;34m(\u001b[0m\u001b[0mfilepath_or_buffer\u001b[0m\u001b[0;34m,\u001b[0m \u001b[0mkwds\u001b[0m\u001b[0;34m)\u001b[0m\u001b[0;34m\u001b[0m\u001b[0;34m\u001b[0m\u001b[0m\n\u001b[0m\u001b[1;32m    689\u001b[0m \u001b[0;34m\u001b[0m\u001b[0m\n\u001b[1;32m    690\u001b[0m \u001b[0;34m\u001b[0m\u001b[0m\n",
      "\u001b[0;32m/usr/local/lib/python3.7/dist-packages/pandas/io/parsers.py\u001b[0m in \u001b[0;36m_read\u001b[0;34m(filepath_or_buffer, kwds)\u001b[0m\n\u001b[1;32m    452\u001b[0m \u001b[0;34m\u001b[0m\u001b[0m\n\u001b[1;32m    453\u001b[0m     \u001b[0;31m# Create the parser.\u001b[0m\u001b[0;34m\u001b[0m\u001b[0;34m\u001b[0m\u001b[0;34m\u001b[0m\u001b[0m\n\u001b[0;32m--> 454\u001b[0;31m     \u001b[0mparser\u001b[0m \u001b[0;34m=\u001b[0m \u001b[0mTextFileReader\u001b[0m\u001b[0;34m(\u001b[0m\u001b[0mfp_or_buf\u001b[0m\u001b[0;34m,\u001b[0m \u001b[0;34m**\u001b[0m\u001b[0mkwds\u001b[0m\u001b[0;34m)\u001b[0m\u001b[0;34m\u001b[0m\u001b[0;34m\u001b[0m\u001b[0m\n\u001b[0m\u001b[1;32m    455\u001b[0m \u001b[0;34m\u001b[0m\u001b[0m\n\u001b[1;32m    456\u001b[0m     \u001b[0;32mif\u001b[0m \u001b[0mchunksize\u001b[0m \u001b[0;32mor\u001b[0m \u001b[0miterator\u001b[0m\u001b[0;34m:\u001b[0m\u001b[0;34m\u001b[0m\u001b[0;34m\u001b[0m\u001b[0m\n",
      "\u001b[0;32m/usr/local/lib/python3.7/dist-packages/pandas/io/parsers.py\u001b[0m in \u001b[0;36m__init__\u001b[0;34m(self, f, engine, **kwds)\u001b[0m\n\u001b[1;32m    946\u001b[0m             \u001b[0mself\u001b[0m\u001b[0;34m.\u001b[0m\u001b[0moptions\u001b[0m\u001b[0;34m[\u001b[0m\u001b[0;34m\"has_index_names\"\u001b[0m\u001b[0;34m]\u001b[0m \u001b[0;34m=\u001b[0m \u001b[0mkwds\u001b[0m\u001b[0;34m[\u001b[0m\u001b[0;34m\"has_index_names\"\u001b[0m\u001b[0;34m]\u001b[0m\u001b[0;34m\u001b[0m\u001b[0;34m\u001b[0m\u001b[0m\n\u001b[1;32m    947\u001b[0m \u001b[0;34m\u001b[0m\u001b[0m\n\u001b[0;32m--> 948\u001b[0;31m         \u001b[0mself\u001b[0m\u001b[0;34m.\u001b[0m\u001b[0m_make_engine\u001b[0m\u001b[0;34m(\u001b[0m\u001b[0mself\u001b[0m\u001b[0;34m.\u001b[0m\u001b[0mengine\u001b[0m\u001b[0;34m)\u001b[0m\u001b[0;34m\u001b[0m\u001b[0;34m\u001b[0m\u001b[0m\n\u001b[0m\u001b[1;32m    949\u001b[0m \u001b[0;34m\u001b[0m\u001b[0m\n\u001b[1;32m    950\u001b[0m     \u001b[0;32mdef\u001b[0m \u001b[0mclose\u001b[0m\u001b[0;34m(\u001b[0m\u001b[0mself\u001b[0m\u001b[0;34m)\u001b[0m\u001b[0;34m:\u001b[0m\u001b[0;34m\u001b[0m\u001b[0;34m\u001b[0m\u001b[0m\n",
      "\u001b[0;32m/usr/local/lib/python3.7/dist-packages/pandas/io/parsers.py\u001b[0m in \u001b[0;36m_make_engine\u001b[0;34m(self, engine)\u001b[0m\n\u001b[1;32m   1178\u001b[0m     \u001b[0;32mdef\u001b[0m \u001b[0m_make_engine\u001b[0m\u001b[0;34m(\u001b[0m\u001b[0mself\u001b[0m\u001b[0;34m,\u001b[0m \u001b[0mengine\u001b[0m\u001b[0;34m=\u001b[0m\u001b[0;34m\"c\"\u001b[0m\u001b[0;34m)\u001b[0m\u001b[0;34m:\u001b[0m\u001b[0;34m\u001b[0m\u001b[0;34m\u001b[0m\u001b[0m\n\u001b[1;32m   1179\u001b[0m         \u001b[0;32mif\u001b[0m \u001b[0mengine\u001b[0m \u001b[0;34m==\u001b[0m \u001b[0;34m\"c\"\u001b[0m\u001b[0;34m:\u001b[0m\u001b[0;34m\u001b[0m\u001b[0;34m\u001b[0m\u001b[0m\n\u001b[0;32m-> 1180\u001b[0;31m             \u001b[0mself\u001b[0m\u001b[0;34m.\u001b[0m\u001b[0m_engine\u001b[0m \u001b[0;34m=\u001b[0m \u001b[0mCParserWrapper\u001b[0m\u001b[0;34m(\u001b[0m\u001b[0mself\u001b[0m\u001b[0;34m.\u001b[0m\u001b[0mf\u001b[0m\u001b[0;34m,\u001b[0m \u001b[0;34m**\u001b[0m\u001b[0mself\u001b[0m\u001b[0;34m.\u001b[0m\u001b[0moptions\u001b[0m\u001b[0;34m)\u001b[0m\u001b[0;34m\u001b[0m\u001b[0;34m\u001b[0m\u001b[0m\n\u001b[0m\u001b[1;32m   1181\u001b[0m         \u001b[0;32melse\u001b[0m\u001b[0;34m:\u001b[0m\u001b[0;34m\u001b[0m\u001b[0;34m\u001b[0m\u001b[0m\n\u001b[1;32m   1182\u001b[0m             \u001b[0;32mif\u001b[0m \u001b[0mengine\u001b[0m \u001b[0;34m==\u001b[0m \u001b[0;34m\"python\"\u001b[0m\u001b[0;34m:\u001b[0m\u001b[0;34m\u001b[0m\u001b[0;34m\u001b[0m\u001b[0m\n",
      "\u001b[0;32m/usr/local/lib/python3.7/dist-packages/pandas/io/parsers.py\u001b[0m in \u001b[0;36m__init__\u001b[0;34m(self, src, **kwds)\u001b[0m\n\u001b[1;32m   2008\u001b[0m         \u001b[0mkwds\u001b[0m\u001b[0;34m[\u001b[0m\u001b[0;34m\"usecols\"\u001b[0m\u001b[0;34m]\u001b[0m \u001b[0;34m=\u001b[0m \u001b[0mself\u001b[0m\u001b[0;34m.\u001b[0m\u001b[0musecols\u001b[0m\u001b[0;34m\u001b[0m\u001b[0;34m\u001b[0m\u001b[0m\n\u001b[1;32m   2009\u001b[0m \u001b[0;34m\u001b[0m\u001b[0m\n\u001b[0;32m-> 2010\u001b[0;31m         \u001b[0mself\u001b[0m\u001b[0;34m.\u001b[0m\u001b[0m_reader\u001b[0m \u001b[0;34m=\u001b[0m \u001b[0mparsers\u001b[0m\u001b[0;34m.\u001b[0m\u001b[0mTextReader\u001b[0m\u001b[0;34m(\u001b[0m\u001b[0msrc\u001b[0m\u001b[0;34m,\u001b[0m \u001b[0;34m**\u001b[0m\u001b[0mkwds\u001b[0m\u001b[0;34m)\u001b[0m\u001b[0;34m\u001b[0m\u001b[0;34m\u001b[0m\u001b[0m\n\u001b[0m\u001b[1;32m   2011\u001b[0m         \u001b[0mself\u001b[0m\u001b[0;34m.\u001b[0m\u001b[0munnamed_cols\u001b[0m \u001b[0;34m=\u001b[0m \u001b[0mself\u001b[0m\u001b[0;34m.\u001b[0m\u001b[0m_reader\u001b[0m\u001b[0;34m.\u001b[0m\u001b[0munnamed_cols\u001b[0m\u001b[0;34m\u001b[0m\u001b[0;34m\u001b[0m\u001b[0m\n\u001b[1;32m   2012\u001b[0m \u001b[0;34m\u001b[0m\u001b[0m\n",
      "\u001b[0;32mpandas/_libs/parsers.pyx\u001b[0m in \u001b[0;36mpandas._libs.parsers.TextReader.__cinit__\u001b[0;34m()\u001b[0m\n",
      "\u001b[0;32mpandas/_libs/parsers.pyx\u001b[0m in \u001b[0;36mpandas._libs.parsers.TextReader._setup_parser_source\u001b[0;34m()\u001b[0m\n",
      "\u001b[0;31mFileNotFoundError\u001b[0m: [Errno 2] No such file or directory: 'sample_submission.csv'"
     ]
    }
   ],
   "source": [
    "submission = pd.read_csv('sample_submission.csv')\n",
    "submission['song_popularity']= model.predict(test)\n",
    "submission.to_csv('lgmb.csv',index=False)"
   ]
  },
  {
   "cell_type": "code",
   "execution_count": null,
   "metadata": {
    "colab": {
     "background_save": true
    },
    "id": "ujZr2B-hcKt4"
   },
   "outputs": [],
   "source": [
    "submission.to_csv('cat_boost_tuned.csv',index=False)"
   ]
  },
  {
   "cell_type": "code",
   "execution_count": null,
   "metadata": {
    "colab": {
     "background_save": true
    },
    "id": "ilBMiJhUca05"
   },
   "outputs": [],
   "source": []
  }
 ],
 "metadata": {
  "colab": {
   "collapsed_sections": [],
   "machine_shape": "hm",
   "name": "Blending.ipynb",
   "provenance": []
  },
  "kernelspec": {
   "display_name": "Python 3 (ipykernel)",
   "language": "python",
   "name": "python3"
  },
  "language_info": {
   "codemirror_mode": {
    "name": "ipython",
    "version": 3
   },
   "file_extension": ".py",
   "mimetype": "text/x-python",
   "name": "python",
   "nbconvert_exporter": "python",
   "pygments_lexer": "ipython3",
   "version": "3.8.10"
  }
 },
 "nbformat": 4,
 "nbformat_minor": 1
}
