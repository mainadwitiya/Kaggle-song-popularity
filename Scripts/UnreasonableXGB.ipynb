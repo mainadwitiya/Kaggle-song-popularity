{
  "nbformat": 4,
  "nbformat_minor": 0,
  "metadata": {
    "colab": {
      "name": "UnreasonableXGB.ipynb",
      "provenance": [],
      "machine_shape": "hm"
    },
    "kernelspec": {
      "name": "python3",
      "display_name": "Python 3"
    },
    "language_info": {
      "name": "python"
    },
    "accelerator": "GPU"
  },
  "cells": [
    {
      "cell_type": "code",
      "source": [
        "!pip install optuna"
      ],
      "metadata": {
        "id": "OonnRv4p2hJj"
      },
      "execution_count": null,
      "outputs": []
    },
    {
      "cell_type": "code",
      "source": [
        "from google.colab import drive\n",
        "\n",
        "drive.mount('/content/gdrive')"
      ],
      "metadata": {
        "colab": {
          "base_uri": "https://localhost:8080/"
        },
        "id": "1Zq4Jugn2ZbB",
        "outputId": "9a54c558-c807-4e1a-da11-fa2aa49296e9"
      },
      "execution_count": 2,
      "outputs": [
        {
          "output_type": "stream",
          "name": "stdout",
          "text": [
            "Mounted at /content/gdrive\n"
          ]
        }
      ]
    },
    {
      "cell_type": "code",
      "execution_count": 27,
      "metadata": {
        "id": "sZo-rQO82Fsv"
      },
      "outputs": [],
      "source": [
        "import os\n",
        "import gc\n",
        "import random\n",
        "import pandas as pd\n",
        "import numpy as np\n",
        "import seaborn as sns\n",
        "import xgboost as xgb\n",
        "from sklearn.model_selection import StratifiedKFold\n",
        "from sklearn.preprocessing import LabelEncoder\n",
        "from sklearn.metrics import classification_report, accuracy_score, confusion_matrix,roc_auc_score\n",
        "\n"
      ]
    },
    {
      "cell_type": "code",
      "source": [
        "train = pd.read_csv('/content/gdrive/MyDrive/song-popularity-prediction/train.csv')\n",
        "test = pd.read_csv('/content/gdrive/MyDrive/song-popularity-prediction/test.csv')\n",
        "columns = [col for col in train.columns.to_list() if col not in ['id','song_popularity']]\n",
        "data=train[columns]\n",
        "target=train['song_popularity']"
      ],
      "metadata": {
        "id": "_HBqf4mK3U8Q"
      },
      "execution_count": 15,
      "outputs": []
    },
    {
      "cell_type": "code",
      "source": [
        "NUM_CLASSES=target.nunique()"
      ],
      "metadata": {
        "id": "YOxRY2HX3pOf"
      },
      "execution_count": 18,
      "outputs": []
    },
    {
      "cell_type": "code",
      "source": [
        ""
      ],
      "metadata": {
        "id": "jB3B9sph2-re"
      },
      "execution_count": 7,
      "outputs": []
    },
    {
      "cell_type": "code",
      "source": [
        "params={'alpha': 0.002165284049749127,\n",
        " 'colsample_bytree': 0.41961032521264147,\n",
        " 'eval_metric': 'mlogloss',\n",
        " 'lambda': 0.06732506334605969,\n",
        " 'learning_rate': 0.0718988345727017,\n",
        " 'max_depth': 17,\n",
        " 'min_child_weight': 158,\n",
        " 'num_class': 2,\n",
        " 'objective': 'multi:softprob',\n",
        " 'subsample': 0.7270128671619758,\n",
        " 'tree_method': 'gpu_hist'}"
      ],
      "metadata": {
        "id": "JZ2e0Ps121ou"
      },
      "execution_count": 17,
      "outputs": []
    },
    {
      "cell_type": "code",
      "source": [
        "# for i, (train_index, test_index) in enumerate(skf.split(X, y)):\n",
        "#     print('[Fold %d/%d]' % (i + 1, kfold))\n",
        "#     X_train, X_valid = X[train_index], X[test_index]\n",
        "#     y_train, y_valid = y[train_index], y[test_index]\n",
        "#     # Convert our data into XGBoost format\n",
        "#     d_train = xgb.DMatrix(X_train, y_train)\n",
        "#     d_valid = xgb.DMatrix(X_valid, y_valid)\n",
        "#     d_test = xgb.DMatrix(test.values)\n",
        "#     watchlist = [(d_train, 'train'), (d_valid, 'valid')]\n",
        "\n",
        "#     # Train the model! We pass in a max of 1,600 rounds (with early stopping after 70)\n",
        "#     # and the custom metric (maximize=True tells xgb that higher metric is better)\n",
        "#     mdl = xgb.train(params, d_train, 1600, watchlist, early_stopping_rounds=70, feval=gini_xgb, maximize=True, verbose_eval=100)\n",
        "\n",
        "#     print('[Fold %d/%d Prediciton:]' % (i + 1, kfold))\n",
        "#     # Predict on our test data\n",
        "#     p_test = mdl.predict(d_test, ntree_limit=mdl.best_ntree_limit)\n",
        "#     sub['target'] += p_test/kfold"
      ],
      "metadata": {
        "id": "K5ET0TLf4vvb"
      },
      "execution_count": null,
      "outputs": []
    },
    {
      "cell_type": "code",
      "source": [
        "# for train_idx, val_idx in cv.split(X, y):\n",
        "#     gc.collect()\n",
        "#     dval = xgboost.DMatrix(X[val_idx], label=y[val_idx])\n",
        "#     booster: xgboost.Booster = xgboost.train(\n",
        "#         params=params,\n",
        "#         dtrain=make_trainset(train_idx),\n",
        "#         num_boost_round=600,\n",
        "#         evals=[(dval, 'val')],\n",
        "#         early_stopping_rounds=30,\n",
        "#         verbose_eval=100,\n",
        "#     )\n",
        "#     oof_proba[val_idx] = booster.predict(\n",
        "#         dval, iteration_range=(0, booster.best_iteration + 1)\n",
        "#     )\n",
        "#     test_proba += booster.predict(\n",
        "#         xgboost.DMatrix(X_test), iteration_range=(0, booster.best_iteration + 1)\n",
        "#     ) / cv.n_splits"
      ],
      "metadata": {
        "id": "EIgYAjFR5bFw"
      },
      "execution_count": null,
      "outputs": []
    },
    {
      "cell_type": "code",
      "source": [
        "from tqdm import tqdm\n",
        "np.random.seed(64)\n",
        "random.seed(64)\n",
        "\n",
        "\n",
        "target = train['song_popularity'].values\n",
        "FOLDS=10\n",
        "kf = StratifiedKFold(n_splits = FOLDS, shuffle=True, random_state=64)    \n",
        "        \n",
        "oof = np.zeros((train.shape[0],))\n",
        "predictions = 0\n",
        "auc_value = []\n",
        "for f, (train_index, test_index) in tqdm(enumerate(kf.split(X=train, y=target))):\n",
        "        X_train, X_val = train.iloc[train_index][columns], train.iloc[test_index][columns]\n",
        "        y_train, y_val = target[train_index], target[test_index]\n",
        "        \n",
        "        model = xgb.XGBClassifier(**params)\n",
        "        \n",
        "        model.fit(\n",
        "            X_train[columns], \n",
        "            y_train,\n",
        "            eval_set=[(X_val[columns], y_val)],\n",
        "            early_stopping_rounds=30,\n",
        "            verbose=100\n",
        "        )\n",
        "        \n",
        "        oof_temp_pred = model.predict_proba(X_val[columns])[:,1]\n",
        "        test_temp_pred = model.predict_proba(test[columns])[:,1]\n",
        "        oof[test_index] = oof_temp_pred\n",
        "        predictions += test_temp_pred/FOLDS\n",
        "        auc = roc_auc_score(y_val, oof_temp_pred)\n",
        "        auc_value.append(auc)\n",
        "        print(f'FOLD: {f} AUC: {auc} Mean AUC: {np.mean(auc_value)}')"
      ],
      "metadata": {
        "colab": {
          "base_uri": "https://localhost:8080/"
        },
        "id": "Zq5gHzk_4JHY",
        "outputId": "2c2e7c79-f30d-40b1-fa49-8d46291f0069"
      },
      "execution_count": 29,
      "outputs": [
        {
          "output_type": "stream",
          "name": "stderr",
          "text": [
            "\r0it [00:00, ?it/s]"
          ]
        },
        {
          "output_type": "stream",
          "name": "stdout",
          "text": [
            "[0]\tvalidation_0-mlogloss:0.687724\n",
            "Will train until validation_0-mlogloss hasn't improved in 30 rounds.\n",
            "Stopping. Best iteration:\n",
            "[66]\tvalidation_0-mlogloss:0.646379\n",
            "\n"
          ]
        },
        {
          "output_type": "stream",
          "name": "stderr",
          "text": [
            "\r1it [00:01,  1.72s/it]"
          ]
        },
        {
          "output_type": "stream",
          "name": "stdout",
          "text": [
            "FOLD: 0 AUC: 0.5798917507005787 Mean AUC: 0.5798917507005787\n",
            "[0]\tvalidation_0-mlogloss:0.687549\n",
            "Will train until validation_0-mlogloss hasn't improved in 30 rounds.\n",
            "Stopping. Best iteration:\n",
            "[46]\tvalidation_0-mlogloss:0.650187\n",
            "\n"
          ]
        },
        {
          "output_type": "stream",
          "name": "stderr",
          "text": [
            "\r2it [00:03,  1.51s/it]"
          ]
        },
        {
          "output_type": "stream",
          "name": "stdout",
          "text": [
            "FOLD: 1 AUC: 0.5628425130311828 Mean AUC: 0.5713671318658808\n",
            "[0]\tvalidation_0-mlogloss:0.687484\n",
            "Will train until validation_0-mlogloss hasn't improved in 30 rounds.\n",
            "Stopping. Best iteration:\n",
            "[40]\tvalidation_0-mlogloss:0.64931\n",
            "\n"
          ]
        },
        {
          "output_type": "stream",
          "name": "stderr",
          "text": [
            "\r3it [00:04,  1.40s/it]"
          ]
        },
        {
          "output_type": "stream",
          "name": "stdout",
          "text": [
            "FOLD: 2 AUC: 0.5694526349938235 Mean AUC: 0.5707289662418616\n",
            "[0]\tvalidation_0-mlogloss:0.687494\n",
            "Will train until validation_0-mlogloss hasn't improved in 30 rounds.\n",
            "Stopping. Best iteration:\n",
            "[65]\tvalidation_0-mlogloss:0.646515\n",
            "\n"
          ]
        },
        {
          "output_type": "stream",
          "name": "stderr",
          "text": [
            "\r4it [00:05,  1.50s/it]"
          ]
        },
        {
          "output_type": "stream",
          "name": "stdout",
          "text": [
            "FOLD: 3 AUC: 0.5784629290412187 Mean AUC: 0.5726624569417009\n",
            "[0]\tvalidation_0-mlogloss:0.687617\n",
            "Will train until validation_0-mlogloss hasn't improved in 30 rounds.\n",
            "Stopping. Best iteration:\n",
            "[51]\tvalidation_0-mlogloss:0.648526\n",
            "\n"
          ]
        },
        {
          "output_type": "stream",
          "name": "stderr",
          "text": [
            "\r5it [00:07,  1.48s/it]"
          ]
        },
        {
          "output_type": "stream",
          "name": "stdout",
          "text": [
            "FOLD: 4 AUC: 0.5724527526039896 Mean AUC: 0.5726205160741586\n",
            "[0]\tvalidation_0-mlogloss:0.687386\n",
            "Will train until validation_0-mlogloss hasn't improved in 30 rounds.\n",
            "Stopping. Best iteration:\n",
            "[41]\tvalidation_0-mlogloss:0.648783\n",
            "\n"
          ]
        },
        {
          "output_type": "stream",
          "name": "stderr",
          "text": [
            "\r6it [00:08,  1.42s/it]"
          ]
        },
        {
          "output_type": "stream",
          "name": "stdout",
          "text": [
            "FOLD: 5 AUC: 0.5702694054021384 Mean AUC: 0.5722286642954887\n",
            "[0]\tvalidation_0-mlogloss:0.687851\n",
            "Will train until validation_0-mlogloss hasn't improved in 30 rounds.\n",
            "Stopping. Best iteration:\n",
            "[56]\tvalidation_0-mlogloss:0.647776\n",
            "\n"
          ]
        },
        {
          "output_type": "stream",
          "name": "stderr",
          "text": [
            "\r7it [00:10,  1.45s/it]"
          ]
        },
        {
          "output_type": "stream",
          "name": "stdout",
          "text": [
            "FOLD: 6 AUC: 0.57483077170477 Mean AUC: 0.572600393925386\n",
            "[0]\tvalidation_0-mlogloss:0.687516\n",
            "Will train until validation_0-mlogloss hasn't improved in 30 rounds.\n",
            "Stopping. Best iteration:\n",
            "[65]\tvalidation_0-mlogloss:0.647147\n",
            "\n"
          ]
        },
        {
          "output_type": "stream",
          "name": "stderr",
          "text": [
            "\r8it [00:11,  1.51s/it]"
          ]
        },
        {
          "output_type": "stream",
          "name": "stdout",
          "text": [
            "FOLD: 7 AUC: 0.575156304131739 Mean AUC: 0.5729198827011801\n",
            "[0]\tvalidation_0-mlogloss:0.687559\n",
            "Will train until validation_0-mlogloss hasn't improved in 30 rounds.\n",
            "Stopping. Best iteration:\n",
            "[59]\tvalidation_0-mlogloss:0.648648\n",
            "\n"
          ]
        },
        {
          "output_type": "stream",
          "name": "stderr",
          "text": [
            "\r9it [00:13,  1.53s/it]"
          ]
        },
        {
          "output_type": "stream",
          "name": "stdout",
          "text": [
            "FOLD: 8 AUC: 0.5711798978802213 Mean AUC: 0.572726551054407\n",
            "[0]\tvalidation_0-mlogloss:0.687301\n",
            "Will train until validation_0-mlogloss hasn't improved in 30 rounds.\n",
            "Stopping. Best iteration:\n",
            "[68]\tvalidation_0-mlogloss:0.644461\n",
            "\n"
          ]
        },
        {
          "output_type": "stream",
          "name": "stderr",
          "text": [
            "10it [00:15,  1.52s/it]"
          ]
        },
        {
          "output_type": "stream",
          "name": "stdout",
          "text": [
            "FOLD: 9 AUC: 0.5900304243982304 Mean AUC: 0.5744569383887892\n"
          ]
        },
        {
          "output_type": "stream",
          "name": "stderr",
          "text": [
            "\n"
          ]
        }
      ]
    },
    {
      "cell_type": "code",
      "source": [
        "submission_df =pd.read_csv('/content/gdrive/MyDrive/song-popularity-prediction/sample_submission.csv')\n",
        "submission_df['song_popularity'] = predictions\n",
        "submission_df.to_csv('submission_xgb_best_params1_200_trials.csv', index=False)"
      ],
      "metadata": {
        "id": "ZS3Y_E-V4hE5"
      },
      "execution_count": 34,
      "outputs": []
    },
    {
      "cell_type": "code",
      "source": [
        ""
      ],
      "metadata": {
        "id": "A8JWFrVf71Jp"
      },
      "execution_count": null,
      "outputs": []
    }
  ]
}