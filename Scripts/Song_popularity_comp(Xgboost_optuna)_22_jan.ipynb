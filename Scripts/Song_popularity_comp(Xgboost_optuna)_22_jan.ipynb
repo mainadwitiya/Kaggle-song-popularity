{
  "cells": [
    {
      "cell_type": "code",
      "execution_count": null,
      "metadata": {
        "id": "Dm9LDbScpP_e"
      },
      "outputs": [],
      "source": [
        "!pip install dask-cuda"
      ]
    },
    {
      "cell_type": "code",
      "execution_count": null,
      "metadata": {
        "id": "WeRC-gQ3otLz"
      },
      "outputs": [],
      "source": [
        "# !pip install xgboost==1.0.0\n"
      ]
    },
    {
      "cell_type": "code",
      "execution_count": null,
      "metadata": {
        "colab": {
          "base_uri": "https://localhost:8080/"
        },
        "id": "OTjmnd60kSuC",
        "outputId": "8d969087-475d-499f-9d5e-9ad237ad5d00"
      },
      "outputs": [
        {
          "name": "stdout",
          "output_type": "stream",
          "text": [
            "Mounted at /content/gdrive\n"
          ]
        }
      ],
      "source": [
        "from google.colab import drive\n",
        "\n",
        "drive.mount('/content/gdrive')"
      ]
    },
    {
      "cell_type": "code",
      "execution_count": null,
      "metadata": {
        "colab": {
          "base_uri": "https://localhost:8080/"
        },
        "id": "y6DA9sl-km6l",
        "outputId": "b54fe815-3fcb-4466-8efe-2ebbde75d51e"
      },
      "outputs": [
        {
          "name": "stdout",
          "output_type": "stream",
          "text": [
            "Sat Jan 22 15:39:49 2022       \n",
            "+-----------------------------------------------------------------------------+\n",
            "| NVIDIA-SMI 495.46       Driver Version: 460.32.03    CUDA Version: 11.2     |\n",
            "|-------------------------------+----------------------+----------------------+\n",
            "| GPU  Name        Persistence-M| Bus-Id        Disp.A | Volatile Uncorr. ECC |\n",
            "| Fan  Temp  Perf  Pwr:Usage/Cap|         Memory-Usage | GPU-Util  Compute M. |\n",
            "|                               |                      |               MIG M. |\n",
            "|===============================+======================+======================|\n",
            "|   0  Tesla P100-PCIE...  Off  | 00000000:00:04.0 Off |                    0 |\n",
            "| N/A   33C    P0    25W / 250W |      0MiB / 16280MiB |      0%      Default |\n",
            "|                               |                      |                  N/A |\n",
            "+-------------------------------+----------------------+----------------------+\n",
            "                                                                               \n",
            "+-----------------------------------------------------------------------------+\n",
            "| Processes:                                                                  |\n",
            "|  GPU   GI   CI        PID   Type   Process name                  GPU Memory |\n",
            "|        ID   ID                                                   Usage      |\n",
            "|=============================================================================|\n",
            "|  No running processes found                                                 |\n",
            "+-----------------------------------------------------------------------------+\n"
          ]
        }
      ],
      "source": [
        "!nvidia-smi"
      ]
    },
    {
      "cell_type": "code",
      "execution_count": null,
      "metadata": {
        "id": "zqgmzSU-lXGB"
      },
      "outputs": [],
      "source": [
        "# !pip install dask[dataframe]"
      ]
    },
    {
      "cell_type": "code",
      "execution_count": null,
      "metadata": {
        "colab": {
          "base_uri": "https://localhost:8080/"
        },
        "id": "Cb3rsdS7lgDf",
        "outputId": "80241e8e-ddbd-4c49-92e1-6cbd19690a88"
      },
      "outputs": [
        {
          "name": "stdout",
          "output_type": "stream",
          "text": [
            "Collecting optuna\n",
            "  Downloading optuna-2.10.0-py3-none-any.whl (308 kB)\n",
            "\u001b[?25l\r\u001b[K     |█                               | 10 kB 42.1 MB/s eta 0:00:01\r\u001b[K     |██▏                             | 20 kB 8.0 MB/s eta 0:00:01\r\u001b[K     |███▏                            | 30 kB 7.3 MB/s eta 0:00:01\r\u001b[K     |████▎                           | 40 kB 6.9 MB/s eta 0:00:01\r\u001b[K     |█████▎                          | 51 kB 4.0 MB/s eta 0:00:01\r\u001b[K     |██████▍                         | 61 kB 4.3 MB/s eta 0:00:01\r\u001b[K     |███████▍                        | 71 kB 4.2 MB/s eta 0:00:01\r\u001b[K     |████████▌                       | 81 kB 4.8 MB/s eta 0:00:01\r\u001b[K     |█████████▋                      | 92 kB 5.0 MB/s eta 0:00:01\r\u001b[K     |██████████▋                     | 102 kB 4.0 MB/s eta 0:00:01\r\u001b[K     |███████████▊                    | 112 kB 4.0 MB/s eta 0:00:01\r\u001b[K     |████████████▊                   | 122 kB 4.0 MB/s eta 0:00:01\r\u001b[K     |█████████████▉                  | 133 kB 4.0 MB/s eta 0:00:01\r\u001b[K     |██████████████▉                 | 143 kB 4.0 MB/s eta 0:00:01\r\u001b[K     |████████████████                | 153 kB 4.0 MB/s eta 0:00:01\r\u001b[K     |█████████████████               | 163 kB 4.0 MB/s eta 0:00:01\r\u001b[K     |██████████████████              | 174 kB 4.0 MB/s eta 0:00:01\r\u001b[K     |███████████████████▏            | 184 kB 4.0 MB/s eta 0:00:01\r\u001b[K     |████████████████████▏           | 194 kB 4.0 MB/s eta 0:00:01\r\u001b[K     |█████████████████████▎          | 204 kB 4.0 MB/s eta 0:00:01\r\u001b[K     |██████████████████████▎         | 215 kB 4.0 MB/s eta 0:00:01\r\u001b[K     |███████████████████████▍        | 225 kB 4.0 MB/s eta 0:00:01\r\u001b[K     |████████████████████████▌       | 235 kB 4.0 MB/s eta 0:00:01\r\u001b[K     |█████████████████████████▌      | 245 kB 4.0 MB/s eta 0:00:01\r\u001b[K     |██████████████████████████▋     | 256 kB 4.0 MB/s eta 0:00:01\r\u001b[K     |███████████████████████████▋    | 266 kB 4.0 MB/s eta 0:00:01\r\u001b[K     |████████████████████████████▊   | 276 kB 4.0 MB/s eta 0:00:01\r\u001b[K     |█████████████████████████████▊  | 286 kB 4.0 MB/s eta 0:00:01\r\u001b[K     |██████████████████████████████▉ | 296 kB 4.0 MB/s eta 0:00:01\r\u001b[K     |████████████████████████████████| 307 kB 4.0 MB/s eta 0:00:01\r\u001b[K     |████████████████████████████████| 308 kB 4.0 MB/s \n",
            "\u001b[?25hCollecting cliff\n",
            "  Downloading cliff-3.10.0-py3-none-any.whl (80 kB)\n",
            "\u001b[K     |████████████████████████████████| 80 kB 13.1 MB/s \n",
            "\u001b[?25hRequirement already satisfied: numpy in /usr/local/lib/python3.7/dist-packages (from optuna) (1.19.5)\n",
            "Requirement already satisfied: PyYAML in /usr/local/lib/python3.7/dist-packages (from optuna) (3.13)\n",
            "Collecting colorlog\n",
            "  Downloading colorlog-6.6.0-py2.py3-none-any.whl (11 kB)\n",
            "Requirement already satisfied: scipy!=1.4.0 in /usr/local/lib/python3.7/dist-packages (from optuna) (1.4.1)\n",
            "Requirement already satisfied: packaging>=20.0 in /usr/local/lib/python3.7/dist-packages (from optuna) (21.3)\n",
            "Requirement already satisfied: sqlalchemy>=1.1.0 in /usr/local/lib/python3.7/dist-packages (from optuna) (1.4.29)\n",
            "Collecting cmaes>=0.8.2\n",
            "  Downloading cmaes-0.8.2-py3-none-any.whl (15 kB)\n",
            "Requirement already satisfied: tqdm in /usr/local/lib/python3.7/dist-packages (from optuna) (4.62.3)\n",
            "Collecting alembic\n",
            "  Downloading alembic-1.7.5-py3-none-any.whl (209 kB)\n",
            "\u001b[K     |████████████████████████████████| 209 kB 87.0 MB/s \n",
            "\u001b[?25hRequirement already satisfied: pyparsing!=3.0.5,>=2.0.2 in /usr/local/lib/python3.7/dist-packages (from packaging>=20.0->optuna) (3.0.6)\n",
            "Requirement already satisfied: greenlet!=0.4.17 in /usr/local/lib/python3.7/dist-packages (from sqlalchemy>=1.1.0->optuna) (1.1.2)\n",
            "Requirement already satisfied: importlib-metadata in /usr/local/lib/python3.7/dist-packages (from sqlalchemy>=1.1.0->optuna) (4.10.0)\n",
            "Requirement already satisfied: importlib-resources in /usr/local/lib/python3.7/dist-packages (from alembic->optuna) (5.4.0)\n",
            "Collecting Mako\n",
            "  Downloading Mako-1.1.6-py2.py3-none-any.whl (75 kB)\n",
            "\u001b[K     |████████████████████████████████| 75 kB 6.4 MB/s \n",
            "\u001b[?25hCollecting stevedore>=2.0.1\n",
            "  Downloading stevedore-3.5.0-py3-none-any.whl (49 kB)\n",
            "\u001b[K     |████████████████████████████████| 49 kB 8.4 MB/s \n",
            "\u001b[?25hCollecting autopage>=0.4.0\n",
            "  Downloading autopage-0.5.0-py3-none-any.whl (29 kB)\n",
            "Collecting cmd2>=1.0.0\n",
            "  Downloading cmd2-2.3.3-py3-none-any.whl (149 kB)\n",
            "\u001b[K     |████████████████████████████████| 149 kB 93.3 MB/s \n",
            "\u001b[?25hRequirement already satisfied: PrettyTable>=0.7.2 in /usr/local/lib/python3.7/dist-packages (from cliff->optuna) (3.0.0)\n",
            "Collecting pbr!=2.1.0,>=2.0.0\n",
            "  Downloading pbr-5.8.0-py2.py3-none-any.whl (112 kB)\n",
            "\u001b[K     |████████████████████████████████| 112 kB 90.8 MB/s \n",
            "\u001b[?25hCollecting pyperclip>=1.6\n",
            "  Downloading pyperclip-1.8.2.tar.gz (20 kB)\n",
            "Requirement already satisfied: wcwidth>=0.1.7 in /usr/local/lib/python3.7/dist-packages (from cmd2>=1.0.0->cliff->optuna) (0.2.5)\n",
            "Requirement already satisfied: typing-extensions in /usr/local/lib/python3.7/dist-packages (from cmd2>=1.0.0->cliff->optuna) (3.10.0.2)\n",
            "Requirement already satisfied: attrs>=16.3.0 in /usr/local/lib/python3.7/dist-packages (from cmd2>=1.0.0->cliff->optuna) (21.4.0)\n",
            "Requirement already satisfied: zipp>=0.5 in /usr/local/lib/python3.7/dist-packages (from importlib-metadata->sqlalchemy>=1.1.0->optuna) (3.7.0)\n",
            "Requirement already satisfied: MarkupSafe>=0.9.2 in /usr/local/lib/python3.7/dist-packages (from Mako->alembic->optuna) (2.0.1)\n",
            "Building wheels for collected packages: pyperclip\n",
            "  Building wheel for pyperclip (setup.py) ... \u001b[?25l\u001b[?25hdone\n",
            "  Created wheel for pyperclip: filename=pyperclip-1.8.2-py3-none-any.whl size=11137 sha256=c4ea4a1cc7d3f34fa8b5934b774bcab9e14a95e7b16efadb303af591aa5c61ba\n",
            "  Stored in directory: /root/.cache/pip/wheels/9f/18/84/8f69f8b08169c7bae2dde6bd7daf0c19fca8c8e500ee620a28\n",
            "Successfully built pyperclip\n",
            "Installing collected packages: pyperclip, pbr, stevedore, Mako, cmd2, autopage, colorlog, cmaes, cliff, alembic, optuna\n",
            "Successfully installed Mako-1.1.6 alembic-1.7.5 autopage-0.5.0 cliff-3.10.0 cmaes-0.8.2 cmd2-2.3.3 colorlog-6.6.0 optuna-2.10.0 pbr-5.8.0 pyperclip-1.8.2 stevedore-3.5.0\n"
          ]
        }
      ],
      "source": [
        "!pip install optuna"
      ]
    },
    {
      "cell_type": "code",
      "execution_count": null,
      "metadata": {
        "colab": {
          "base_uri": "https://localhost:8080/",
          "height": 35
        },
        "id": "lacpIfF7k0Oo",
        "outputId": "8200ca97-16fb-4927-9876-60329359401b"
      },
      "outputs": [
        {
          "data": {
            "application/vnd.google.colaboratory.intrinsic+json": {
              "type": "string"
            },
            "text/plain": [
              "'0.90'"
            ]
          },
          "execution_count": 4,
          "metadata": {},
          "output_type": "execute_result"
        }
      ],
      "source": [
        "import pandas as pd\n",
        "import numpy as np\n",
        "import xgboost as xgb\n",
        "from sklearn.model_selection import KFold, train_test_split\n",
        "from sklearn.metrics import accuracy_score\n",
        "from sklearn.preprocessing import StandardScaler\n",
        "from sklearn.preprocessing import LabelEncoder\n",
        "from sklearn.metrics import roc_auc_score, roc_curve\n",
        "\n",
        "from sklearn.preprocessing import RobustScaler\n",
        "from tqdm import tqdm\n",
        "\n",
        "import optuna\n",
        "import gc\n",
        "xgb.__version__"
      ]
    },
    {
      "cell_type": "code",
      "execution_count": null,
      "metadata": {
        "id": "6w8vTTIktLOP"
      },
      "outputs": [],
      "source": [
        "train = pd.read_csv('/content/gdrive/MyDrive/song-popularity-prediction/train.csv')\n",
        "test = pd.read_csv('/content/gdrive/MyDrive/song-popularity-prediction/test.csv')\n",
        "columns = [col for col in train.columns.to_list() if col not in ['id','song_popularity']]\n",
        "data=train[columns]\n",
        "target=train['song_popularity']"
      ]
    },
    {
      "cell_type": "code",
      "execution_count": null,
      "metadata": {
        "id": "Z80cLcbVpj-p"
      },
      "outputs": [],
      "source": [
        "def objective(trial):\n",
        "  train_x, test_x, train_y, test_y = train_test_split(data, target, test_size=0.15,random_state=42)\n",
        "  # params = {\n",
        "  #       'objective': trial.suggest_categorical('objective',['multi:softprob']), \n",
        "  #       'num_class': trial.suggest_categorical('num_class',[2]), \n",
        "  #       'tree_method': trial.suggest_categorical('tree_method',['gpu_hist']),  # 'gpu_hist','hist'\n",
        "  #       'lambda': trial.suggest_loguniform('lambda',1e-3,10.0),\n",
        "  #       'alpha': trial.suggest_loguniform('alpha',1e-3,10.0),\n",
        "  #       'colsample_bytree': trial.suggest_uniform('colsample_bytree', 0.3,1.0),\n",
        "  #       'subsample': trial.suggest_uniform('subsample', 0.4, 1.0),\n",
        "  #       'learning_rate': trial.suggest_loguniform('learning_rate', 0.001,0.1),\n",
        "  #       'max_depth': trial.suggest_categorical('max_depth', [3,5,7,9,11,13,15,17,20]),\n",
        "  #       'min_child_weight': trial.suggest_int('min_child_weight', 1,300),\n",
        "  #       'eval_metric': trial.suggest_categorical('eval_metric',['auc_roc']),\n",
        "  # }\n",
        "  params = {\n",
        "        \"verbosity\": 1,\n",
        "        \"objective\": trial.suggest_categorical('objective',['multi:softprob']), \n",
        "        \"n_estimators\": 2000,\n",
        "        'num_class': trial.suggest_categorical('num_class',[2]), \n",
        "        \"max_depth\": trial.suggest_int(\"max_depth\", 4, 12),\n",
        "        \"learning_rate\": trial.suggest_loguniform(\"learning_rate\", 0.005, 0.05),\n",
        "        \"colsample_bytree\": trial.suggest_loguniform(\"colsample_bytree\", 0.2, 0.6),\n",
        "        \"subsample\": trial.suggest_loguniform(\"subsample\", 0.4, 0.8),\n",
        "        \"alpha\": trial.suggest_loguniform(\"alpha\", 0.01, 10.0),\n",
        "        \"lambda\": trial.suggest_loguniform(\"lambda\", 1e-8, 10.0),\n",
        "        \"gamma\": trial.suggest_loguniform(\"lambda\", 1e-8, 10.0),\n",
        "        \"min_child_weight\": trial.suggest_loguniform(\"min_child_weight\", 10, 1000),\n",
        "        \"seed\": 42,\n",
        "        \n",
        "    }\n",
        "  model = xgb.XGBClassifier(**params)\n",
        "  model.fit(train_x,train_y,eval_set=[(test_x,test_y)],early_stopping_rounds=300,verbose=False)\n",
        "  preds = model.predict(test_x)\n",
        "  roc = roc_auc_score(test_y, preds)\n",
        "  return roc"
      ]
    },
    {
      "cell_type": "code",
      "execution_count": null,
      "metadata": {
        "colab": {
          "background_save": true,
          "base_uri": "https://localhost:8080/"
        },
        "id": "_wmBnQGNpnst",
        "outputId": "5136c20c-64d3-4b18-a637-9fa52cff0544"
      },
      "outputs": [
        {
          "name": "stderr",
          "output_type": "stream",
          "text": [
            "\u001b[32m[I 2022-01-22 15:43:12,923]\u001b[0m A new study created in memory with name: song-pop_trials_200\u001b[0m\n",
            "\u001b[32m[I 2022-01-22 15:43:42,939]\u001b[0m Trial 0 finished with value: 0.513111293182301 and parameters: {'objective': 'multi:softprob', 'num_class': 2, 'max_depth': 5, 'learning_rate': 0.028580782748713444, 'colsample_bytree': 0.3076695663907463, 'subsample': 0.6498455977651223, 'alpha': 0.03451435895048032, 'lambda': 1.9254755103258865e-06, 'min_child_weight': 15.934415116516286}. Best is trial 0 with value: 0.513111293182301.\u001b[0m\n",
            "\u001b[32m[I 2022-01-22 15:44:04,871]\u001b[0m Trial 1 finished with value: 0.5098090853523728 and parameters: {'objective': 'multi:softprob', 'num_class': 2, 'max_depth': 7, 'learning_rate': 0.04536840226134837, 'colsample_bytree': 0.2091495340341043, 'subsample': 0.5397578989559941, 'alpha': 0.12110384692738035, 'lambda': 4.671295615557198e-07, 'min_child_weight': 32.02382704008961}. Best is trial 0 with value: 0.513111293182301.\u001b[0m\n",
            "\u001b[32m[I 2022-01-22 15:44:26,039]\u001b[0m Trial 2 finished with value: 0.5123183442503796 and parameters: {'objective': 'multi:softprob', 'num_class': 2, 'max_depth': 4, 'learning_rate': 0.041310867161404606, 'colsample_bytree': 0.281477862413887, 'subsample': 0.6436010549757044, 'alpha': 0.2732969917708975, 'lambda': 0.020805121198909014, 'min_child_weight': 60.63843949793095}. Best is trial 0 with value: 0.513111293182301.\u001b[0m\n",
            "\u001b[32m[I 2022-01-22 15:45:09,359]\u001b[0m Trial 3 finished with value: 0.5069476054026014 and parameters: {'objective': 'multi:softprob', 'num_class': 2, 'max_depth': 10, 'learning_rate': 0.021545636359994843, 'colsample_bytree': 0.26755241715251793, 'subsample': 0.6258005418793107, 'alpha': 5.650845661640731, 'lambda': 0.00038479868189504997, 'min_child_weight': 10.92647203963936}. Best is trial 0 with value: 0.513111293182301.\u001b[0m\n",
            "\u001b[32m[I 2022-01-22 15:45:24,952]\u001b[0m Trial 4 finished with value: 0.5 and parameters: {'objective': 'multi:softprob', 'num_class': 2, 'max_depth': 8, 'learning_rate': 0.005829661163418252, 'colsample_bytree': 0.5324114286406995, 'subsample': 0.4614307592131312, 'alpha': 4.991395205410658, 'lambda': 3.022712192788774, 'min_child_weight': 624.0733475957321}. Best is trial 0 with value: 0.513111293182301.\u001b[0m\n",
            "\u001b[32m[I 2022-01-22 15:45:44,437]\u001b[0m Trial 5 finished with value: 0.5008933770882192 and parameters: {'objective': 'multi:softprob', 'num_class': 2, 'max_depth': 6, 'learning_rate': 0.01116462737773978, 'colsample_bytree': 0.39773511990644383, 'subsample': 0.45675753481498743, 'alpha': 0.016426174738858046, 'lambda': 0.025086368590781852, 'min_child_weight': 18.054432151011806}. Best is trial 0 with value: 0.513111293182301.\u001b[0m\n",
            "\u001b[32m[I 2022-01-22 15:46:32,755]\u001b[0m Trial 6 finished with value: 0.5 and parameters: {'objective': 'multi:softprob', 'num_class': 2, 'max_depth': 11, 'learning_rate': 0.0184805712790008, 'colsample_bytree': 0.5761356521793229, 'subsample': 0.7710881743172654, 'alpha': 2.2256840518909513, 'lambda': 8.392814258766071, 'min_child_weight': 49.26820885229577}. Best is trial 0 with value: 0.513111293182301.\u001b[0m\n",
            "\u001b[32m[I 2022-01-22 15:47:37,184]\u001b[0m Trial 7 finished with value: 0.5122883603044347 and parameters: {'objective': 'multi:softprob', 'num_class': 2, 'max_depth': 11, 'learning_rate': 0.01777796477438324, 'colsample_bytree': 0.4160816963309158, 'subsample': 0.530056960737718, 'alpha': 0.03463269103194313, 'lambda': 2.20071465233684, 'min_child_weight': 181.07806686904507}. Best is trial 0 with value: 0.513111293182301.\u001b[0m\n",
            "\u001b[32m[I 2022-01-22 15:47:49,418]\u001b[0m Trial 8 finished with value: 0.5 and parameters: {'objective': 'multi:softprob', 'num_class': 2, 'max_depth': 5, 'learning_rate': 0.008682720137373034, 'colsample_bytree': 0.44097525254008235, 'subsample': 0.4562379760564241, 'alpha': 0.027943868701543608, 'lambda': 0.017207086235361962, 'min_child_weight': 767.2574587579304}. Best is trial 0 with value: 0.513111293182301.\u001b[0m\n",
            "\u001b[32m[I 2022-01-22 15:48:00,560]\u001b[0m Trial 9 finished with value: 0.5 and parameters: {'objective': 'multi:softprob', 'num_class': 2, 'max_depth': 8, 'learning_rate': 0.007144746800187777, 'colsample_bytree': 0.249746007907991, 'subsample': 0.7204557455125172, 'alpha': 0.021294814106666147, 'lambda': 9.203076975352003e-08, 'min_child_weight': 970.0275677464838}. Best is trial 0 with value: 0.513111293182301.\u001b[0m\n",
            "\u001b[32m[I 2022-01-22 15:48:37,496]\u001b[0m Trial 10 finished with value: 0.5189751415025496 and parameters: {'objective': 'multi:softprob', 'num_class': 2, 'max_depth': 4, 'learning_rate': 0.028330559169580473, 'colsample_bytree': 0.33123313896593665, 'subsample': 0.40294259935351034, 'alpha': 1.0796673075834005, 'lambda': 2.8495656827794287e-06, 'min_child_weight': 154.66012221185767}. Best is trial 10 with value: 0.5189751415025496.\u001b[0m\n",
            "\u001b[32m[I 2022-01-22 15:49:07,886]\u001b[0m Trial 11 finished with value: 0.5139656550155556 and parameters: {'objective': 'multi:softprob', 'num_class': 2, 'max_depth': 4, 'learning_rate': 0.02641714645236521, 'colsample_bytree': 0.32313961251370893, 'subsample': 0.40892732762831063, 'alpha': 0.9958736120898052, 'lambda': 4.558384124546943e-06, 'min_child_weight': 231.7936828897037}. Best is trial 10 with value: 0.5189751415025496.\u001b[0m\n",
            "\u001b[32m[I 2022-01-22 15:49:40,132]\u001b[0m Trial 12 finished with value: 0.5159442341955705 and parameters: {'objective': 'multi:softprob', 'num_class': 2, 'max_depth': 4, 'learning_rate': 0.02918874492877988, 'colsample_bytree': 0.33925930156685896, 'subsample': 0.40374189990776993, 'alpha': 1.0336435626107177, 'lambda': 1.4505584589667306e-05, 'min_child_weight': 215.04570748691006}. Best is trial 10 with value: 0.5189751415025496.\u001b[0m\n",
            "\u001b[32m[I 2022-01-22 15:50:17,285]\u001b[0m Trial 13 finished with value: 0.5172393239089818 and parameters: {'objective': 'multi:softprob', 'num_class': 2, 'max_depth': 6, 'learning_rate': 0.031978113010537317, 'colsample_bytree': 0.3800259188733226, 'subsample': 0.40234748225025546, 'alpha': 1.084067660277642, 'lambda': 7.198040916679153e-05, 'min_child_weight': 177.64528095646423}. Best is trial 10 with value: 0.5189751415025496.\u001b[0m\n",
            "\u001b[32m[I 2022-01-22 15:51:32,143]\u001b[0m Trial 14 finished with value: 0.5152907286749119 and parameters: {'objective': 'multi:softprob', 'num_class': 2, 'max_depth': 6, 'learning_rate': 0.012742576499071465, 'colsample_bytree': 0.4756705026743513, 'subsample': 0.48477713596487393, 'alpha': 0.6115067793505637, 'lambda': 0.00019661735394992547, 'min_child_weight': 110.90747326285282}. Best is trial 10 with value: 0.5189751415025496.\u001b[0m\n",
            "\u001b[32m[I 2022-01-22 15:52:15,354]\u001b[0m Trial 15 finished with value: 0.5169994523414211 and parameters: {'objective': 'multi:softprob', 'num_class': 2, 'max_depth': 6, 'learning_rate': 0.036413328697048074, 'colsample_bytree': 0.36568246025553963, 'subsample': 0.4054772918661235, 'alpha': 0.18924071297411002, 'lambda': 1.7509920509964077e-08, 'min_child_weight': 362.78400273531514}. Best is trial 10 with value: 0.5189751415025496.\u001b[0m\n",
            "\u001b[32m[I 2022-01-22 15:52:57,245]\u001b[0m Trial 16 finished with value: 0.5188371431007301 and parameters: {'objective': 'multi:softprob', 'num_class': 2, 'max_depth': 9, 'learning_rate': 0.04959818609004184, 'colsample_bytree': 0.3736692971030504, 'subsample': 0.48909724464853843, 'alpha': 2.391888826537407, 'lambda': 7.196399655318505e-05, 'min_child_weight': 107.87681201099491}. Best is trial 10 with value: 0.5189751415025496.\u001b[0m\n",
            "\u001b[32m[I 2022-01-22 15:53:43,367]\u001b[0m Trial 17 finished with value: 0.5168271349653271 and parameters: {'objective': 'multi:softprob', 'num_class': 2, 'max_depth': 9, 'learning_rate': 0.04758583307048256, 'colsample_bytree': 0.46737713815219323, 'subsample': 0.49837273233217605, 'alpha': 2.385595325035976, 'lambda': 0.0014244629927897931, 'min_child_weight': 99.25508388928574}. Best is trial 10 with value: 0.5189751415025496.\u001b[0m\n",
            "\u001b[32m[I 2022-01-22 15:54:15,304]\u001b[0m Trial 18 finished with value: 0.5023788467957638 and parameters: {'objective': 'multi:softprob', 'num_class': 2, 'max_depth': 12, 'learning_rate': 0.022496685207932597, 'colsample_bytree': 0.22373140732962954, 'subsample': 0.569238226360946, 'alpha': 3.048918829415543, 'lambda': 2.1625683623761292e-05, 'min_child_weight': 102.44265848139374}. Best is trial 10 with value: 0.5189751415025496.\u001b[0m\n",
            "\u001b[32m[I 2022-01-22 15:54:40,775]\u001b[0m Trial 19 finished with value: 0.5094268803546631 and parameters: {'objective': 'multi:softprob', 'num_class': 2, 'max_depth': 9, 'learning_rate': 0.03685717985019058, 'colsample_bytree': 0.2954991901382756, 'subsample': 0.431150749073395, 'alpha': 0.4868131819868457, 'lambda': 5.057169716635084e-07, 'min_child_weight': 401.72528615823416}. Best is trial 10 with value: 0.5189751415025496.\u001b[0m\n",
            "\u001b[32m[I 2022-01-22 15:55:14,018]\u001b[0m Trial 20 finished with value: 0.5093069445708827 and parameters: {'objective': 'multi:softprob', 'num_class': 2, 'max_depth': 9, 'learning_rate': 0.0494292056089211, 'colsample_bytree': 0.34278551020115466, 'subsample': 0.5804711694561091, 'alpha': 7.444230770192267, 'lambda': 0.0028281615460759523, 'min_child_weight': 57.288677491592416}. Best is trial 10 with value: 0.5189751415025496.\u001b[0m\n",
            "\u001b[32m[I 2022-01-22 15:56:01,710]\u001b[0m Trial 21 finished with value: 0.5182840657363695 and parameters: {'objective': 'multi:softprob', 'num_class': 2, 'max_depth': 7, 'learning_rate': 0.033161907380116165, 'colsample_bytree': 0.3919384467000513, 'subsample': 0.4330625054420104, 'alpha': 1.4471103073683276, 'lambda': 6.541946908852123e-05, 'min_child_weight': 190.24150742873212}. Best is trial 10 with value: 0.5189751415025496.\u001b[0m\n",
            "\u001b[32m[I 2022-01-22 15:56:59,099]\u001b[0m Trial 22 finished with value: 0.5228828082891521 and parameters: {'objective': 'multi:softprob', 'num_class': 2, 'max_depth': 7, 'learning_rate': 0.03693483782783337, 'colsample_bytree': 0.36475919402647633, 'subsample': 0.43802944304717917, 'alpha': 1.4004452905067315, 'lambda': 5.459448930687856e-05, 'min_child_weight': 337.27261839179937}. Best is trial 22 with value: 0.5228828082891521.\u001b[0m\n",
            "\u001b[32m[I 2022-01-22 15:57:45,025]\u001b[0m Trial 23 finished with value: 0.5108942874441684 and parameters: {'objective': 'multi:softprob', 'num_class': 2, 'max_depth': 10, 'learning_rate': 0.022817717754029614, 'colsample_bytree': 0.35575646568556824, 'subsample': 0.4942948705160082, 'alpha': 0.6212140466333571, 'lambda': 4.375609713823264e-06, 'min_child_weight': 357.5983176448666}. Best is trial 22 with value: 0.5228828082891521.\u001b[0m\n",
            "\u001b[32m[I 2022-01-22 15:58:24,920]\u001b[0m Trial 24 finished with value: 0.5183754625836481 and parameters: {'objective': 'multi:softprob', 'num_class': 2, 'max_depth': 7, 'learning_rate': 0.04004335364298064, 'colsample_bytree': 0.32292527528321774, 'subsample': 0.4361040358153057, 'alpha': 3.1201690486958635, 'lambda': 0.0011429215522795846, 'min_child_weight': 129.3366179350762}. Best is trial 22 with value: 0.5228828082891521.\u001b[0m\n",
            "\u001b[32m[I 2022-01-22 15:59:08,883]\u001b[0m Trial 25 finished with value: 0.5116662837391642 and parameters: {'objective': 'multi:softprob', 'num_class': 2, 'max_depth': 5, 'learning_rate': 0.014552866970956901, 'colsample_bytree': 0.2542814562453298, 'subsample': 0.5255955320905342, 'alpha': 1.655183706001395, 'lambda': 9.433530943555317e-07, 'min_child_weight': 280.7396738641456}. Best is trial 22 with value: 0.5228828082891521.\u001b[0m\n",
            "\u001b[32m[I 2022-01-22 16:00:05,113]\u001b[0m Trial 26 finished with value: 0.5159637418230528 and parameters: {'objective': 'multi:softprob', 'num_class': 2, 'max_depth': 10, 'learning_rate': 0.025293636032417164, 'colsample_bytree': 0.4383872035894012, 'subsample': 0.46972754452495985, 'alpha': 0.3639639856546707, 'lambda': 1.6619173736228184e-05, 'min_child_weight': 564.8524303167467}. Best is trial 22 with value: 0.5228828082891521.\u001b[0m\n",
            "\u001b[32m[I 2022-01-22 16:00:49,396]\u001b[0m Trial 27 finished with value: 0.5154915849875079 and parameters: {'objective': 'multi:softprob', 'num_class': 2, 'max_depth': 8, 'learning_rate': 0.03421094222562317, 'colsample_bytree': 0.5080663827682458, 'subsample': 0.4294109179546197, 'alpha': 8.761361931177456, 'lambda': 1.3348081612893792e-07, 'min_child_weight': 65.96889936156144}. Best is trial 22 with value: 0.5228828082891521.\u001b[0m\n",
            "\u001b[32m[I 2022-01-22 16:01:23,419]\u001b[0m Trial 28 finished with value: 0.5153221576303001 and parameters: {'objective': 'multi:softprob', 'num_class': 2, 'max_depth': 8, 'learning_rate': 0.04118147418545928, 'colsample_bytree': 0.30274748762151044, 'subsample': 0.5105449862634263, 'alpha': 0.09121143453402825, 'lambda': 0.00017298577909320007, 'min_child_weight': 82.10834382514857}. Best is trial 22 with value: 0.5228828082891521.\u001b[0m\n",
            "\u001b[32m[I 2022-01-22 16:01:49,782]\u001b[0m Trial 29 finished with value: 0.5048386141203433 and parameters: {'objective': 'multi:softprob', 'num_class': 2, 'max_depth': 5, 'learning_rate': 0.03019197061595576, 'colsample_bytree': 0.4121461283787812, 'subsample': 0.6003891681873083, 'alpha': 4.859163563345069, 'lambda': 0.15049854077719982, 'min_child_weight': 39.37960884555084}. Best is trial 22 with value: 0.5228828082891521.\u001b[0m\n",
            "\u001b[32m[I 2022-01-22 16:02:38,839]\u001b[0m Trial 30 finished with value: 0.5185044296764479 and parameters: {'objective': 'multi:softprob', 'num_class': 2, 'max_depth': 7, 'learning_rate': 0.02694129657770453, 'colsample_bytree': 0.31989411738303836, 'subsample': 0.47616145343801763, 'alpha': 0.7657403817740531, 'lambda': 3.937133364362309e-06, 'min_child_weight': 145.31351173054017}. Best is trial 22 with value: 0.5228828082891521.\u001b[0m\n",
            "\u001b[32m[I 2022-01-22 16:03:15,583]\u001b[0m Trial 31 finished with value: 0.5119076003161681 and parameters: {'objective': 'multi:softprob', 'num_class': 2, 'max_depth': 7, 'learning_rate': 0.028898777307767787, 'colsample_bytree': 0.3244134543675309, 'subsample': 0.4747322998111147, 'alpha': 0.7614494490174463, 'lambda': 2.5677012787459046e-06, 'min_child_weight': 134.07323473045886}. Best is trial 22 with value: 0.5228828082891521.\u001b[0m\n",
            "\u001b[32m[I 2022-01-22 16:03:42,238]\u001b[0m Trial 32 finished with value: 0.5128504689778147 and parameters: {'objective': 'multi:softprob', 'num_class': 2, 'max_depth': 7, 'learning_rate': 0.049635211706029886, 'colsample_bytree': 0.3716628962565342, 'subsample': 0.4441939237689427, 'alpha': 1.6193793236009906, 'lambda': 4.296127196629185e-05, 'min_child_weight': 140.3177866111703}. Best is trial 22 with value: 0.5228828082891521.\u001b[0m\n",
            "\u001b[32m[I 2022-01-22 16:04:24,725]\u001b[0m Trial 33 finished with value: 0.5198609322911926 and parameters: {'objective': 'multi:softprob', 'num_class': 2, 'max_depth': 9, 'learning_rate': 0.042042050744929046, 'colsample_bytree': 0.28979716877157347, 'subsample': 0.41897878990102094, 'alpha': 0.24263579706934238, 'lambda': 4.889480920380426e-06, 'min_child_weight': 257.3406367578608}. Best is trial 22 with value: 0.5228828082891521.\u001b[0m\n",
            "\u001b[32m[I 2022-01-22 16:04:58,539]\u001b[0m Trial 34 finished with value: 0.5168675952297348 and parameters: {'objective': 'multi:softprob', 'num_class': 2, 'max_depth': 9, 'learning_rate': 0.04319165210579519, 'colsample_bytree': 0.2856657759232033, 'subsample': 0.41771515933171943, 'alpha': 0.09869809916812396, 'lambda': 0.0003849860618116727, 'min_child_weight': 275.02688752738965}. Best is trial 22 with value: 0.5228828082891521.\u001b[0m\n",
            "\u001b[32m[I 2022-01-22 16:05:26,033]\u001b[0m Trial 35 finished with value: 0.5127905010859246 and parameters: {'objective': 'multi:softprob', 'num_class': 2, 'max_depth': 10, 'learning_rate': 0.03860937964893613, 'colsample_bytree': 0.26604029068608004, 'subsample': 0.42067271344107243, 'alpha': 0.23254825099773263, 'lambda': 9.917928690921977e-07, 'min_child_weight': 504.4642913704198}. Best is trial 22 with value: 0.5228828082891521.\u001b[0m\n",
            "\u001b[32m[I 2022-01-22 16:05:52,094]\u001b[0m Trial 36 finished with value: 0.5101298774487492 and parameters: {'objective': 'multi:softprob', 'num_class': 2, 'max_depth': 11, 'learning_rate': 0.044725955192399074, 'colsample_bytree': 0.23133140719079084, 'subsample': 0.4489845753829589, 'alpha': 0.1533408956710171, 'lambda': 2.632879933093472e-07, 'min_child_weight': 329.65244546472036}. Best is trial 22 with value: 0.5228828082891521.\u001b[0m\n",
            "\u001b[32m[I 2022-01-22 16:06:31,710]\u001b[0m Trial 37 finished with value: 0.513283610558395 and parameters: {'objective': 'multi:softprob', 'num_class': 2, 'max_depth': 9, 'learning_rate': 0.034884344137814764, 'colsample_bytree': 0.3481453826323429, 'subsample': 0.41967323811982465, 'alpha': 0.3564743371310599, 'lambda': 5.682899101045605e-06, 'min_child_weight': 26.105702230849964}. Best is trial 22 with value: 0.5228828082891521.\u001b[0m\n",
            "\u001b[32m[I 2022-01-22 16:07:23,739]\u001b[0m Trial 38 finished with value: 0.5149594602600728 and parameters: {'objective': 'multi:softprob', 'num_class': 2, 'max_depth': 8, 'learning_rate': 0.019501094075908023, 'colsample_bytree': 0.2888597755252228, 'subsample': 0.44875525842518765, 'alpha': 3.3301373250437565, 'lambda': 1.4496833315975836e-08, 'min_child_weight': 458.7695663855457}. Best is trial 22 with value: 0.5228828082891521.\u001b[0m\n",
            "\u001b[32m[I 2022-01-22 16:08:03,962]\u001b[0m Trial 39 finished with value: 0.5127215018850148 and parameters: {'objective': 'multi:softprob', 'num_class': 2, 'max_depth': 10, 'learning_rate': 0.04295631529301862, 'colsample_bytree': 0.30815624044518986, 'subsample': 0.5496868735846425, 'alpha': 0.06758866106444501, 'lambda': 0.004845138081165073, 'min_child_weight': 81.60585514771161}. Best is trial 22 with value: 0.5228828082891521.\u001b[0m\n",
            "\u001b[32m[I 2022-01-22 16:08:31,746]\u001b[0m Trial 40 finished with value: 0.5165572794518212 and parameters: {'objective': 'multi:softprob', 'num_class': 2, 'max_depth': 4, 'learning_rate': 0.03862557316546981, 'colsample_bytree': 0.20352921799275003, 'subsample': 0.5102328857008341, 'alpha': 0.010397929830861971, 'lambda': 0.0005215987466007258, 'min_child_weight': 261.2742132763005}. Best is trial 22 with value: 0.5228828082891521.\u001b[0m\n",
            "\u001b[32m[I 2022-01-22 16:09:21,586]\u001b[0m Trial 41 finished with value: 0.518634841778691 and parameters: {'objective': 'multi:softprob', 'num_class': 2, 'max_depth': 7, 'learning_rate': 0.02537242277170957, 'colsample_bytree': 0.3152873079268934, 'subsample': 0.476892041014419, 'alpha': 0.520620366652663, 'lambda': 1.0689818295295828e-05, 'min_child_weight': 163.2909486608465}. Best is trial 22 with value: 0.5228828082891521.\u001b[0m\n",
            "\u001b[32m[I 2022-01-22 16:10:11,743]\u001b[0m Trial 42 finished with value: 0.5157238702554922 and parameters: {'objective': 'multi:softprob', 'num_class': 2, 'max_depth': 8, 'learning_rate': 0.024730909016173256, 'colsample_bytree': 0.27067782942230717, 'subsample': 0.4615379489667245, 'alpha': 0.41934796445043493, 'lambda': 1.1482552582574553e-05, 'min_child_weight': 182.65152973153553}. Best is trial 22 with value: 0.5228828082891521.\u001b[0m\n",
            "\u001b[32m[I 2022-01-22 16:10:57,259]\u001b[0m Trial 43 finished with value: 0.5062236556715899 and parameters: {'objective': 'multi:softprob', 'num_class': 2, 'max_depth': 9, 'learning_rate': 0.01589968008175782, 'colsample_bytree': 0.38611994281592427, 'subsample': 0.4162705379272635, 'alpha': 0.28775113980928685, 'lambda': 4.3560757924903485e-05, 'min_child_weight': 80.84907734729285}. Best is trial 22 with value: 0.5228828082891521.\u001b[0m\n",
            "\u001b[32m[I 2022-01-22 16:11:41,730]\u001b[0m Trial 44 finished with value: 0.5158737899852176 and parameters: {'objective': 'multi:softprob', 'num_class': 2, 'max_depth': 6, 'learning_rate': 0.033171930468138905, 'colsample_bytree': 0.3376085782744135, 'subsample': 0.46075836223627986, 'alpha': 1.2087167393811988, 'lambda': 0.00010496155612859086, 'min_child_weight': 713.984341118298}. Best is trial 22 with value: 0.5228828082891521.\u001b[0m\n",
            "\u001b[32m[I 2022-01-22 16:11:56,864]\u001b[0m Trial 45 finished with value: 0.5 and parameters: {'objective': 'multi:softprob', 'num_class': 2, 'max_depth': 5, 'learning_rate': 0.005010253368602891, 'colsample_bytree': 0.41503766162276784, 'subsample': 0.4409096979284734, 'alpha': 2.1011622908443544, 'lambda': 9.963590337412911e-06, 'min_child_weight': 216.04991366733705}. Best is trial 22 with value: 0.5228828082891521.\u001b[0m\n",
            "\u001b[32m[I 2022-01-22 16:12:44,482]\u001b[0m Trial 46 finished with value: 0.510873334807243 and parameters: {'objective': 'multi:softprob', 'num_class': 2, 'max_depth': 8, 'learning_rate': 0.020126055122870305, 'colsample_bytree': 0.36432612224684774, 'subsample': 0.691588621948394, 'alpha': 0.839110843932991, 'lambda': 1.3182579429300363e-06, 'min_child_weight': 160.0076542395085}. Best is trial 22 with value: 0.5228828082891521.\u001b[0m\n",
            "\u001b[32m[I 2022-01-22 16:13:24,931]\u001b[0m Trial 47 finished with value: 0.512178900839117 and parameters: {'objective': 'multi:softprob', 'num_class': 2, 'max_depth': 11, 'learning_rate': 0.029557969362382794, 'colsample_bytree': 0.31228811309487703, 'subsample': 0.4870880973237411, 'alpha': 0.5232895009521525, 'lambda': 3.113817688658131e-05, 'min_child_weight': 294.25077323405156}. Best is trial 22 with value: 0.5228828082891521.\u001b[0m\n",
            "\u001b[32m[I 2022-01-22 16:13:46,452]\u001b[0m Trial 48 finished with value: 0.5092769606249377 and parameters: {'objective': 'multi:softprob', 'num_class': 2, 'max_depth': 6, 'learning_rate': 0.04299534962846339, 'colsample_bytree': 0.2736493779904808, 'subsample': 0.4010110335355928, 'alpha': 4.416013878253447, 'lambda': 8.554162322018144e-08, 'min_child_weight': 118.25401247104905}. Best is trial 22 with value: 0.5228828082891521.\u001b[0m\n",
            "\u001b[32m[I 2022-01-22 16:13:56,248]\u001b[0m Trial 49 finished with value: 0.5 and parameters: {'objective': 'multi:softprob', 'num_class': 2, 'max_depth': 4, 'learning_rate': 0.010163569547502428, 'colsample_bytree': 0.2517877248991966, 'subsample': 0.5485436382598478, 'alpha': 0.19325395583312607, 'lambda': 2.9596533821370953e-07, 'min_child_weight': 444.23040629521483}. Best is trial 22 with value: 0.5228828082891521.\u001b[0m\n",
            "\u001b[32m[I 2022-01-22 16:15:02,220]\u001b[0m Trial 50 finished with value: 0.5180727331053109 and parameters: {'objective': 'multi:softprob', 'num_class': 2, 'max_depth': 7, 'learning_rate': 0.017179762744960744, 'colsample_bytree': 0.33241232879825994, 'subsample': 0.5157525084060965, 'alpha': 0.05014821958579704, 'lambda': 0.0001718410608428401, 'min_child_weight': 232.14954596112005}. Best is trial 22 with value: 0.5228828082891521.\u001b[0m\n",
            "\u001b[32m[I 2022-01-22 16:15:28,198]\u001b[0m Trial 51 finished with value: 0.5061441801522172 and parameters: {'objective': 'multi:softprob', 'num_class': 2, 'max_depth': 7, 'learning_rate': 0.03203303322698411, 'colsample_bytree': 0.30440130591541403, 'subsample': 0.4741156986748556, 'alpha': 0.7984385628405294, 'lambda': 3.3102120089578545e-06, 'min_child_weight': 151.20803079085894}. Best is trial 22 with value: 0.5228828082891521.\u001b[0m\n",
            "\u001b[32m[I 2022-01-22 16:16:10,224]\u001b[0m Trial 52 finished with value: 0.512610597410254 and parameters: {'objective': 'multi:softprob', 'num_class': 2, 'max_depth': 8, 'learning_rate': 0.027453562211652315, 'colsample_bytree': 0.3159615806302064, 'subsample': 0.4790302411253552, 'alpha': 1.177877137288893, 'lambda': 6.82165793280326e-06, 'min_child_weight': 93.77542016140995}. Best is trial 22 with value: 0.5228828082891521.\u001b[0m\n",
            "\u001b[32m[I 2022-01-22 16:16:59,487]\u001b[0m Trial 53 finished with value: 0.5195386951853731 and parameters: {'objective': 'multi:softprob', 'num_class': 2, 'max_depth': 6, 'learning_rate': 0.024922560235018786, 'colsample_bytree': 0.35847985034277513, 'subsample': 0.42488002534651637, 'alpha': 0.702973685622009, 'lambda': 2.0569406876836865e-06, 'min_child_weight': 164.96860651272863}. Best is trial 22 with value: 0.5228828082891521.\u001b[0m\n",
            "\u001b[32m[I 2022-01-22 16:17:40,692]\u001b[0m Trial 54 finished with value: 0.5155320452519158 and parameters: {'objective': 'multi:softprob', 'num_class': 2, 'max_depth': 6, 'learning_rate': 0.023723110911154102, 'colsample_bytree': 0.35571344484708994, 'subsample': 0.413018733069508, 'alpha': 2.4087145011973776, 'lambda': 2.1220055142811544e-06, 'min_child_weight': 195.99376562096393}. Best is trial 22 with value: 0.5228828082891521.\u001b[0m\n",
            "\u001b[32m[I 2022-01-22 16:18:04,341]\u001b[0m Trial 55 finished with value: 0.5066372896246878 and parameters: {'objective': 'multi:softprob', 'num_class': 2, 'max_depth': 5, 'learning_rate': 0.04672789171231559, 'colsample_bytree': 0.4050386175639523, 'subsample': 0.4267032951803323, 'alpha': 0.5489118443333582, 'lambda': 5.371586089451843e-07, 'min_child_weight': 12.436198098960723}. Best is trial 22 with value: 0.5228828082891521.\u001b[0m\n",
            "\u001b[32m[I 2022-01-22 16:19:00,062]\u001b[0m Trial 56 finished with value: 0.51682857997477 and parameters: {'objective': 'multi:softprob', 'num_class': 2, 'max_depth': 6, 'learning_rate': 0.02174137840969594, 'colsample_bytree': 0.38234477108245324, 'subsample': 0.4526904173743259, 'alpha': 1.4476652723839238, 'lambda': 2.1501851431561705e-05, 'min_child_weight': 247.4931326647145}. Best is trial 22 with value: 0.5228828082891521.\u001b[0m\n",
            "\u001b[32m[I 2022-01-22 16:19:47,232]\u001b[0m Trial 57 finished with value: 0.5193782991371848 and parameters: {'objective': 'multi:softprob', 'num_class': 2, 'max_depth': 9, 'learning_rate': 0.030593012792923282, 'colsample_bytree': 0.37028763815546833, 'subsample': 0.4091537333047626, 'alpha': 0.25516147827356234, 'lambda': 5.50511762608721e-08, 'min_child_weight': 165.93440454812105}. Best is trial 22 with value: 0.5228828082891521.\u001b[0m\n",
            "\u001b[32m[I 2022-01-22 16:20:23,029]\u001b[0m Trial 58 finished with value: 0.5115853632103485 and parameters: {'objective': 'multi:softprob', 'num_class': 2, 'max_depth': 9, 'learning_rate': 0.03695618402862194, 'colsample_bytree': 0.44272278184696745, 'subsample': 0.400251852282206, 'alpha': 0.1369669256349538, 'lambda': 1.6924038049348608e-07, 'min_child_weight': 110.02420130071984}. Best is trial 22 with value: 0.5228828082891521.\u001b[0m\n",
            "\u001b[32m[I 2022-01-22 16:21:03,579]\u001b[0m Trial 59 finished with value: 0.5139356710696105 and parameters: {'objective': 'multi:softprob', 'num_class': 2, 'max_depth': 10, 'learning_rate': 0.030952614112553026, 'colsample_bytree': 0.4302082726953458, 'subsample': 0.41006679566353793, 'alpha': 0.28690549949045263, 'lambda': 8.89906263205975e-08, 'min_child_weight': 340.4099427505127}. Best is trial 22 with value: 0.5228828082891521.\u001b[0m\n",
            "\u001b[32m[I 2022-01-22 16:21:39,090]\u001b[0m Trial 60 finished with value: 0.5145877315808259 and parameters: {'objective': 'multi:softprob', 'num_class': 2, 'max_depth': 9, 'learning_rate': 0.03579701716893224, 'colsample_bytree': 0.3669110271061784, 'subsample': 0.4310252696999382, 'alpha': 0.2306526200110835, 'lambda': 3.2987903662928354e-08, 'min_child_weight': 204.77987410163314}. Best is trial 22 with value: 0.5228828082891521.\u001b[0m\n",
            "\u001b[32m[I 2022-01-22 16:22:20,951]\u001b[0m Trial 61 finished with value: 0.512941865825093 and parameters: {'objective': 'multi:softprob', 'num_class': 2, 'max_depth': 8, 'learning_rate': 0.0254886697171187, 'colsample_bytree': 0.34766783837826226, 'subsample': 0.4370436120920163, 'alpha': 0.4350592239908551, 'lambda': 9.496010124163164e-05, 'min_child_weight': 180.5456326761941}. Best is trial 22 with value: 0.5228828082891521.\u001b[0m\n",
            "\u001b[32m[I 2022-01-22 16:23:03,589]\u001b[0m Trial 62 finished with value: 0.5159651868324959 and parameters: {'objective': 'multi:softprob', 'num_class': 2, 'max_depth': 9, 'learning_rate': 0.04017024064672657, 'colsample_bytree': 0.3938865316965314, 'subsample': 0.423166823205931, 'alpha': 1.898887453780103, 'lambda': 3.8594572453259875e-08, 'min_child_weight': 164.17782910339955}. Best is trial 22 with value: 0.5228828082891521.\u001b[0m\n",
            "\u001b[32m[I 2022-01-22 16:23:47,033]\u001b[0m Trial 63 finished with value: 0.5177819249548796 and parameters: {'objective': 'multi:softprob', 'num_class': 2, 'max_depth': 7, 'learning_rate': 0.02789884476974419, 'colsample_bytree': 0.29876440691281575, 'subsample': 0.7961509217734427, 'alpha': 0.6668769847779442, 'lambda': 9.71910012012161e-06, 'min_child_weight': 121.60305329519775}. Best is trial 22 with value: 0.5228828082891521.\u001b[0m\n",
            "\u001b[32m[I 2022-01-22 16:24:19,538]\u001b[0m Trial 64 finished with value: 0.514245986847524 and parameters: {'objective': 'multi:softprob', 'num_class': 2, 'max_depth': 8, 'learning_rate': 0.04560100398897644, 'colsample_bytree': 0.3309058506568933, 'subsample': 0.4644285275935116, 'alpha': 1.0705893728951805, 'lambda': 6.435686364394423e-07, 'min_child_weight': 67.55138360282074}. Best is trial 22 with value: 0.5228828082891521.\u001b[0m\n",
            "\u001b[32m[I 2022-01-22 16:25:25,071]\u001b[0m Trial 65 finished with value: 0.5152712210474295 and parameters: {'objective': 'multi:softprob', 'num_class': 2, 'max_depth': 10, 'learning_rate': 0.02102670655564299, 'colsample_bytree': 0.5961581453858616, 'subsample': 0.4109921649365346, 'alpha': 0.34202919480339916, 'lambda': 0.0008645962350325292, 'min_child_weight': 225.41427540346615}. Best is trial 22 with value: 0.5228828082891521.\u001b[0m\n",
            "\u001b[32m[I 2022-01-22 16:25:52,743]\u001b[0m Trial 66 finished with value: 0.5096082290397768 and parameters: {'objective': 'multi:softprob', 'num_class': 2, 'max_depth': 6, 'learning_rate': 0.03315146922481407, 'colsample_bytree': 0.37150889262654546, 'subsample': 0.44156054685748286, 'alpha': 0.875363143238554, 'lambda': 1.6264845586523514e-06, 'min_child_weight': 94.20811743745381}. Best is trial 22 with value: 0.5228828082891521.\u001b[0m\n",
            "\u001b[32m[I 2022-01-22 16:26:31,694]\u001b[0m Trial 67 finished with value: 0.5110337308554312 and parameters: {'objective': 'multi:softprob', 'num_class': 2, 'max_depth': 7, 'learning_rate': 0.023594864678037657, 'colsample_bytree': 0.3557402331195206, 'subsample': 0.5014287943128178, 'alpha': 2.6515771086820195, 'lambda': 3.435015788765639e-05, 'min_child_weight': 49.774978778640055}. Best is trial 22 with value: 0.5228828082891521.\u001b[0m\n",
            "\u001b[32m[I 2022-01-22 16:27:24,176]\u001b[0m Trial 68 finished with value: 0.5195191875578907 and parameters: {'objective': 'multi:softprob', 'num_class': 2, 'max_depth': 9, 'learning_rate': 0.03723252397159959, 'colsample_bytree': 0.3414049665375756, 'subsample': 0.4269361460786121, 'alpha': 0.17027695941312734, 'lambda': 0.00023085033336454926, 'min_child_weight': 318.0384667802169}. Best is trial 22 with value: 0.5228828082891521.\u001b[0m\n",
            "\u001b[32m[I 2022-01-22 16:27:55,303]\u001b[0m Trial 69 finished with value: 0.5121984084665994 and parameters: {'objective': 'multi:softprob', 'num_class': 2, 'max_depth': 9, 'learning_rate': 0.04977134035718246, 'colsample_bytree': 0.39780264538018495, 'subsample': 0.42507764948782456, 'alpha': 0.17344550903890177, 'lambda': 0.002286386893127354, 'min_child_weight': 301.9690785583502}. Best is trial 22 with value: 0.5228828082891521.\u001b[0m\n",
            "\u001b[32m[I 2022-01-22 16:28:27,229]\u001b[0m Trial 70 finished with value: 0.5132926418674146 and parameters: {'objective': 'multi:softprob', 'num_class': 2, 'max_depth': 9, 'learning_rate': 0.03840604075403568, 'colsample_bytree': 0.37825624867192664, 'subsample': 0.4087353091057034, 'alpha': 0.11324011377207026, 'lambda': 0.007691416025346069, 'min_child_weight': 368.00272061013226}. Best is trial 22 with value: 0.5228828082891521.\u001b[0m\n",
            "\u001b[32m[I 2022-01-22 16:29:16,079]\u001b[0m Trial 71 finished with value: 0.5175120694413738 and parameters: {'objective': 'multi:softprob', 'num_class': 2, 'max_depth': 8, 'learning_rate': 0.030750073922907097, 'colsample_bytree': 0.3413315335582615, 'subsample': 0.43421208139962836, 'alpha': 0.22601767539330536, 'lambda': 0.00025464662494548943, 'min_child_weight': 131.8588209206446}. Best is trial 22 with value: 0.5228828082891521.\u001b[0m\n",
            "\u001b[32m[I 2022-01-22 16:30:05,474]\u001b[0m Trial 72 finished with value: 0.5183454786377029 and parameters: {'objective': 'multi:softprob', 'num_class': 2, 'max_depth': 9, 'learning_rate': 0.03567398320559089, 'colsample_bytree': 0.3579926362663466, 'subsample': 0.45185873825123796, 'alpha': 0.42075381673086015, 'lambda': 6.358912523415192e-05, 'min_child_weight': 152.9305011151795}. Best is trial 22 with value: 0.5228828082891521.\u001b[0m\n",
            "\u001b[32m[I 2022-01-22 16:30:45,273]\u001b[0m Trial 73 finished with value: 0.5156534260451392 and parameters: {'objective': 'multi:softprob', 'num_class': 2, 'max_depth': 10, 'learning_rate': 0.041919201432315645, 'colsample_bytree': 0.3221398313514268, 'subsample': 0.4181413634669954, 'alpha': 3.6521391345990857, 'lambda': 0.00014054974278340015, 'min_child_weight': 389.08552276288407}. Best is trial 22 with value: 0.5228828082891521.\u001b[0m\n",
            "\u001b[32m[I 2022-01-22 16:31:17,225]\u001b[0m Trial 74 finished with value: 0.51275148583096 and parameters: {'objective': 'multi:softprob', 'num_class': 2, 'max_depth': 5, 'learning_rate': 0.028294633502173754, 'colsample_bytree': 0.2929632854154508, 'subsample': 0.6296096969155988, 'alpha': 0.6113918000351533, 'lambda': 1.9153920810307267e-05, 'min_child_weight': 254.8263112707096}. Best is trial 22 with value: 0.5228828082891521.\u001b[0m\n",
            "\u001b[32m[I 2022-01-22 16:31:29,494]\u001b[0m Trial 75 finished with value: 0.5 and parameters: {'objective': 'multi:softprob', 'num_class': 2, 'max_depth': 7, 'learning_rate': 0.0075031283060505525, 'colsample_bytree': 0.3313853239226884, 'subsample': 0.4423693046073224, 'alpha': 1.3159401276722567, 'lambda': 0.0006546898482321804, 'min_child_weight': 612.1195663654586}. Best is trial 22 with value: 0.5228828082891521.\u001b[0m\n",
            "\u001b[32m[I 2022-01-22 16:32:19,500]\u001b[0m Trial 76 finished with value: 0.5188147454543616 and parameters: {'objective': 'multi:softprob', 'num_class': 2, 'max_depth': 8, 'learning_rate': 0.02570132395568088, 'colsample_bytree': 0.3422394598842621, 'subsample': 0.4052765512613608, 'alpha': 6.4728304908047924, 'lambda': 6.419900409668696e-06, 'min_child_weight': 175.50590675178205}. Best is trial 22 with value: 0.5228828082891521.\u001b[0m\n",
            "\u001b[32m[I 2022-01-22 16:32:48,494]\u001b[0m Trial 77 finished with value: 0.5138757031777204 and parameters: {'objective': 'multi:softprob', 'num_class': 2, 'max_depth': 12, 'learning_rate': 0.046184620935474235, 'colsample_bytree': 0.34696939428939655, 'subsample': 0.4046836843517402, 'alpha': 3.982653510183939, 'lambda': 2.731656568440808e-06, 'min_child_weight': 318.74098253733337}. Best is trial 22 with value: 0.5228828082891521.\u001b[0m\n",
            "\u001b[32m[I 2022-01-22 16:33:35,543]\u001b[0m Trial 78 finished with value: 0.5196495996601338 and parameters: {'objective': 'multi:softprob', 'num_class': 2, 'max_depth': 8, 'learning_rate': 0.034424993685976756, 'colsample_bytree': 0.3747720823065268, 'subsample': 0.4279316156516297, 'alpha': 6.437470078709949, 'lambda': 0.0002901763712414452, 'min_child_weight': 202.35910933654964}. Best is trial 22 with value: 0.5228828082891521.\u001b[0m\n",
            "\u001b[32m[I 2022-01-22 16:34:25,604]\u001b[0m Trial 79 finished with value: 0.5196795836060789 and parameters: {'objective': 'multi:softprob', 'num_class': 2, 'max_depth': 9, 'learning_rate': 0.0377189606276782, 'colsample_bytree': 0.37914005502182685, 'subsample': 0.42496464702133585, 'alpha': 7.996769417944198, 'lambda': 0.09383612291734847, 'min_child_weight': 435.8601346712909}. Best is trial 22 with value: 0.5228828082891521.\u001b[0m\n",
            "\u001b[32m[I 2022-01-22 16:35:00,536]\u001b[0m Trial 80 finished with value: 0.5144768271060651 and parameters: {'objective': 'multi:softprob', 'num_class': 2, 'max_depth': 4, 'learning_rate': 0.034164417253990165, 'colsample_bytree': 0.4284471076706083, 'subsample': 0.42523161121951863, 'alpha': 9.204106123505122, 'lambda': 0.30158850476029336, 'min_child_weight': 522.1019490427851}. Best is trial 22 with value: 0.5228828082891521.\u001b[0m\n",
            "\u001b[32m[I 2022-01-22 16:35:58,318]\u001b[0m Trial 81 finished with value: 0.5132026900295793 and parameters: {'objective': 'multi:softprob', 'num_class': 2, 'max_depth': 9, 'learning_rate': 0.037744965475095954, 'colsample_bytree': 0.37749509179848784, 'subsample': 0.41325850980230594, 'alpha': 5.95528123600159, 'lambda': 2.9423024823652066, 'min_child_weight': 733.9207184191753}. Best is trial 22 with value: 0.5228828082891521.\u001b[0m\n",
            "\u001b[32m[I 2022-01-22 16:36:28,200]\u001b[0m Trial 82 finished with value: 0.5115253953184584 and parameters: {'objective': 'multi:softprob', 'num_class': 2, 'max_depth': 9, 'learning_rate': 0.040590307708747046, 'colsample_bytree': 0.40764811741594603, 'subsample': 0.4321743303379073, 'alpha': 7.070066791251701, 'lambda': 0.43070410180471697, 'min_child_weight': 461.17039093806443}. Best is trial 22 with value: 0.5228828082891521.\u001b[0m\n",
            "\u001b[32m[I 2022-01-22 16:37:00,496]\u001b[0m Trial 83 finished with value: 0.5120380124184112 and parameters: {'objective': 'multi:softprob', 'num_class': 2, 'max_depth': 9, 'learning_rate': 0.03943293962062829, 'colsample_bytree': 0.388657591400837, 'subsample': 0.4195204846171781, 'alpha': 5.138608994546282, 'lambda': 0.00036457989918855935, 'min_child_weight': 399.78106960739086}. Best is trial 22 with value: 0.5228828082891521.\u001b[0m\n",
            "\u001b[32m[I 2022-01-22 16:37:36,994]\u001b[0m Trial 84 finished with value: 0.5125296768814385 and parameters: {'objective': 'multi:softprob', 'num_class': 2, 'max_depth': 10, 'learning_rate': 0.032518538084586164, 'colsample_bytree': 0.3579057088320119, 'subsample': 0.44720421788074755, 'alpha': 1.8191106004895772, 'lambda': 0.0801882954112665, 'min_child_weight': 272.9334296614113}. Best is trial 22 with value: 0.5228828082891521.\u001b[0m\n",
            "\u001b[32m[I 2022-01-22 16:38:16,363]\u001b[0m Trial 85 finished with value: 0.5208218635708785 and parameters: {'objective': 'multi:softprob', 'num_class': 2, 'max_depth': 8, 'learning_rate': 0.043907415241120046, 'colsample_bytree': 0.45995178256442515, 'subsample': 0.4361878786511048, 'alpha': 7.954581484331086, 'lambda': 0.0018868843958888815, 'min_child_weight': 198.57958719490065}. Best is trial 22 with value: 0.5228828082891521.\u001b[0m\n",
            "\u001b[32m[I 2022-01-22 16:38:52,222]\u001b[0m Trial 86 finished with value: 0.5137438460660341 and parameters: {'objective': 'multi:softprob', 'num_class': 2, 'max_depth': 8, 'learning_rate': 0.044156887546869514, 'colsample_bytree': 0.4715616126598267, 'subsample': 0.43618374554015416, 'alpha': 8.040630897664412, 'lambda': 0.006151620307369073, 'min_child_weight': 197.13557692288393}. Best is trial 22 with value: 0.5228828082891521.\u001b[0m\n",
            "\u001b[32m[I 2022-01-22 16:39:45,958]\u001b[0m Trial 87 finished with value: 0.5184939533579852 and parameters: {'objective': 'multi:softprob', 'num_class': 2, 'max_depth': 8, 'learning_rate': 0.034366769550659426, 'colsample_bytree': 0.5264869932856767, 'subsample': 0.6716457705094192, 'alpha': 0.07794103966247694, 'lambda': 0.0019100060435131723, 'min_child_weight': 218.70376202125217}. Best is trial 22 with value: 0.5228828082891521.\u001b[0m\n",
            "\u001b[32m[I 2022-01-22 16:40:39,621]\u001b[0m Trial 88 finished with value: 0.5178823531111776 and parameters: {'objective': 'multi:softprob', 'num_class': 2, 'max_depth': 8, 'learning_rate': 0.030161321373937816, 'colsample_bytree': 0.461531627115768, 'subsample': 0.45699193112012526, 'alpha': 5.377149239938285, 'lambda': 0.02292232994717619, 'min_child_weight': 242.7781967136164}. Best is trial 22 with value: 0.5228828082891521.\u001b[0m\n",
            "\u001b[32m[I 2022-01-22 16:41:35,348]\u001b[0m Trial 89 finished with value: 0.5185344136223929 and parameters: {'objective': 'multi:softprob', 'num_class': 2, 'max_depth': 8, 'learning_rate': 0.0365111250001697, 'colsample_bytree': 0.5602455702030017, 'subsample': 0.42537067072727264, 'alpha': 8.50465542053565, 'lambda': 1.068977500992074, 'min_child_weight': 301.81250140356656}. Best is trial 22 with value: 0.5228828082891521.\u001b[0m\n",
            "\u001b[32m[I 2022-01-22 16:42:12,912]\u001b[0m Trial 90 finished with value: 0.5129628184620186 and parameters: {'objective': 'multi:softprob', 'num_class': 2, 'max_depth': 9, 'learning_rate': 0.03140269593520469, 'colsample_bytree': 0.2760396376074501, 'subsample': 0.4155467778070445, 'alpha': 0.13550321618627656, 'lambda': 0.0036834170641299436, 'min_child_weight': 139.2401893463891}. Best is trial 22 with value: 0.5228828082891521.\u001b[0m\n",
            "\u001b[32m[I 2022-01-22 16:42:49,875]\u001b[0m Trial 91 finished with value: 0.5131008168638382 and parameters: {'objective': 'multi:softprob', 'num_class': 2, 'max_depth': 9, 'learning_rate': 0.04708921422120976, 'colsample_bytree': 0.5041543072461298, 'subsample': 0.4086921659732519, 'alpha': 9.809827273219495, 'lambda': 5.6161681981862936e-05, 'min_child_weight': 118.8119495822786}. Best is trial 22 with value: 0.5228828082891521.\u001b[0m\n",
            "\u001b[32m[I 2022-01-22 16:43:26,442]\u001b[0m Trial 92 finished with value: 0.5101808140316197 and parameters: {'objective': 'multi:softprob', 'num_class': 2, 'max_depth': 10, 'learning_rate': 0.0417460701386455, 'colsample_bytree': 0.372480369307326, 'subsample': 0.4660780374760929, 'alpha': 6.834201103368479, 'lambda': 0.0525871589246064, 'min_child_weight': 102.50491714283424}. Best is trial 22 with value: 0.5228828082891521.\u001b[0m\n",
            "\u001b[32m[I 2022-01-22 16:44:11,573]\u001b[0m Trial 93 finished with value: 0.5238180906512224 and parameters: {'objective': 'multi:softprob', 'num_class': 2, 'max_depth': 9, 'learning_rate': 0.048116551647319795, 'colsample_bytree': 0.2630739636458084, 'subsample': 0.4000366621429257, 'alpha': 2.9983696840708087, 'lambda': 0.009274897234350897, 'min_child_weight': 180.2451959317495}. Best is trial 93 with value: 0.5238180906512224.\u001b[0m\n",
            "\u001b[32m[I 2022-01-22 16:45:07,905]\u001b[0m Trial 94 finished with value: 0.5241179301106733 and parameters: {'objective': 'multi:softprob', 'num_class': 2, 'max_depth': 8, 'learning_rate': 0.037916943529199144, 'colsample_bytree': 0.2627725290054217, 'subsample': 0.40258706873196, 'alpha': 2.7838828494215133, 'lambda': 0.03610404388323017, 'min_child_weight': 272.4400364593892}. Best is trial 94 with value: 0.5241179301106733.\u001b[0m\n",
            "\u001b[32m[I 2022-01-22 16:45:34,448]\u001b[0m Trial 95 finished with value: 0.5116272684841995 and parameters: {'objective': 'multi:softprob', 'num_class': 2, 'max_depth': 8, 'learning_rate': 0.04362383627896401, 'colsample_bytree': 0.22061474295577066, 'subsample': 0.4017757078333209, 'alpha': 2.8771823710791957, 'lambda': 0.03648569332365848, 'min_child_weight': 437.962231843584}. Best is trial 94 with value: 0.5241179301106733.\u001b[0m\n",
            "\u001b[32m[I 2022-01-22 16:46:01,638]\u001b[0m Trial 96 finished with value: 0.5112241108495644 and parameters: {'objective': 'multi:softprob', 'num_class': 2, 'max_depth': 9, 'learning_rate': 0.038055546279440036, 'colsample_bytree': 0.23737740635920634, 'subsample': 0.4214740004382788, 'alpha': 4.176631330656173, 'lambda': 0.014066451625178259, 'min_child_weight': 345.9947534785868}. Best is trial 94 with value: 0.5241179301106733.\u001b[0m\n",
            "\u001b[32m[I 2022-01-22 16:46:28,110]\u001b[0m Trial 97 finished with value: 0.5119570918895955 and parameters: {'objective': 'multi:softprob', 'num_class': 2, 'max_depth': 8, 'learning_rate': 0.04022207693873115, 'colsample_bytree': 0.25791253188025426, 'subsample': 0.4137168145503306, 'alpha': 0.2667986235513072, 'lambda': 0.014467710176852798, 'min_child_weight': 274.21915854022774}. Best is trial 94 with value: 0.5241179301106733.\u001b[0m\n",
            "\u001b[32m[I 2022-01-22 16:46:55,014]\u001b[0m Trial 98 finished with value: 0.5102812421879177 and parameters: {'objective': 'multi:softprob', 'num_class': 2, 'max_depth': 9, 'learning_rate': 0.048134202071392476, 'colsample_bytree': 0.24502994705214703, 'subsample': 0.4299519972854344, 'alpha': 4.6122623693290645, 'lambda': 0.010248559377761432, 'min_child_weight': 202.6488252037474}. Best is trial 94 with value: 0.5241179301106733.\u001b[0m\n",
            "\u001b[32m[I 2022-01-22 16:47:23,163]\u001b[0m Trial 99 finished with value: 0.5113350153243251 and parameters: {'objective': 'multi:softprob', 'num_class': 2, 'max_depth': 7, 'learning_rate': 0.035048162841792525, 'colsample_bytree': 0.25524022767673243, 'subsample': 0.44048029936809857, 'alpha': 5.96351176455518, 'lambda': 0.0012397065111987465, 'min_child_weight': 235.2251175419178}. Best is trial 94 with value: 0.5241179301106733.\u001b[0m\n",
            "\u001b[32m[I 2022-01-22 16:48:05,634]\u001b[0m Trial 100 finished with value: 0.5210570388577489 and parameters: {'objective': 'multi:softprob', 'num_class': 2, 'max_depth': 8, 'learning_rate': 0.04418740812189726, 'colsample_bytree': 0.26721758373472665, 'subsample': 0.40681190628430647, 'alpha': 0.20941570301717502, 'lambda': 0.0005338001662786843, 'min_child_weight': 175.6276394308464}. Best is trial 94 with value: 0.5241179301106733.\u001b[0m\n",
            "\u001b[32m[I 2022-01-22 16:48:33,204]\u001b[0m Trial 101 finished with value: 0.5110051919189292 and parameters: {'objective': 'multi:softprob', 'num_class': 2, 'max_depth': 8, 'learning_rate': 0.0444886477385234, 'colsample_bytree': 0.27860408601517644, 'subsample': 0.4089887771007959, 'alpha': 0.1601103054189987, 'lambda': 0.1533420266461263, 'min_child_weight': 163.903504317058}. Best is trial 94 with value: 0.5241179301106733.\u001b[0m\n",
            "\u001b[32m[I 2022-01-22 16:49:01,527]\u001b[0m Trial 102 finished with value: 0.5129718497710383 and parameters: {'objective': 'multi:softprob', 'num_class': 2, 'max_depth': 8, 'learning_rate': 0.04241586897524276, 'colsample_bytree': 0.28619151965901385, 'subsample': 0.4175718892071517, 'alpha': 0.187967822357509, 'lambda': 0.000639293813477845, 'min_child_weight': 182.87922592225087}. Best is trial 94 with value: 0.5241179301106733.\u001b[0m\n",
            "\u001b[32m[I 2022-01-22 16:49:50,402]\u001b[0m Trial 103 finished with value: 0.5100399256109138 and parameters: {'objective': 'multi:softprob', 'num_class': 2, 'max_depth': 9, 'learning_rate': 0.013988068031051976, 'colsample_bytree': 0.2684144879744102, 'subsample': 0.4017015810442509, 'alpha': 3.3594851505130556, 'lambda': 0.0002951906439220974, 'min_child_weight': 312.61677612337434}. Best is trial 94 with value: 0.5241179301106733.\u001b[0m\n",
            "\u001b[32m[I 2022-01-22 16:50:17,300]\u001b[0m Trial 104 finished with value: 0.5093069445708827 and parameters: {'objective': 'multi:softprob', 'num_class': 2, 'max_depth': 8, 'learning_rate': 0.03763835293174649, 'colsample_bytree': 0.25886835270520453, 'subsample': 0.4297718988545454, 'alpha': 0.2606389409563817, 'lambda': 0.003071681235435528, 'min_child_weight': 209.74413812856335}. Best is trial 94 with value: 0.5241179301106733.\u001b[0m\n",
            "\u001b[32m[I 2022-01-22 16:50:40,240]\u001b[0m Trial 105 finished with value: 0.5090251677294712 and parameters: {'objective': 'multi:softprob', 'num_class': 2, 'max_depth': 7, 'learning_rate': 0.04030411791363734, 'colsample_bytree': 0.26377288596212073, 'subsample': 0.4062580730925691, 'alpha': 0.3097965609214412, 'lambda': 1.0063882918577136e-08, 'min_child_weight': 256.55326918954455}. Best is trial 94 with value: 0.5241179301106733.\u001b[0m\n",
            "\u001b[32m[I 2022-01-22 16:51:06,050]\u001b[0m Trial 106 finished with value: 0.5088347877353379 and parameters: {'objective': 'multi:softprob', 'num_class': 2, 'max_depth': 9, 'learning_rate': 0.04550401037651153, 'colsample_bytree': 0.28104253132151336, 'subsample': 0.42259619126380543, 'alpha': 2.145226695990585, 'lambda': 0.09492649244916622, 'min_child_weight': 175.39031969442297}. Best is trial 94 with value: 0.5241179301106733.\u001b[0m\n",
            "\u001b[32m[I 2022-01-22 16:51:39,918]\u001b[0m Trial 107 finished with value: 0.5104221306086235 and parameters: {'objective': 'multi:softprob', 'num_class': 2, 'max_depth': 10, 'learning_rate': 0.0365284694830509, 'colsample_bytree': 0.2448613685970317, 'subsample': 0.4376192801691305, 'alpha': 0.11426285233816402, 'lambda': 0.0014354196180992092, 'min_child_weight': 148.4762452405154}. Best is trial 94 with value: 0.5241179301106733.\u001b[0m\n",
            "\u001b[32m[I 2022-01-22 16:52:09,177]\u001b[0m Trial 108 finished with value: 0.5106320182302392 and parameters: {'objective': 'multi:softprob', 'num_class': 2, 'max_depth': 8, 'learning_rate': 0.03336431434354728, 'colsample_bytree': 0.23717780750646378, 'subsample': 0.4471865200433082, 'alpha': 0.21339632753562046, 'lambda': 0.00012982710990884489, 'min_child_weight': 287.8401190154364}. Best is trial 94 with value: 0.5241179301106733.\u001b[0m\n",
            "\u001b[32m[I 2022-01-22 16:52:42,163]\u001b[0m Trial 109 finished with value: 0.5143269073763397 and parameters: {'objective': 'multi:softprob', 'num_class': 2, 'max_depth': 9, 'learning_rate': 0.048620832899861716, 'colsample_bytree': 0.4011344357331077, 'subsample': 0.41040363959056636, 'alpha': 0.9444468205239535, 'lambda': 0.0438590930780381, 'min_child_weight': 362.58807020957613}. Best is trial 94 with value: 0.5241179301106733.\u001b[0m\n",
            "\u001b[32m[I 2022-01-22 16:53:17,052]\u001b[0m Trial 110 finished with value: 0.509698180877612 and parameters: {'objective': 'multi:softprob', 'num_class': 2, 'max_depth': 9, 'learning_rate': 0.03906650645486823, 'colsample_bytree': 0.42451182124405973, 'subsample': 0.45562558060325753, 'alpha': 8.07505935028782, 'lambda': 0.0004986142461557675, 'min_child_weight': 222.17723360018445}. Best is trial 94 with value: 0.5241179301106733.\u001b[0m\n",
            "\u001b[32m[I 2022-01-22 16:53:49,466]\u001b[0m Trial 111 finished with value: 0.5113649992702703 and parameters: {'objective': 'multi:softprob', 'num_class': 2, 'max_depth': 7, 'learning_rate': 0.02943057162201906, 'colsample_bytree': 0.36366217138622536, 'subsample': 0.4002977276833997, 'alpha': 0.34677519377620936, 'lambda': 0.00022532378180632374, 'min_child_weight': 194.6491911368171}. Best is trial 94 with value: 0.5241179301106733.\u001b[0m\n",
            "\u001b[32m[I 2022-01-22 16:54:16,782]\u001b[0m Trial 112 finished with value: 0.5127095805571089 and parameters: {'objective': 'multi:softprob', 'num_class': 2, 'max_depth': 4, 'learning_rate': 0.027103513633138985, 'colsample_bytree': 0.26461725055248114, 'subsample': 0.7394375452008501, 'alpha': 1.6322122290700725, 'lambda': 8.213658759366976e-07, 'min_child_weight': 166.71059852654247}. Best is trial 94 with value: 0.5241179301106733.\u001b[0m\n",
            "\u001b[32m[I 2022-01-22 16:54:51,940]\u001b[0m Trial 113 finished with value: 0.5151798242001512 and parameters: {'objective': 'multi:softprob', 'num_class': 2, 'max_depth': 8, 'learning_rate': 0.04185333305410693, 'colsample_bytree': 0.38534002572349874, 'subsample': 0.4178246699702111, 'alpha': 0.20137774354013346, 'lambda': 0.0009726680617992909, 'min_child_weight': 141.512849080523}. Best is trial 94 with value: 0.5241179301106733.\u001b[0m\n",
            "\u001b[32m[I 2022-01-22 16:55:42,070]\u001b[0m Trial 114 finished with value: 0.5194892036119456 and parameters: {'objective': 'multi:softprob', 'num_class': 2, 'max_depth': 9, 'learning_rate': 0.032557131451003016, 'colsample_bytree': 0.35258125751288066, 'subsample': 0.41299175855526904, 'alpha': 1.3614769841160204, 'lambda': 0.005163697487997241, 'min_child_weight': 248.1644874271184}. Best is trial 94 with value: 0.5241179301106733.\u001b[0m\n",
            "\u001b[32m[I 2022-01-22 16:56:22,128]\u001b[0m Trial 115 finished with value: 0.5148695084222376 and parameters: {'objective': 'multi:softprob', 'num_class': 2, 'max_depth': 9, 'learning_rate': 0.032008168246252015, 'colsample_bytree': 0.3504956286642533, 'subsample': 0.42639850353096337, 'alpha': 2.63317387359109, 'lambda': 0.004653203329163225, 'min_child_weight': 248.56545351529553}. Best is trial 94 with value: 0.5241179301106733.\u001b[0m\n",
            "\u001b[32m[I 2022-01-22 16:57:01,205]\u001b[0m Trial 116 finished with value: 0.5142579081754298 and parameters: {'objective': 'multi:softprob', 'num_class': 2, 'max_depth': 9, 'learning_rate': 0.03511849766725084, 'colsample_bytree': 0.3645136927346247, 'subsample': 0.4137271759958361, 'alpha': 1.4771580717281887, 'lambda': 0.0023247983379082178, 'min_child_weight': 339.3925295019072}. Best is trial 94 with value: 0.5241179301106733.\u001b[0m\n",
            "\u001b[32m[I 2022-01-22 16:57:49,003]\u001b[0m Trial 117 finished with value: 0.5192374107164791 and parameters: {'objective': 'multi:softprob', 'num_class': 2, 'max_depth': 9, 'learning_rate': 0.04346584579154429, 'colsample_bytree': 0.3285659641321416, 'subsample': 0.4339024264980027, 'alpha': 0.1336838761990072, 'lambda': 0.006947517856832815, 'min_child_weight': 514.0750757356919}. Best is trial 94 with value: 0.5241179301106733.\u001b[0m\n",
            "\u001b[32m[I 2022-01-22 16:58:30,901]\u001b[0m Trial 118 finished with value: 0.5168780715481975 and parameters: {'objective': 'multi:softprob', 'num_class': 2, 'max_depth': 8, 'learning_rate': 0.03637565706791817, 'colsample_bytree': 0.2498760146716782, 'subsample': 0.40535999952740753, 'alpha': 3.7671506982266023, 'lambda': 0.030962108720593174, 'min_child_weight': 430.21591858160104}. Best is trial 94 with value: 0.5241179301106733.\u001b[0m\n",
            "\u001b[32m[I 2022-01-22 16:59:40,620]\u001b[0m Trial 119 finished with value: 0.5128414376687952 and parameters: {'objective': 'multi:softprob', 'num_class': 2, 'max_depth': 6, 'learning_rate': 0.011463946046482865, 'colsample_bytree': 0.45486517188561526, 'subsample': 0.42223760351951817, 'alpha': 0.24389165465031, 'lambda': 4.313448016279771e-08, 'min_child_weight': 282.61777508619576}. Best is trial 94 with value: 0.5241179301106733.\u001b[0m\n",
            "\u001b[32m[I 2022-01-22 17:00:05,859]\u001b[0m Trial 120 finished with value: 0.5116662837391642 and parameters: {'objective': 'multi:softprob', 'num_class': 2, 'max_depth': 10, 'learning_rate': 0.04642221914601358, 'colsample_bytree': 0.29272650128395433, 'subsample': 0.5838207718989415, 'alpha': 0.6907881284827537, 'lambda': 8.990631689240201e-05, 'min_child_weight': 976.9290792997974}. Best is trial 94 with value: 0.5241179301106733.\u001b[0m\n",
            "\u001b[32m[I 2022-01-22 17:00:44,389]\u001b[0m Trial 121 finished with value: 0.5171089118067387 and parameters: {'objective': 'multi:softprob', 'num_class': 2, 'max_depth': 9, 'learning_rate': 0.04414555014745625, 'colsample_bytree': 0.33674502101992243, 'subsample': 0.43213330012064016, 'alpha': 0.16083747572685095, 'lambda': 0.01047831548263185, 'min_child_weight': 475.6732580721863}. Best is trial 94 with value: 0.5241179301106733.\u001b[0m\n",
            "\u001b[32m[I 2022-01-22 17:01:23,561]\u001b[0m Trial 122 finished with value: 0.5128909292422226 and parameters: {'objective': 'multi:softprob', 'num_class': 2, 'max_depth': 9, 'learning_rate': 0.03938567832230049, 'colsample_bytree': 0.491946999379027, 'subsample': 0.436912279189594, 'alpha': 0.0924409510603172, 'lambda': 0.021711317064770957, 'min_child_weight': 222.36232531049407}. Best is trial 94 with value: 0.5241179301106733.\u001b[0m\n",
            "\u001b[32m[I 2022-01-22 17:01:55,713]\u001b[0m Trial 123 finished with value: 0.5143164310578769 and parameters: {'objective': 'multi:softprob', 'num_class': 2, 'max_depth': 9, 'learning_rate': 0.04166198539210477, 'colsample_bytree': 0.3530640177017863, 'subsample': 0.44409864256917747, 'alpha': 0.14121270769195346, 'lambda': 0.004254706877549129, 'min_child_weight': 867.1637251434029}. Best is trial 94 with value: 0.5241179301106733.\u001b[0m\n",
            "\u001b[32m[I 2022-01-22 17:02:26,401]\u001b[0m Trial 124 finished with value: 0.5156115207712882 and parameters: {'objective': 'multi:softprob', 'num_class': 2, 'max_depth': 9, 'learning_rate': 0.049842821302419946, 'colsample_bytree': 0.33026676886844747, 'subsample': 0.4158044371035236, 'alpha': 0.38023725273929093, 'lambda': 0.009503009377817458, 'min_child_weight': 563.7395153767577}. Best is trial 94 with value: 0.5241179301106733.\u001b[0m\n",
            "\u001b[32m[I 2022-01-22 17:03:02,435]\u001b[0m Trial 125 finished with value: 0.5146686521096416 and parameters: {'objective': 'multi:softprob', 'num_class': 2, 'max_depth': 10, 'learning_rate': 0.03867886533294539, 'colsample_bytree': 0.31017997029868116, 'subsample': 0.42851665859176596, 'alpha': 7.533748690204794, 'lambda': 0.006424952601522941, 'min_child_weight': 387.98100317041536}. Best is trial 94 with value: 0.5241179301106733.\u001b[0m\n",
            "\u001b[32m[I 2022-01-22 17:03:41,636]\u001b[0m Trial 126 finished with value: 0.5157224252460489 and parameters: {'objective': 'multi:softprob', 'num_class': 2, 'max_depth': 8, 'learning_rate': 0.03335305840438085, 'colsample_bytree': 0.3260202841073604, 'subsample': 0.40872095853486123, 'alpha': 0.12888107069833463, 'lambda': 0.0015735905852274639, 'min_child_weight': 511.933514472467}. Best is trial 94 with value: 0.5241179301106733.\u001b[0m\n",
            "\u001b[32m[I 2022-01-22 17:04:14,473]\u001b[0m Trial 127 finished with value: 0.514918999995665 and parameters: {'objective': 'multi:softprob', 'num_class': 2, 'max_depth': 9, 'learning_rate': 0.043115738990870685, 'colsample_bytree': 0.36939523417684667, 'subsample': 0.42130593269516103, 'alpha': 0.175181853522368, 'lambda': 0.07212570866202131, 'min_child_weight': 653.0356306551656}. Best is trial 94 with value: 0.5241179301106733.\u001b[0m\n",
            "\u001b[32m[I 2022-01-22 17:04:47,399]\u001b[0m Trial 128 finished with value: 0.5136943544926066 and parameters: {'objective': 'multi:softprob', 'num_class': 2, 'max_depth': 8, 'learning_rate': 0.037206955678078454, 'colsample_bytree': 0.3459609703637874, 'subsample': 0.4342661380612044, 'alpha': 1.2304043814354773, 'lambda': 2.7513584874040033e-07, 'min_child_weight': 318.29209718977444}. Best is trial 94 with value: 0.5241179301106733.\u001b[0m\n",
            "\u001b[32m[I 2022-01-22 17:05:14,032]\u001b[0m Trial 129 finished with value: 0.5076506024966873 and parameters: {'objective': 'multi:softprob', 'num_class': 2, 'max_depth': 8, 'learning_rate': 0.03470525619764329, 'colsample_bytree': 0.2981898377111281, 'subsample': 0.41146998195571194, 'alpha': 5.040813920739847, 'lambda': 0.00044479225313081623, 'min_child_weight': 189.95371533987117}. Best is trial 94 with value: 0.5241179301106733.\u001b[0m\n",
            "\u001b[32m[I 2022-01-22 17:05:54,355]\u001b[0m Trial 130 finished with value: 0.5165767870793035 and parameters: {'objective': 'multi:softprob', 'num_class': 2, 'max_depth': 9, 'learning_rate': 0.04607614007960483, 'colsample_bytree': 0.3918295105237267, 'subsample': 0.4253221615589184, 'alpha': 0.4800843028405203, 'lambda': 0.22360622394164445, 'min_child_weight': 263.35204788099924}. Best is trial 94 with value: 0.5241179301106733.\u001b[0m\n",
            "\u001b[32m[I 2022-01-22 17:06:31,588]\u001b[0m Trial 131 finished with value: 0.511003746909486 and parameters: {'objective': 'multi:softprob', 'num_class': 2, 'max_depth': 9, 'learning_rate': 0.028816588482151483, 'colsample_bytree': 0.33713515388672094, 'subsample': 0.4053620618397379, 'alpha': 1.0201281681732828, 'lambda': 0.0009705818783312157, 'min_child_weight': 128.65589913577952}. Best is trial 94 with value: 0.5241179301106733.\u001b[0m\n",
            "\u001b[32m[I 2022-01-22 17:07:10,259]\u001b[0m Trial 132 finished with value: 0.5180127652134207 and parameters: {'objective': 'multi:softprob', 'num_class': 2, 'max_depth': 5, 'learning_rate': 0.03097985538499438, 'colsample_bytree': 0.36088799869078, 'subsample': 0.41649517945616, 'alpha': 0.10267815858615459, 'lambda': 1.3687443907801326e-06, 'min_child_weight': 159.50378937594573}. Best is trial 94 with value: 0.5241179301106733.\u001b[0m\n",
            "\u001b[32m[I 2022-01-22 17:07:54,080]\u001b[0m Trial 133 finished with value: 0.5194277907106123 and parameters: {'objective': 'multi:softprob', 'num_class': 2, 'max_depth': 7, 'learning_rate': 0.032619292745601096, 'colsample_bytree': 0.31626916069939676, 'subsample': 0.40130192956969, 'alpha': 1.4296772698647167, 'lambda': 3.987532878131759e-06, 'min_child_weight': 207.87637932695876}. Best is trial 94 with value: 0.5241179301106733.\u001b[0m\n",
            "\u001b[32m[I 2022-01-22 17:08:21,152]\u001b[0m Trial 134 finished with value: 0.5129613734525755 and parameters: {'objective': 'multi:softprob', 'num_class': 2, 'max_depth': 6, 'learning_rate': 0.04047241735722185, 'colsample_bytree': 0.31755603152097234, 'subsample': 0.40191752809573883, 'alpha': 1.3956381690325848, 'lambda': 3.0133857521168407e-05, 'min_child_weight': 211.7408186647061}. Best is trial 94 with value: 0.5241179301106733.\u001b[0m\n",
            "\u001b[32m[I 2022-01-22 17:09:11,436]\u001b[0m Trial 135 finished with value: 0.5190874909867537 and parameters: {'objective': 'multi:softprob', 'num_class': 2, 'max_depth': 7, 'learning_rate': 0.03231200456679583, 'colsample_bytree': 0.37593390789693165, 'subsample': 0.4001592815584006, 'alpha': 1.7912801764075312, 'lambda': 4.935333040711801e-06, 'min_child_weight': 240.58840723244342}. Best is trial 94 with value: 0.5241179301106733.\u001b[0m\n",
            "\u001b[32m[I 2022-01-22 17:09:37,990]\u001b[0m Trial 136 finished with value: 0.5105915579658313 and parameters: {'objective': 'multi:softprob', 'num_class': 2, 'max_depth': 7, 'learning_rate': 0.035602339006497986, 'colsample_bytree': 0.2742939043894769, 'subsample': 0.4121762551697725, 'alpha': 2.1820472235344637, 'lambda': 0.002754059014588748, 'min_child_weight': 401.89901823691224}. Best is trial 94 with value: 0.5241179301106733.\u001b[0m\n",
            "\u001b[32m[I 2022-01-22 17:10:15,654]\u001b[0m Trial 137 finished with value: 0.5168390562932329 and parameters: {'objective': 'multi:softprob', 'num_class': 2, 'max_depth': 8, 'learning_rate': 0.03784695953667818, 'colsample_bytree': 0.2843993429349287, 'subsample': 0.4204160945122813, 'alpha': 9.823006737877327, 'lambda': 0.00021101805271861706, 'min_child_weight': 177.98573077501928}. Best is trial 94 with value: 0.5241179301106733.\u001b[0m\n",
            "\u001b[32m[I 2022-01-22 17:10:41,667]\u001b[0m Trial 138 finished with value: 0.506384051719778 and parameters: {'objective': 'multi:softprob', 'num_class': 2, 'max_depth': 8, 'learning_rate': 0.033861468894185114, 'colsample_bytree': 0.26082045420316424, 'subsample': 0.42940098349476924, 'alpha': 0.29198399824497845, 'lambda': 1.4504414801066075e-05, 'min_child_weight': 25.26301070145977}. Best is trial 94 with value: 0.5241179301106733.\u001b[0m\n",
            "\u001b[32m[I 2022-01-22 17:11:13,756]\u001b[0m Trial 139 finished with value: 0.5143478600132653 and parameters: {'objective': 'multi:softprob', 'num_class': 2, 'max_depth': 9, 'learning_rate': 0.04420357569740116, 'colsample_bytree': 0.3079237836695728, 'subsample': 0.40926366670943926, 'alpha': 6.094148266031519, 'lambda': 0.021812153535561627, 'min_child_weight': 301.5522354173856}. Best is trial 94 with value: 0.5241179301106733.\u001b[0m\n",
            "\u001b[32m[I 2022-01-22 17:11:51,786]\u001b[0m Trial 140 finished with value: 0.518705285989044 and parameters: {'objective': 'multi:softprob', 'num_class': 2, 'max_depth': 7, 'learning_rate': 0.04119725890978232, 'colsample_bytree': 0.3405838068056322, 'subsample': 0.4511217371205192, 'alpha': 3.078396272164119, 'lambda': 0.0007595591492402538, 'min_child_weight': 198.57587851638448}. Best is trial 94 with value: 0.5241179301106733.\u001b[0m\n",
            "\u001b[32m[I 2022-01-22 17:12:37,345]\u001b[0m Trial 141 finished with value: 0.5185853502052635 and parameters: {'objective': 'multi:softprob', 'num_class': 2, 'max_depth': 7, 'learning_rate': 0.032041596089527585, 'colsample_bytree': 0.38017574813250243, 'subsample': 0.4057701124788456, 'alpha': 1.8689084204325461, 'lambda': 3.972010070610293e-06, 'min_child_weight': 244.1070395272399}. Best is trial 94 with value: 0.5241179301106733.\u001b[0m\n",
            "\u001b[32m[I 2022-01-22 17:13:27,509]\u001b[0m Trial 142 finished with value: 0.5192883472993497 and parameters: {'objective': 'multi:softprob', 'num_class': 2, 'max_depth': 7, 'learning_rate': 0.030336648787900346, 'colsample_bytree': 0.3762405446972588, 'subsample': 0.40086961815192146, 'alpha': 1.7894270203670684, 'lambda': 7.784431586770505e-06, 'min_child_weight': 237.63915737643185}. Best is trial 94 with value: 0.5241179301106733.\u001b[0m\n",
            "\u001b[32m[I 2022-01-22 17:14:11,381]\u001b[0m Trial 143 finished with value: 0.5187652538809342 and parameters: {'objective': 'multi:softprob', 'num_class': 2, 'max_depth': 6, 'learning_rate': 0.030949712218517333, 'colsample_bytree': 0.3507811721396758, 'subsample': 0.4160181303689066, 'alpha': 2.4549957336346595, 'lambda': 7.275080366215864e-06, 'min_child_weight': 222.07204690641814}. Best is trial 94 with value: 0.5241179301106733.\u001b[0m\n",
            "\u001b[32m[I 2022-01-22 17:14:44,642]\u001b[0m Trial 144 finished with value: 0.5090461203663966 and parameters: {'objective': 'multi:softprob', 'num_class': 2, 'max_depth': 7, 'learning_rate': 0.026491497550147014, 'colsample_bytree': 0.32402428161485025, 'subsample': 0.4408623689851454, 'alpha': 1.2005141363344125, 'lambda': 2.5738407046958707e-06, 'min_child_weight': 334.6316513163244}. Best is trial 94 with value: 0.5241179301106733.\u001b[0m\n",
            "\u001b[32m[I 2022-01-22 17:15:45,018]\u001b[0m Trial 145 finished with value: 0.5213059417343292 and parameters: {'objective': 'multi:softprob', 'num_class': 2, 'max_depth': 8, 'learning_rate': 0.029620805137969348, 'colsample_bytree': 0.3675983081596477, 'subsample': 0.4238491106787242, 'alpha': 2.0373771723019045, 'lambda': 3.80576771522199e-07, 'min_child_weight': 286.99557543305184}. Best is trial 94 with value: 0.5241179301106733.\u001b[0m\n",
            "\u001b[32m[I 2022-01-22 17:16:17,035]\u001b[0m Trial 146 finished with value: 0.5108523821703175 and parameters: {'objective': 'multi:softprob', 'num_class': 2, 'max_depth': 8, 'learning_rate': 0.02951708484985285, 'colsample_bytree': 0.370208913653845, 'subsample': 0.42277063275191723, 'alpha': 1.5648519087547652, 'lambda': 1.7993330519302266e-06, 'min_child_weight': 282.05662722254186}. Best is trial 94 with value: 0.5241179301106733.\u001b[0m\n",
            "\u001b[32m[I 2022-01-22 17:16:55,064]\u001b[0m Trial 147 finished with value: 0.5102107979775649 and parameters: {'objective': 'multi:softprob', 'num_class': 2, 'max_depth': 8, 'learning_rate': 0.027886847994613134, 'colsample_bytree': 0.38745720973286907, 'subsample': 0.4117686840050228, 'alpha': 2.0148199029431635, 'lambda': 6.043840448049705e-07, 'min_child_weight': 259.2779835423007}. Best is trial 94 with value: 0.5241179301106733.\u001b[0m\n",
            "\u001b[32m[I 2022-01-22 17:17:53,026]\u001b[0m Trial 148 finished with value: 0.5225710475017955 and parameters: {'objective': 'multi:softprob', 'num_class': 2, 'max_depth': 8, 'learning_rate': 0.029664609696675084, 'colsample_bytree': 0.360336660291073, 'subsample': 0.40048548734905925, 'alpha': 2.342084065313727, 'lambda': 1.600442693822099e-07, 'min_child_weight': 187.44400592390693}. Best is trial 94 with value: 0.5241179301106733.\u001b[0m\n",
            "\u001b[32m[I 2022-01-22 17:18:29,230]\u001b[0m Trial 149 finished with value: 0.5171374507432406 and parameters: {'objective': 'multi:softprob', 'num_class': 2, 'max_depth': 8, 'learning_rate': 0.03604799545920768, 'colsample_bytree': 0.3585341918535158, 'subsample': 0.41774165200160535, 'alpha': 3.5584596189900988, 'lambda': 7.891687878002833e-08, 'min_child_weight': 176.6216295024382}. Best is trial 94 with value: 0.5241179301106733.\u001b[0m\n",
            "\u001b[32m[I 2022-01-22 17:19:07,011]\u001b[0m Trial 150 finished with value: 0.5135144508169361 and parameters: {'objective': 'multi:softprob', 'num_class': 2, 'max_depth': 8, 'learning_rate': 0.03298987473946463, 'colsample_bytree': 0.3627438301968699, 'subsample': 0.4070268301729783, 'alpha': 2.213777477271291, 'lambda': 1.1393290590293988e-07, 'min_child_weight': 206.15098840481645}. Best is trial 94 with value: 0.5241179301106733.\u001b[0m\n",
            "\u001b[32m[I 2022-01-22 17:19:57,215]\u001b[0m Trial 151 finished with value: 0.5176110525882287 and parameters: {'objective': 'multi:softprob', 'num_class': 2, 'max_depth': 7, 'learning_rate': 0.023741439047847618, 'colsample_bytree': 0.37606154350576376, 'subsample': 0.40093543331093373, 'alpha': 2.790594830264941, 'lambda': 1.8215336739880128e-07, 'min_child_weight': 153.1005397591908}. Best is trial 94 with value: 0.5241179301106733.\u001b[0m\n",
            "\u001b[32m[I 2022-01-22 17:20:42,799]\u001b[0m Trial 152 finished with value: 0.5169290081310682 and parameters: {'objective': 'multi:softprob', 'num_class': 2, 'max_depth': 6, 'learning_rate': 0.030076399765981476, 'colsample_bytree': 0.39628532526538307, 'subsample': 0.4068283003657462, 'alpha': 1.6749218980549896, 'lambda': 5.3750277429496983e-08, 'min_child_weight': 228.8601186287908}. Best is trial 94 with value: 0.5241179301106733.\u001b[0m\n",
            "\u001b[32m[I 2022-01-22 17:21:15,472]\u001b[0m Trial 153 finished with value: 0.5118566637332975 and parameters: {'objective': 'multi:softprob', 'num_class': 2, 'max_depth': 7, 'learning_rate': 0.02778181540677293, 'colsample_bytree': 0.38341195223909885, 'subsample': 0.41533176797142735, 'alpha': 1.3126909576541386, 'lambda': 1.8912376053317066e-07, 'min_child_weight': 272.9491163103613}. Best is trial 94 with value: 0.5241179301106733.\u001b[0m\n",
            "\u001b[32m[I 2022-01-22 17:21:50,087]\u001b[0m Trial 154 finished with value: 0.5147481276290141 and parameters: {'objective': 'multi:softprob', 'num_class': 2, 'max_depth': 8, 'learning_rate': 0.03455465183132276, 'colsample_bytree': 0.35254289855228005, 'subsample': 0.42623995896296446, 'alpha': 2.3699511202656116, 'lambda': 3.362028730852836e-07, 'min_child_weight': 193.85391970015988}. Best is trial 94 with value: 0.5241179301106733.\u001b[0m\n",
            "\u001b[32m[I 2022-01-22 17:22:30,642]\u001b[0m Trial 155 finished with value: 0.5137452910754772 and parameters: {'objective': 'multi:softprob', 'num_class': 2, 'max_depth': 8, 'learning_rate': 0.030511295059161767, 'colsample_bytree': 0.36718461494480603, 'subsample': 0.40074977839902737, 'alpha': 1.8104909259391353, 'lambda': 6.136546656016051e-08, 'min_child_weight': 364.0502958931797}. Best is trial 94 with value: 0.5241179301106733.\u001b[0m\n",
            "\u001b[32m[I 2022-01-22 17:23:19,179]\u001b[0m Trial 156 finished with value: 0.5119885208449837 and parameters: {'objective': 'multi:softprob', 'num_class': 2, 'max_depth': 8, 'learning_rate': 0.018016810669667194, 'colsample_bytree': 0.2690747665383808, 'subsample': 0.4118480560400401, 'alpha': 2.8759755328209726, 'lambda': 1.933794942084817e-08, 'min_child_weight': 168.58442207075578}. Best is trial 94 with value: 0.5241179301106733.\u001b[0m\n",
            "\u001b[32m[I 2022-01-22 17:24:26,024]\u001b[0m Trial 157 finished with value: 0.5178223852192874 and parameters: {'objective': 'multi:softprob', 'num_class': 2, 'max_depth': 9, 'learning_rate': 0.024577975926739565, 'colsample_bytree': 0.41720175706151225, 'subsample': 0.4207500720981137, 'alpha': 1.0580540415206103, 'lambda': 8.844731505043763e-07, 'min_child_weight': 244.90542897739385}. Best is trial 94 with value: 0.5241179301106733.\u001b[0m\n",
            "\u001b[32m[I 2022-01-22 17:25:13,104]\u001b[0m Trial 158 finished with value: 0.5184144778386126 and parameters: {'objective': 'multi:softprob', 'num_class': 2, 'max_depth': 7, 'learning_rate': 0.029041030350826037, 'colsample_bytree': 0.35525822442866317, 'subsample': 0.40612551588863416, 'alpha': 7.109390470081833, 'lambda': 9.98181470847122e-06, 'min_child_weight': 215.1618302635908}. Best is trial 94 with value: 0.5241179301106733.\u001b[0m\n",
            "\u001b[32m[I 2022-01-22 17:25:52,311]\u001b[0m Trial 159 finished with value: 0.5131622297651716 and parameters: {'objective': 'multi:softprob', 'num_class': 2, 'max_depth': 9, 'learning_rate': 0.03225275085269917, 'colsample_bytree': 0.3467932736912221, 'subsample': 0.5383407693780969, 'alpha': 1.4678563732675411, 'lambda': 4.141357745450992e-07, 'min_child_weight': 315.57319807983595}. Best is trial 94 with value: 0.5241179301106733.\u001b[0m\n",
            "\u001b[32m[I 2022-01-22 17:26:35,516]\u001b[0m Trial 160 finished with value: 0.5175810686422836 and parameters: {'objective': 'multi:softprob', 'num_class': 2, 'max_depth': 8, 'learning_rate': 0.039685255670259365, 'colsample_bytree': 0.405938159840103, 'subsample': 0.4280587493393471, 'alpha': 4.293715312685559, 'lambda': 0.0003520376301991575, 'min_child_weight': 138.83983358935953}. Best is trial 94 with value: 0.5241179301106733.\u001b[0m\n",
            "\u001b[32m[I 2022-01-22 17:27:05,162]\u001b[0m Trial 161 finished with value: 0.5130813092363559 and parameters: {'objective': 'multi:softprob', 'num_class': 2, 'max_depth': 9, 'learning_rate': 0.04794720410740776, 'colsample_bytree': 0.3340502312388378, 'subsample': 0.4331833735286108, 'alpha': 0.22956726943973366, 'lambda': 0.016261627779805346, 'min_child_weight': 187.5865112285643}. Best is trial 94 with value: 0.5241179301106733.\u001b[0m\n",
            "\u001b[32m[I 2022-01-22 17:27:49,919]\u001b[0m Trial 162 finished with value: 0.5183530649372794 and parameters: {'objective': 'multi:softprob', 'num_class': 2, 'max_depth': 9, 'learning_rate': 0.037029571655695634, 'colsample_bytree': 0.34154703221208127, 'subsample': 0.438284627281432, 'alpha': 0.14880893234371023, 'lambda': 0.12340367475816097, 'min_child_weight': 575.8013320821415}. Best is trial 94 with value: 0.5241179301106733.\u001b[0m\n",
            "\u001b[32m[I 2022-01-22 17:28:18,814]\u001b[0m Trial 163 finished with value: 0.5124697089895481 and parameters: {'objective': 'multi:softprob', 'num_class': 2, 'max_depth': 9, 'learning_rate': 0.042308521633616834, 'colsample_bytree': 0.37114182865012574, 'subsample': 0.41246914262189327, 'alpha': 1.9310374986351055, 'lambda': 2.729476049211597e-08, 'min_child_weight': 425.5161053517552}. Best is trial 94 with value: 0.5241179301106733.\u001b[0m\n",
            "\u001b[32m[I 2022-01-22 17:28:49,450]\u001b[0m Trial 164 finished with value: 0.5125101692539561 and parameters: {'objective': 'multi:softprob', 'num_class': 2, 'max_depth': 9, 'learning_rate': 0.04438433871445768, 'colsample_bytree': 0.35887534551814215, 'subsample': 0.42400631192562815, 'alpha': 0.1861542524245511, 'lambda': 0.0053018120042984075, 'min_child_weight': 299.06771235295093}. Best is trial 94 with value: 0.5241179301106733.\u001b[0m\n",
            "\u001b[32m[I 2022-01-22 17:29:16,563]\u001b[0m Trial 165 finished with value: 0.5096172603487963 and parameters: {'objective': 'multi:softprob', 'num_class': 2, 'max_depth': 10, 'learning_rate': 0.03808093365340963, 'colsample_bytree': 0.30151622995579364, 'subsample': 0.41710767487783185, 'alpha': 0.9003212887346227, 'lambda': 3.6541835852196472e-06, 'min_child_weight': 231.94963206403077}. Best is trial 94 with value: 0.5241179301106733.\u001b[0m\n",
            "\u001b[32m[I 2022-01-22 17:29:51,668]\u001b[0m Trial 166 finished with value: 0.5133435784502852 and parameters: {'objective': 'multi:softprob', 'num_class': 2, 'max_depth': 9, 'learning_rate': 0.035014991319725255, 'colsample_bytree': 0.3796900875394569, 'subsample': 0.4056501472914461, 'alpha': 0.20879619655965156, 'lambda': 0.007861792394710396, 'min_child_weight': 260.6284641345024}. Best is trial 94 with value: 0.5241179301106733.\u001b[0m\n",
            "\u001b[32m[I 2022-01-22 17:30:30,355]\u001b[0m Trial 167 finished with value: 0.5159742181415155 and parameters: {'objective': 'multi:softprob', 'num_class': 2, 'max_depth': 8, 'learning_rate': 0.03382563482973656, 'colsample_bytree': 0.3278404102732941, 'subsample': 0.4321080559514711, 'alpha': 2.5633012387109826, 'lambda': 0.00187396980087774, 'min_child_weight': 210.0699759153236}. Best is trial 94 with value: 0.5241179301106733.\u001b[0m\n",
            "\u001b[32m[I 2022-01-22 17:30:59,341]\u001b[0m Trial 168 finished with value: 0.5123588045147875 and parameters: {'objective': 'multi:softprob', 'num_class': 2, 'max_depth': 8, 'learning_rate': 0.047607735426013244, 'colsample_bytree': 0.34422895669685794, 'subsample': 0.44321080582985956, 'alpha': 8.52529419251896, 'lambda': 1.1253746678311237e-06, 'min_child_weight': 153.4974517352555}. Best is trial 94 with value: 0.5241179301106733.\u001b[0m\n",
            "\u001b[32m[I 2022-01-22 17:31:24,125]\u001b[0m Trial 169 finished with value: 0.5100204179834315 and parameters: {'objective': 'multi:softprob', 'num_class': 2, 'max_depth': 7, 'learning_rate': 0.03932618542218916, 'colsample_bytree': 0.2453094893146299, 'subsample': 0.4002123817150276, 'alpha': 0.25176988097250885, 'lambda': 7.2067604393298435e-06, 'min_child_weight': 344.00961646952084}. Best is trial 94 with value: 0.5241179301106733.\u001b[0m\n",
            "\u001b[32m[I 2022-01-22 17:32:12,346]\u001b[0m Trial 170 finished with value: 0.5184040015201499 and parameters: {'objective': 'multi:softprob', 'num_class': 2, 'max_depth': 9, 'learning_rate': 0.03135598127490575, 'colsample_bytree': 0.3184219700602701, 'subsample': 0.4122533547571804, 'alpha': 3.2517247779802236, 'lambda': 0.00014710492958290705, 'min_child_weight': 488.12369407523164}. Best is trial 94 with value: 0.5241179301106733.\u001b[0m\n",
            "\u001b[32m[I 2022-01-22 17:32:43,381]\u001b[0m Trial 171 finished with value: 0.5121579482021915 and parameters: {'objective': 'multi:softprob', 'num_class': 2, 'max_depth': 7, 'learning_rate': 0.03224148273533937, 'colsample_bytree': 0.3764614948054427, 'subsample': 0.40018751911092953, 'alpha': 1.732955451173562, 'lambda': 2.3527523050192104e-05, 'min_child_weight': 235.87946969185506}. Best is trial 94 with value: 0.5241179301106733.\u001b[0m\n",
            "\u001b[32m[I 2022-01-22 17:33:27,379]\u001b[0m Trial 172 finished with value: 0.5178119089008246 and parameters: {'objective': 'multi:softprob', 'num_class': 2, 'max_depth': 7, 'learning_rate': 0.02876146525621767, 'colsample_bytree': 0.36311086825692246, 'subsample': 0.40702847815108817, 'alpha': 2.055067872239037, 'lambda': 3.660064504423587e-06, 'min_child_weight': 246.31682673182567}. Best is trial 94 with value: 0.5241179301106733.\u001b[0m\n",
            "\u001b[32m[I 2022-01-22 17:34:12,833]\u001b[0m Trial 173 finished with value: 0.5182631130994441 and parameters: {'objective': 'multi:softprob', 'num_class': 2, 'max_depth': 7, 'learning_rate': 0.02630453332112431, 'colsample_bytree': 0.3727429007558684, 'subsample': 0.42108140042260667, 'alpha': 1.5384014329352382, 'lambda': 2.4204724735887594e-06, 'min_child_weight': 185.61238184583206}. Best is trial 94 with value: 0.5241179301106733.\u001b[0m\n",
            "\u001b[32m[I 2022-01-22 17:34:48,110]\u001b[0m Trial 174 finished with value: 0.5126900729296267 and parameters: {'objective': 'multi:softprob', 'num_class': 2, 'max_depth': 7, 'learning_rate': 0.03299031745536109, 'colsample_bytree': 0.3868758228231098, 'subsample': 0.4109695983000527, 'alpha': 1.1137475509488428, 'lambda': 1.274954502889336e-05, 'min_child_weight': 284.4404168919335}. Best is trial 94 with value: 0.5241179301106733.\u001b[0m\n",
            "\u001b[32m[I 2022-01-22 17:35:21,624]\u001b[0m Trial 175 finished with value: 0.5137962276583476 and parameters: {'objective': 'multi:softprob', 'num_class': 2, 'max_depth': 8, 'learning_rate': 0.03625085955021527, 'colsample_bytree': 0.2551926546749171, 'subsample': 0.4007262458533812, 'alpha': 1.3417399819803846, 'lambda': 0.054555809176366, 'min_child_weight': 203.14625789960655}. Best is trial 94 with value: 0.5241179301106733.\u001b[0m\n",
            "\u001b[32m[I 2022-01-22 17:36:01,840]\u001b[0m Trial 176 finished with value: 0.5107129387590548 and parameters: {'objective': 'multi:softprob', 'num_class': 2, 'max_depth': 11, 'learning_rate': 0.030216557369510705, 'colsample_bytree': 0.3955697711749802, 'subsample': 0.4174905530608198, 'alpha': 1.698890427856386, 'lambda': 4.6258862215175676e-06, 'min_child_weight': 228.0930743393946}. Best is trial 94 with value: 0.5241179301106733.\u001b[0m\n",
            "\u001b[32m[I 2022-01-22 17:36:41,725]\u001b[0m Trial 177 finished with value: 0.5190770146682909 and parameters: {'objective': 'multi:softprob', 'num_class': 2, 'max_depth': 8, 'learning_rate': 0.04252611749197524, 'colsample_bytree': 0.3505289657837103, 'subsample': 0.4268736652737513, 'alpha': 2.2536191568807147, 'lambda': 5.91912891291232e-05, 'min_child_weight': 177.4705445352509}. Best is trial 94 with value: 0.5241179301106733.\u001b[0m\n",
            "\u001b[32m[I 2022-01-22 17:37:11,969]\u001b[0m Trial 178 finished with value: 0.5109437790175958 and parameters: {'objective': 'multi:softprob', 'num_class': 2, 'max_depth': 9, 'learning_rate': 0.034613970148834036, 'colsample_bytree': 0.2898699420337992, 'subsample': 0.4075853034871029, 'alpha': 0.3143546309734081, 'lambda': 1.8327888497847465e-06, 'min_child_weight': 259.1238746266437}. Best is trial 94 with value: 0.5241179301106733.\u001b[0m\n",
            "\u001b[32m[I 2022-01-22 17:37:43,449]\u001b[0m Trial 179 finished with value: 0.5140660831718535 and parameters: {'objective': 'multi:softprob', 'num_class': 2, 'max_depth': 8, 'learning_rate': 0.04536653551768716, 'colsample_bytree': 0.3646526281288186, 'subsample': 0.4358644809308841, 'alpha': 0.16498809322854, 'lambda': 6.3292873312412956e-06, 'min_child_weight': 384.9265082800632}. Best is trial 94 with value: 0.5241179301106733.\u001b[0m\n",
            "\u001b[32m[I 2022-01-22 17:38:39,131]\u001b[0m Trial 180 finished with value: 0.5130123100354461 and parameters: {'objective': 'multi:softprob', 'num_class': 2, 'max_depth': 9, 'learning_rate': 0.01637734203278932, 'colsample_bytree': 0.2786370111314588, 'subsample': 0.4147424576951725, 'alpha': 0.018004936586987978, 'lambda': 1.3491037974673552e-07, 'min_child_weight': 316.63064251702747}. Best is trial 94 with value: 0.5241179301106733.\u001b[0m\n",
            "\u001b[32m[I 2022-01-22 17:39:15,322]\u001b[0m Trial 181 finished with value: 0.5161855507725743 and parameters: {'objective': 'multi:softprob', 'num_class': 2, 'max_depth': 8, 'learning_rate': 0.042237997244719126, 'colsample_bytree': 0.35353834136228585, 'subsample': 0.4284903944208936, 'alpha': 2.315769604220267, 'lambda': 4.987952194963665e-05, 'min_child_weight': 167.7073263394185}. Best is trial 94 with value: 0.5241179301106733.\u001b[0m\n",
            "\u001b[32m[I 2022-01-22 17:39:49,490]\u001b[0m Trial 182 finished with value: 0.5160836776068332 and parameters: {'objective': 'multi:softprob', 'num_class': 2, 'max_depth': 8, 'learning_rate': 0.04070476392217202, 'colsample_bytree': 0.3478217049441139, 'subsample': 0.42651350619570244, 'alpha': 2.007442005823719, 'lambda': 1.8126520117963993e-05, 'min_child_weight': 192.31198828726437}. Best is trial 94 with value: 0.5241179301106733.\u001b[0m\n",
            "\u001b[32m[I 2022-01-22 17:40:39,301]\u001b[0m Trial 183 finished with value: 0.5212069585874743 and parameters: {'objective': 'multi:softprob', 'num_class': 2, 'max_depth': 8, 'learning_rate': 0.03807596360447085, 'colsample_bytree': 0.3333197447533316, 'subsample': 0.42120656911909327, 'alpha': 2.500262280409757, 'lambda': 0.0003338714004436271, 'min_child_weight': 176.9638630288988}. Best is trial 94 with value: 0.5241179301106733.\u001b[0m\n",
            "\u001b[32m[I 2022-01-22 17:41:17,340]\u001b[0m Trial 184 finished with value: 0.5166067710252487 and parameters: {'objective': 'multi:softprob', 'num_class': 2, 'max_depth': 8, 'learning_rate': 0.038415233463631064, 'colsample_bytree': 0.3347379074461706, 'subsample': 0.4058911144383172, 'alpha': 2.740173695881432, 'lambda': 0.00030538165606432404, 'min_child_weight': 211.92215896620075}. Best is trial 94 with value: 0.5241179301106733.\u001b[0m\n",
            "\u001b[32m[I 2022-01-22 17:41:53,116]\u001b[0m Trial 185 finished with value: 0.5167371831274917 and parameters: {'objective': 'multi:softprob', 'num_class': 2, 'max_depth': 7, 'learning_rate': 0.03620085488948078, 'colsample_bytree': 0.37820894279782846, 'subsample': 0.4216099965913199, 'alpha': 5.490312973282832, 'lambda': 0.0006623835789858254, 'min_child_weight': 155.4015536589131}. Best is trial 94 with value: 0.5241179301106733.\u001b[0m\n",
            "\u001b[32m[I 2022-01-22 17:42:16,554]\u001b[0m Trial 186 finished with value: 0.5071589380336601 and parameters: {'objective': 'multi:softprob', 'num_class': 2, 'max_depth': 6, 'learning_rate': 0.03268277221783959, 'colsample_bytree': 0.27278012796931816, 'subsample': 0.4003607761551594, 'alpha': 3.1561259271239344, 'lambda': 0.00021077941299133796, 'min_child_weight': 276.4399875625039}. Best is trial 94 with value: 0.5241179301106733.\u001b[0m\n",
            "\u001b[32m[I 2022-01-22 17:43:06,617]\u001b[0m Trial 187 finished with value: 0.518978031521436 and parameters: {'objective': 'multi:softprob', 'num_class': 2, 'max_depth': 8, 'learning_rate': 0.03128863447324924, 'colsample_bytree': 0.36808738549280706, 'subsample': 0.41105388460381354, 'alpha': 1.8405412562914705, 'lambda': 0.00045423443424649025, 'min_child_weight': 127.44203386941143}. Best is trial 94 with value: 0.5241179301106733.\u001b[0m\n"
          ]
        }
      ],
      "source": [
        "study = optuna.create_study(direction='maximize',study_name='song-pop_trials_200')\n",
        "study.optimize(objective, n_trials=200)"
      ]
    },
    {
      "cell_type": "code",
      "execution_count": null,
      "metadata": {
        "id": "wVEE9LdDpsYW"
      },
      "outputs": [],
      "source": [
        "study.best_value"
      ]
    },
    {
      "cell_type": "code",
      "execution_count": null,
      "metadata": {
        "id": "c0R2AZTcpyXQ"
      },
      "outputs": [],
      "source": [
        "study.best_params"
      ]
    },
    {
      "cell_type": "code",
      "execution_count": null,
      "metadata": {
        "id": "iy2587yrwTX2"
      },
      "outputs": [],
      "source": [
        ""
      ]
    }
  ],
  "metadata": {
    "accelerator": "GPU",
    "colab": {
      "collapsed_sections": [],
      "machine_shape": "hm",
      "name": "Song_popularity_comp(Xgboost_optuna).ipynb",
      "provenance": []
    },
    "kernelspec": {
      "display_name": "Python 3",
      "name": "python3"
    },
    "language_info": {
      "name": "python"
    }
  },
  "nbformat": 4,
  "nbformat_minor": 0
}