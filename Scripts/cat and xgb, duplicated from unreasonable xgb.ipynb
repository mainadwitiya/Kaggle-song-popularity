{
  "cells": [
    {
      "cell_type": "code",
      "execution_count": null,
      "metadata": {
        "colab": {
          "base_uri": "https://localhost:8080/"
        },
        "id": "OonnRv4p2hJj",
        "outputId": "211db241-f781-4999-e085-894dedbf2278"
      },
      "outputs": [
        {
          "output_type": "stream",
          "name": "stdout",
          "text": [
            "Requirement already satisfied: optuna in /usr/local/lib/python3.7/dist-packages (2.10.0)\n",
            "Requirement already satisfied: cliff in /usr/local/lib/python3.7/dist-packages (from optuna) (3.10.0)\n",
            "Requirement already satisfied: numpy in /usr/local/lib/python3.7/dist-packages (from optuna) (1.19.5)\n",
            "Requirement already satisfied: tqdm in /usr/local/lib/python3.7/dist-packages (from optuna) (4.62.3)\n",
            "Requirement already satisfied: PyYAML in /usr/local/lib/python3.7/dist-packages (from optuna) (3.13)\n",
            "Requirement already satisfied: packaging>=20.0 in /usr/local/lib/python3.7/dist-packages (from optuna) (21.3)\n",
            "Requirement already satisfied: scipy!=1.4.0 in /usr/local/lib/python3.7/dist-packages (from optuna) (1.4.1)\n",
            "Requirement already satisfied: sqlalchemy>=1.1.0 in /usr/local/lib/python3.7/dist-packages (from optuna) (1.4.29)\n",
            "Requirement already satisfied: colorlog in /usr/local/lib/python3.7/dist-packages (from optuna) (6.6.0)\n",
            "Requirement already satisfied: cmaes>=0.8.2 in /usr/local/lib/python3.7/dist-packages (from optuna) (0.8.2)\n",
            "Requirement already satisfied: alembic in /usr/local/lib/python3.7/dist-packages (from optuna) (1.7.5)\n",
            "Requirement already satisfied: pyparsing!=3.0.5,>=2.0.2 in /usr/local/lib/python3.7/dist-packages (from packaging>=20.0->optuna) (3.0.6)\n",
            "Requirement already satisfied: importlib-metadata in /usr/local/lib/python3.7/dist-packages (from sqlalchemy>=1.1.0->optuna) (4.10.0)\n",
            "Requirement already satisfied: greenlet!=0.4.17 in /usr/local/lib/python3.7/dist-packages (from sqlalchemy>=1.1.0->optuna) (1.1.2)\n",
            "Requirement already satisfied: Mako in /usr/local/lib/python3.7/dist-packages (from alembic->optuna) (1.1.6)\n",
            "Requirement already satisfied: importlib-resources in /usr/local/lib/python3.7/dist-packages (from alembic->optuna) (5.4.0)\n",
            "Requirement already satisfied: cmd2>=1.0.0 in /usr/local/lib/python3.7/dist-packages (from cliff->optuna) (2.3.3)\n",
            "Requirement already satisfied: stevedore>=2.0.1 in /usr/local/lib/python3.7/dist-packages (from cliff->optuna) (3.5.0)\n",
            "Requirement already satisfied: PrettyTable>=0.7.2 in /usr/local/lib/python3.7/dist-packages (from cliff->optuna) (3.0.0)\n",
            "Requirement already satisfied: autopage>=0.4.0 in /usr/local/lib/python3.7/dist-packages (from cliff->optuna) (0.5.0)\n",
            "Requirement already satisfied: pbr!=2.1.0,>=2.0.0 in /usr/local/lib/python3.7/dist-packages (from cliff->optuna) (5.8.0)\n",
            "Requirement already satisfied: pyperclip>=1.6 in /usr/local/lib/python3.7/dist-packages (from cmd2>=1.0.0->cliff->optuna) (1.8.2)\n",
            "Requirement already satisfied: wcwidth>=0.1.7 in /usr/local/lib/python3.7/dist-packages (from cmd2>=1.0.0->cliff->optuna) (0.2.5)\n",
            "Requirement already satisfied: typing-extensions in /usr/local/lib/python3.7/dist-packages (from cmd2>=1.0.0->cliff->optuna) (3.10.0.2)\n",
            "Requirement already satisfied: attrs>=16.3.0 in /usr/local/lib/python3.7/dist-packages (from cmd2>=1.0.0->cliff->optuna) (21.4.0)\n",
            "Requirement already satisfied: zipp>=0.5 in /usr/local/lib/python3.7/dist-packages (from importlib-metadata->sqlalchemy>=1.1.0->optuna) (3.7.0)\n",
            "Requirement already satisfied: MarkupSafe>=0.9.2 in /usr/local/lib/python3.7/dist-packages (from Mako->alembic->optuna) (2.0.1)\n",
            "Requirement already satisfied: catboost in /usr/local/lib/python3.7/dist-packages (1.0.4)\n",
            "Requirement already satisfied: six in /usr/local/lib/python3.7/dist-packages (from catboost) (1.15.0)\n",
            "Requirement already satisfied: pandas>=0.24.0 in /usr/local/lib/python3.7/dist-packages (from catboost) (1.1.5)\n",
            "Requirement already satisfied: scipy in /usr/local/lib/python3.7/dist-packages (from catboost) (1.4.1)\n",
            "Requirement already satisfied: graphviz in /usr/local/lib/python3.7/dist-packages (from catboost) (0.10.1)\n",
            "Requirement already satisfied: matplotlib in /usr/local/lib/python3.7/dist-packages (from catboost) (3.2.2)\n",
            "Requirement already satisfied: plotly in /usr/local/lib/python3.7/dist-packages (from catboost) (4.4.1)\n",
            "Requirement already satisfied: numpy>=1.16.0 in /usr/local/lib/python3.7/dist-packages (from catboost) (1.19.5)\n",
            "Requirement already satisfied: python-dateutil>=2.7.3 in /usr/local/lib/python3.7/dist-packages (from pandas>=0.24.0->catboost) (2.8.2)\n",
            "Requirement already satisfied: pytz>=2017.2 in /usr/local/lib/python3.7/dist-packages (from pandas>=0.24.0->catboost) (2018.9)\n",
            "Requirement already satisfied: cycler>=0.10 in /usr/local/lib/python3.7/dist-packages (from matplotlib->catboost) (0.11.0)\n",
            "Requirement already satisfied: pyparsing!=2.0.4,!=2.1.2,!=2.1.6,>=2.0.1 in /usr/local/lib/python3.7/dist-packages (from matplotlib->catboost) (3.0.6)\n",
            "Requirement already satisfied: kiwisolver>=1.0.1 in /usr/local/lib/python3.7/dist-packages (from matplotlib->catboost) (1.3.2)\n",
            "Requirement already satisfied: retrying>=1.3.3 in /usr/local/lib/python3.7/dist-packages (from plotly->catboost) (1.3.3)\n"
          ]
        }
      ],
      "source": [
        "!pip install optuna\n",
        "!pip install catboost"
      ]
    },
    {
      "cell_type": "code",
      "execution_count": null,
      "metadata": {
        "id": "sZo-rQO82Fsv"
      },
      "outputs": [],
      "source": [
        "import os\n",
        "import gc\n",
        "import random\n",
        "import pandas as pd\n",
        "import numpy as np\n",
        "import seaborn as sns\n",
        "import xgboost as xgb\n",
        "from sklearn.model_selection import StratifiedKFold, train_test_split\n",
        "from sklearn.preprocessing import LabelEncoder, StandardScaler\n",
        "from sklearn.metrics import classification_report, accuracy_score, confusion_matrix,roc_auc_score\n",
        "from catboost import CatBoostRegressor,  metrics, cv, Pool\n",
        "import optuna\n",
        "from optuna import trial\n"
      ]
    },
    {
      "cell_type": "code",
      "execution_count": null,
      "metadata": {
        "id": "_HBqf4mK3U8Q"
      },
      "outputs": [],
      "source": [
        "train = pd.read_csv('train.csv')\n",
        "test = pd.read_csv('test.csv')\n"
      ]
    },
    {
      "cell_type": "code",
      "source": [
        "train = pd.read_csv('train.csv')\n",
        "test = pd.read_csv('test.csv')\n",
        "\n",
        "train['train']=1\n",
        "test['train'] = 0\n",
        "\n",
        "all_data = pd.concat([train,test])\n",
        "\n",
        "from sklearn.impute import KNNImputer\n",
        "knn_imputer = KNNImputer(n_neighbors = 10)\n",
        "\n",
        "all_data.loc[:,['song_duration_ms','acousticness','danceability','energy','instrumentalness','liveness',\n",
        "               'loudness']] = knn_imputer.fit_transform(all_data.loc[:,['song_duration_ms','acousticness','danceability','energy','instrumentalness','liveness',\n",
        "               'loudness']])\n",
        "\n",
        "all_data['key'].fillna(all_data['key'].mode()[0], inplace=True)\n",
        "\n",
        "train = all_data[all_data['train']==1]\n",
        "test = all_data[all_data['train']==0]\n",
        "\n",
        "train.drop('train',axis=1, inplace=True)\n",
        "test.drop('train',axis=1, inplace=True)"
      ],
      "metadata": {
        "colab": {
          "base_uri": "https://localhost:8080/"
        },
        "id": "sGJKv4ZbdBsF",
        "outputId": "2cb00420-bdb1-4ab6-b5cc-ccb663039297"
      },
      "execution_count": null,
      "outputs": [
        {
          "output_type": "stream",
          "name": "stderr",
          "text": [
            "/usr/local/lib/python3.7/dist-packages/pandas/core/frame.py:4174: SettingWithCopyWarning:\n",
            "\n",
            "\n",
            "A value is trying to be set on a copy of a slice from a DataFrame\n",
            "\n",
            "See the caveats in the documentation: https://pandas.pydata.org/pandas-docs/stable/user_guide/indexing.html#returning-a-view-versus-a-copy\n",
            "\n"
          ]
        }
      ]
    },
    {
      "cell_type": "code",
      "source": [
        "columns = [col for col in train.columns.to_list() if col not in ['id','song_popularity']]\n",
        "data=train[columns]\n",
        "target=train['song_popularity']"
      ],
      "metadata": {
        "id": "PXq3UsDmdPJ4"
      },
      "execution_count": null,
      "outputs": []
    },
    {
      "cell_type": "code",
      "execution_count": null,
      "metadata": {
        "id": "YOxRY2HX3pOf"
      },
      "outputs": [],
      "source": [
        "NUM_CLASSES=target.nunique()"
      ]
    },
    {
      "cell_type": "code",
      "source": [
        "model = CatBoostRegressor(silent=True)\n",
        "\n",
        "grid = { 'depth':[3,1,2,6,4,5,7,8,9,10],\n",
        "          'learning_rate':[0.03,0.001,0.01,0.1,0.2,0.3], \n",
        "          'l2_leaf_reg':[3,1,5,10,100],\n",
        "          'border_count':[32,5,10,20,50,100,200],\n",
        "             \n",
        "}\n",
        "\n",
        "randomized_search_result = model.randomized_search(grid,\n",
        "                                                   X=data,\n",
        "                                                   y=target,\n",
        "                                                   plot=True)"
      ],
      "metadata": {
        "colab": {
          "base_uri": "https://localhost:8080/",
          "height": 1000,
          "referenced_widgets": [
            "c512e27725224047bdf2c7e26e6e0c23"
          ]
        },
        "id": "BTWhdpbt87nW",
        "outputId": "8cbbedf5-3a55-40b3-bba4-5be7fb6b0ec9"
      },
      "execution_count": null,
      "outputs": [
        {
          "output_type": "display_data",
          "data": {
            "application/vnd.jupyter.widget-view+json": {
              "model_id": "c512e27725224047bdf2c7e26e6e0c23",
              "version_minor": 0,
              "version_major": 2
            },
            "text/plain": [
              "MetricVisualizer(layout=Layout(align_self='stretch', height='500px'))"
            ]
          },
          "metadata": {}
        },
        {
          "output_type": "stream",
          "name": "stdout",
          "text": [
            "\n",
            "bestTest = 0.4787845833\n",
            "bestIteration = 20\n",
            "\n",
            "0:\tloss: 0.4787846\tbest: 0.4787846 (0)\ttotal: 5.49s\tremaining: 49.4s\n",
            "\n",
            "bestTest = 0.4779476828\n",
            "bestIteration = 54\n",
            "\n",
            "1:\tloss: 0.4779477\tbest: 0.4779477 (1)\ttotal: 7.87s\tremaining: 31.5s\n",
            "\n",
            "bestTest = 0.4776420786\n",
            "bestIteration = 46\n",
            "\n",
            "2:\tloss: 0.4776421\tbest: 0.4776421 (2)\ttotal: 12.3s\tremaining: 28.8s\n",
            "\n",
            "bestTest = 0.496964997\n",
            "bestIteration = 999\n",
            "\n",
            "3:\tloss: 0.4969650\tbest: 0.4776421 (2)\ttotal: 17.3s\tremaining: 26s\n",
            "\n",
            "bestTest = 0.4773173282\n",
            "bestIteration = 54\n",
            "\n",
            "4:\tloss: 0.4773173\tbest: 0.4773173 (4)\ttotal: 20.7s\tremaining: 20.7s\n",
            "\n",
            "bestTest = 0.4773491397\n",
            "bestIteration = 417\n",
            "\n",
            "5:\tloss: 0.4773491\tbest: 0.4773173 (4)\ttotal: 23.7s\tremaining: 15.8s\n",
            "\n",
            "bestTest = 0.478534623\n",
            "bestIteration = 14\n",
            "\n",
            "6:\tloss: 0.4785346\tbest: 0.4773173 (4)\ttotal: 34.8s\tremaining: 14.9s\n",
            "\n",
            "bestTest = 0.4773323144\n",
            "bestIteration = 277\n",
            "\n",
            "7:\tloss: 0.4773323\tbest: 0.4773173 (4)\ttotal: 38.4s\tremaining: 9.59s\n",
            "\n",
            "bestTest = 0.4775500897\n",
            "bestIteration = 36\n",
            "\n",
            "8:\tloss: 0.4775501\tbest: 0.4773173 (4)\ttotal: 41.7s\tremaining: 4.63s\n",
            "\n",
            "bestTest = 0.496902614\n",
            "bestIteration = 999\n",
            "\n",
            "9:\tloss: 0.4969026\tbest: 0.4773173 (4)\ttotal: 50.3s\tremaining: 0us\n",
            "Estimating final quality...\n",
            "Training on fold [0/3]\n",
            "\n",
            "bestTest = 0.4788075554\n",
            "bestIteration = 70\n",
            "\n",
            "Training on fold [1/3]\n",
            "\n",
            "bestTest = 0.4785022416\n",
            "bestIteration = 50\n",
            "\n",
            "Training on fold [2/3]\n",
            "\n",
            "bestTest = 0.4764237424\n",
            "bestIteration = 50\n",
            "\n"
          ]
        }
      ]
    },
    {
      "cell_type": "code",
      "source": [
        "model.get_params()"
      ],
      "metadata": {
        "colab": {
          "base_uri": "https://localhost:8080/"
        },
        "id": "sO6p-ODdGNCr",
        "outputId": "8731c0c9-79d8-44af-f101-a0795a643944"
      },
      "execution_count": null,
      "outputs": [
        {
          "output_type": "execute_result",
          "data": {
            "text/plain": [
              "{'border_count': 20,\n",
              " 'depth': 5,\n",
              " 'l2_leaf_reg': 5,\n",
              " 'learning_rate': 0.2,\n",
              " 'loss_function': 'RMSE',\n",
              " 'silent': True}"
            ]
          },
          "metadata": {},
          "execution_count": 47
        }
      ]
    },
    {
      "cell_type": "code",
      "execution_count": null,
      "metadata": {
        "id": "jB3B9sph2-re"
      },
      "outputs": [],
      "source": [
        "params={'alpha': 0.4275932000556265,\n",
        " 'colsample_bytree': 0.3303272480369658,\n",
        " 'eval_metric': 'mlogloss',\n",
        " 'lambda': 0.013685373489365672,\n",
        " 'learning_rate': 0.08882012188858979,\n",
        " 'max_depth': 17,\n",
        " 'min_child_weight': 223,\n",
        " 'num_class': 2,\n",
        " 'objective': 'multi:softprob',\n",
        " 'subsample': 0.5807927818586308,\n",
        " 'n_estimators':5000,\n",
        " }"
      ]
    },
    {
      "cell_type": "code",
      "execution_count": null,
      "metadata": {
        "colab": {
          "base_uri": "https://localhost:8080/"
        },
        "id": "Zq5gHzk_4JHY",
        "outputId": "16f66a62-3ea3-4118-9e9e-b3a83d7285d1"
      },
      "outputs": [
        {
          "output_type": "stream",
          "name": "stderr",
          "text": [
            "\r0it [00:00, ?it/s]"
          ]
        },
        {
          "output_type": "stream",
          "name": "stdout",
          "text": [
            "[0]\tvalidation_0-mlogloss:0.686472\n",
            "Will train until validation_0-mlogloss hasn't improved in 30 rounds.\n",
            "Stopping. Best iteration:\n",
            "[62]\tvalidation_0-mlogloss:0.648044\n",
            "\n"
          ]
        },
        {
          "output_type": "stream",
          "name": "stderr",
          "text": [
            "\r1it [00:08,  8.88s/it]"
          ]
        },
        {
          "output_type": "stream",
          "name": "stdout",
          "text": [
            "\n",
            " FOLD: 0 AUC: 0.5710054731912411 Mean AUC: 0.5710054731912411\n",
            "[0]\tvalidation_0-mlogloss:0.686285\n",
            "Will train until validation_0-mlogloss hasn't improved in 30 rounds.\n",
            "Stopping. Best iteration:\n",
            "[48]\tvalidation_0-mlogloss:0.648979\n",
            "\n"
          ]
        },
        {
          "output_type": "stream",
          "name": "stderr",
          "text": [
            "\r2it [00:16,  8.02s/it]"
          ]
        },
        {
          "output_type": "stream",
          "name": "stdout",
          "text": [
            "\n",
            " FOLD: 1 AUC: 0.569897691079257 Mean AUC: 0.570451582135249\n",
            "[0]\tvalidation_0-mlogloss:0.68654\n",
            "Will train until validation_0-mlogloss hasn't improved in 30 rounds.\n",
            "Stopping. Best iteration:\n",
            "[66]\tvalidation_0-mlogloss:0.647578\n",
            "\n"
          ]
        },
        {
          "output_type": "stream",
          "name": "stderr",
          "text": [
            "\r3it [00:25,  8.58s/it]"
          ]
        },
        {
          "output_type": "stream",
          "name": "stdout",
          "text": [
            "\n",
            " FOLD: 2 AUC: 0.5762622090165826 Mean AUC: 0.5723884577623602\n",
            "[0]\tvalidation_0-mlogloss:0.686466\n",
            "Will train until validation_0-mlogloss hasn't improved in 30 rounds.\n",
            "[100]\tvalidation_0-mlogloss:0.646991\n",
            "Stopping. Best iteration:\n",
            "[84]\tvalidation_0-mlogloss:0.646579\n",
            "\n"
          ]
        },
        {
          "output_type": "stream",
          "name": "stderr",
          "text": [
            "\r4it [00:36,  9.54s/it]"
          ]
        },
        {
          "output_type": "stream",
          "name": "stdout",
          "text": [
            "\n",
            " FOLD: 3 AUC: 0.576932087248266 Mean AUC: 0.5735243651338366\n",
            "[0]\tvalidation_0-mlogloss:0.686556\n",
            "Will train until validation_0-mlogloss hasn't improved in 30 rounds.\n",
            "Stopping. Best iteration:\n",
            "[50]\tvalidation_0-mlogloss:0.64934\n",
            "\n"
          ]
        },
        {
          "output_type": "stream",
          "name": "stderr",
          "text": [
            "\r5it [00:44,  8.87s/it]"
          ]
        },
        {
          "output_type": "stream",
          "name": "stdout",
          "text": [
            "\n",
            " FOLD: 4 AUC: 0.5693054894507528 Mean AUC: 0.5726805899972198\n",
            "[0]\tvalidation_0-mlogloss:0.686435\n",
            "Will train until validation_0-mlogloss hasn't improved in 30 rounds.\n",
            "Stopping. Best iteration:\n",
            "[44]\tvalidation_0-mlogloss:0.647925\n",
            "\n"
          ]
        },
        {
          "output_type": "stream",
          "name": "stderr",
          "text": [
            "\r6it [00:51,  8.26s/it]"
          ]
        },
        {
          "output_type": "stream",
          "name": "stdout",
          "text": [
            "\n",
            " FOLD: 5 AUC: 0.5722163942069528 Mean AUC: 0.5726032240321753\n",
            "[0]\tvalidation_0-mlogloss:0.686583\n",
            "Will train until validation_0-mlogloss hasn't improved in 30 rounds.\n",
            "Stopping. Best iteration:\n",
            "[62]\tvalidation_0-mlogloss:0.647513\n",
            "\n"
          ]
        },
        {
          "output_type": "stream",
          "name": "stderr",
          "text": [
            "\r7it [01:00,  8.45s/it]"
          ]
        },
        {
          "output_type": "stream",
          "name": "stdout",
          "text": [
            "\n",
            " FOLD: 6 AUC: 0.5767256861138902 Mean AUC: 0.5731921471867061\n",
            "[0]\tvalidation_0-mlogloss:0.686477\n",
            "Will train until validation_0-mlogloss hasn't improved in 30 rounds.\n",
            "Stopping. Best iteration:\n",
            "[44]\tvalidation_0-mlogloss:0.648969\n",
            "\n"
          ]
        },
        {
          "output_type": "stream",
          "name": "stderr",
          "text": [
            "\r8it [01:07,  8.04s/it]"
          ]
        },
        {
          "output_type": "stream",
          "name": "stdout",
          "text": [
            "\n",
            " FOLD: 7 AUC: 0.5653628101394514 Mean AUC: 0.5722134800557992\n",
            "[0]\tvalidation_0-mlogloss:0.686621\n",
            "Will train until validation_0-mlogloss hasn't improved in 30 rounds.\n",
            "Stopping. Best iteration:\n",
            "[39]\tvalidation_0-mlogloss:0.649764\n",
            "\n"
          ]
        },
        {
          "output_type": "stream",
          "name": "stderr",
          "text": [
            "\r9it [01:13,  7.57s/it]"
          ]
        },
        {
          "output_type": "stream",
          "name": "stdout",
          "text": [
            "\n",
            " FOLD: 8 AUC: 0.567276476727332 Mean AUC: 0.5716649241304139\n",
            "[0]\tvalidation_0-mlogloss:0.686632\n",
            "Will train until validation_0-mlogloss hasn't improved in 30 rounds.\n",
            "Stopping. Best iteration:\n",
            "[67]\tvalidation_0-mlogloss:0.646199\n",
            "\n"
          ]
        },
        {
          "output_type": "stream",
          "name": "stderr",
          "text": [
            "10it [01:23,  8.31s/it]"
          ]
        },
        {
          "output_type": "stream",
          "name": "stdout",
          "text": [
            "\n",
            " FOLD: 9 AUC: 0.5824911041822486 Mean AUC: 0.5727475421355974\n",
            "\n",
            "\n",
            "0.5727475421355974\n"
          ]
        },
        {
          "output_type": "stream",
          "name": "stderr",
          "text": [
            "\n"
          ]
        }
      ],
      "source": [
        "from tqdm import tqdm\n",
        "np.random.seed(64)\n",
        "random.seed(64)\n",
        "xtest = test.copy()\n",
        "\n",
        "target = train['song_popularity'].values\n",
        "FOLDS=10\n",
        "kf = StratifiedKFold(n_splits = FOLDS, shuffle=True, random_state=64)    \n",
        "        \n",
        "oof = np.zeros((train.shape[0],))\n",
        "predictions = 0\n",
        "auc_value = []\n",
        "for f, (train_index, test_index) in tqdm(enumerate(kf.split(X=train, y=target))):\n",
        "        X_train, X_val = train.iloc[train_index][columns], train.iloc[test_index][columns]\n",
        "        y_train, y_val = target[train_index], target[test_index]\n",
        "        \n",
        "        ss = StandardScaler()\n",
        "        X_train[columns] = ss.fit_transform(X_train[columns])\n",
        "        X_val[columns] = ss.transform(X_val[columns])\n",
        "        xtest[columns] = ss.transform(xtest[columns])\n",
        "\n",
        "\n",
        "        model = xgb.XGBClassifier(**params)\n",
        "        \n",
        "        model.fit(\n",
        "            X_train[columns], \n",
        "            y_train,\n",
        "            eval_set=[(X_val[columns], y_val)],\n",
        "            early_stopping_rounds=30,\n",
        "            verbose=100\n",
        "        )\n",
        "        \n",
        "        oof_temp_pred = model.predict_proba(X_val[columns])[:,1]\n",
        "        test_temp_pred = model.predict_proba(test[columns])[:,1]\n",
        "        oof[test_index] = oof_temp_pred\n",
        "        predictions += test_temp_pred/FOLDS\n",
        "        auc = roc_auc_score(y_val, oof_temp_pred)\n",
        "        auc_value.append(auc)\n",
        "        print(f'\\n FOLD: {f} AUC: {auc} Mean AUC: {np.mean(auc_value)}')\n",
        "\n",
        "print('\\n')\n",
        "print(np.mean(auc_value))"
      ]
    },
    {
      "cell_type": "code",
      "source": [
        "params = {'border_count': 20,\n",
        " 'depth': 5,\n",
        " 'l2_leaf_reg': 5,\n",
        " 'learning_rate': 0.2,\n",
        " 'silent': True}\n",
        "\n",
        "from tqdm import tqdm\n",
        "np.random.seed(64)\n",
        "random.seed(64)\n",
        "\n",
        "\n",
        "target = train['song_popularity'].values\n",
        "FOLDS=10\n",
        "kf = StratifiedKFold(n_splits = FOLDS, shuffle=True, random_state=64)    \n",
        "        \n",
        "oof = np.zeros((train.shape[0],))\n",
        "predictions = 0\n",
        "auc_value = []\n",
        "for f, (train_index, test_index) in tqdm(enumerate(kf.split(X=train, y=target))):\n",
        "        X_train, X_val = train.iloc[train_index][columns], train.iloc[test_index][columns]\n",
        "        y_train, y_val = target[train_index], target[test_index]\n",
        "        \n",
        "        model = CatBoostRegressor(**params)\n",
        "        \n",
        "        model.fit(\n",
        "            X_train[columns], \n",
        "            y_train,\n",
        "            eval_set=[(X_val[columns], y_val)],\n",
        "            early_stopping_rounds=30,\n",
        "            verbose=100\n",
        "        )\n",
        "        \n",
        "        oof_temp_pred = model.predict(X_val[columns])\n",
        "        test_temp_pred = model.predict(test[columns])\n",
        "        oof[test_index] = oof_temp_pred\n",
        "        predictions += test_temp_pred/FOLDS\n",
        "        auc = roc_auc_score(y_val, oof_temp_pred)\n",
        "        auc_value.append(auc)\n",
        "        print(f'\\n FOLD: {f} AUC: {auc} Mean AUC: {np.mean(auc_value)}')\n",
        "\n",
        "print('\\n')\n",
        "print(np.mean(auc_value))"
      ],
      "metadata": {
        "colab": {
          "base_uri": "https://localhost:8080/"
        },
        "id": "4XUKgqDQCneG",
        "outputId": "5271ae52-639c-49bb-9145-2edc9c2f5413"
      },
      "execution_count": null,
      "outputs": [
        {
          "output_type": "stream",
          "name": "stderr",
          "text": [
            "\r0it [00:00, ?it/s]"
          ]
        },
        {
          "output_type": "stream",
          "name": "stdout",
          "text": [
            "0:\tlearn: 0.4805797\ttest: 0.4807233\tbest: 0.4807233 (0)\ttotal: 3.45ms\tremaining: 3.44s\n"
          ]
        },
        {
          "output_type": "stream",
          "name": "stderr",
          "text": [
            "\r1it [00:00,  2.43it/s]"
          ]
        },
        {
          "output_type": "stream",
          "name": "stdout",
          "text": [
            "Stopped by overfitting detector  (30 iterations wait)\n",
            "\n",
            "bestTest = 0.4777829775\n",
            "bestIteration = 58\n",
            "\n",
            "Shrink model to first 59 iterations.\n",
            "\n",
            " FOLD: 0 AUC: 0.5725879997873231 Mean AUC: 0.5725879997873231\n",
            "0:\tlearn: 0.4805426\ttest: 0.4809005\tbest: 0.4809005 (0)\ttotal: 4.11ms\tremaining: 4.1s\n"
          ]
        },
        {
          "output_type": "stream",
          "name": "stderr",
          "text": [
            "\r2it [00:00,  2.52it/s]"
          ]
        },
        {
          "output_type": "stream",
          "name": "stdout",
          "text": [
            "Stopped by overfitting detector  (30 iterations wait)\n",
            "\n",
            "bestTest = 0.4786812146\n",
            "bestIteration = 52\n",
            "\n",
            "Shrink model to first 53 iterations.\n",
            "\n",
            " FOLD: 1 AUC: 0.5631317050236279 Mean AUC: 0.5678598524054754\n",
            "0:\tlearn: 0.4806502\ttest: 0.4806266\tbest: 0.4806266 (0)\ttotal: 4.95ms\tremaining: 4.95s\n"
          ]
        },
        {
          "output_type": "stream",
          "name": "stderr",
          "text": [
            "\r3it [00:01,  2.93it/s]"
          ]
        },
        {
          "output_type": "stream",
          "name": "stdout",
          "text": [
            "Stopped by overfitting detector  (30 iterations wait)\n",
            "\n",
            "bestTest = 0.477332834\n",
            "bestIteration = 20\n",
            "\n",
            "Shrink model to first 21 iterations.\n",
            "\n",
            " FOLD: 2 AUC: 0.5801391090403604 Mean AUC: 0.571952937950437\n",
            "0:\tlearn: 0.4805617\ttest: 0.4807610\tbest: 0.4807610 (0)\ttotal: 3.31ms\tremaining: 3.31s\n"
          ]
        },
        {
          "output_type": "stream",
          "name": "stderr",
          "text": [
            "\r4it [00:01,  2.93it/s]"
          ]
        },
        {
          "output_type": "stream",
          "name": "stdout",
          "text": [
            "Stopped by overfitting detector  (30 iterations wait)\n",
            "\n",
            "bestTest = 0.4773907818\n",
            "bestIteration = 42\n",
            "\n",
            "Shrink model to first 43 iterations.\n",
            "\n",
            " FOLD: 3 AUC: 0.573935583192156 Mean AUC: 0.5724485992608668\n",
            "0:\tlearn: 0.4806095\ttest: 0.4808529\tbest: 0.4808529 (0)\ttotal: 3.47ms\tremaining: 3.47s\n"
          ]
        },
        {
          "output_type": "stream",
          "name": "stderr",
          "text": [
            "\r5it [00:01,  2.74it/s]"
          ]
        },
        {
          "output_type": "stream",
          "name": "stdout",
          "text": [
            "Stopped by overfitting detector  (30 iterations wait)\n",
            "\n",
            "bestTest = 0.4781703507\n",
            "bestIteration = 62\n",
            "\n",
            "Shrink model to first 63 iterations.\n",
            "\n",
            " FOLD: 4 AUC: 0.5702963869543116 Mean AUC: 0.5720181567995557\n",
            "0:\tlearn: 0.4806664\ttest: 0.4808238\tbest: 0.4808238 (0)\ttotal: 3.6ms\tremaining: 3.59s\n"
          ]
        },
        {
          "output_type": "stream",
          "name": "stderr",
          "text": [
            "\r6it [00:02,  2.48it/s]"
          ]
        },
        {
          "output_type": "stream",
          "name": "stdout",
          "text": [
            "100:\tlearn: 0.4680652\ttest: 0.4780813\tbest: 0.4776500 (78)\ttotal: 348ms\tremaining: 3.09s\n",
            "Stopped by overfitting detector  (30 iterations wait)\n",
            "\n",
            "bestTest = 0.4776500325\n",
            "bestIteration = 78\n",
            "\n",
            "Shrink model to first 79 iterations.\n",
            "\n",
            " FOLD: 5 AUC: 0.5731353858739703 Mean AUC: 0.5722043616452915\n",
            "0:\tlearn: 0.4805935\ttest: 0.4805597\tbest: 0.4805597 (0)\ttotal: 3.38ms\tremaining: 3.38s\n"
          ]
        },
        {
          "output_type": "stream",
          "name": "stderr",
          "text": [
            "\r7it [00:02,  2.39it/s]"
          ]
        },
        {
          "output_type": "stream",
          "name": "stdout",
          "text": [
            "100:\tlearn: 0.4679879\ttest: 0.4776020\tbest: 0.4771299 (72)\ttotal: 343ms\tremaining: 3.05s\n",
            "Stopped by overfitting detector  (30 iterations wait)\n",
            "\n",
            "bestTest = 0.4771299473\n",
            "bestIteration = 72\n",
            "\n",
            "Shrink model to first 73 iterations.\n",
            "\n",
            " FOLD: 6 AUC: 0.5772433271923321 Mean AUC: 0.5729242138662973\n",
            "0:\tlearn: 0.4805891\ttest: 0.4807784\tbest: 0.4807784 (0)\ttotal: 3.39ms\tremaining: 3.39s\n"
          ]
        },
        {
          "output_type": "stream",
          "name": "stderr",
          "text": [
            "\r8it [00:03,  2.40it/s]"
          ]
        },
        {
          "output_type": "stream",
          "name": "stdout",
          "text": [
            "Stopped by overfitting detector  (30 iterations wait)\n",
            "\n",
            "bestTest = 0.477692876\n",
            "bestIteration = 63\n",
            "\n",
            "Shrink model to first 64 iterations.\n",
            "\n",
            " FOLD: 7 AUC: 0.5713613488185857 Mean AUC: 0.5727288557353334\n",
            "0:\tlearn: 0.4806495\ttest: 0.4808303\tbest: 0.4808303 (0)\ttotal: 3.36ms\tremaining: 3.36s\n"
          ]
        },
        {
          "output_type": "stream",
          "name": "stderr",
          "text": [
            "\r9it [00:03,  2.33it/s]"
          ]
        },
        {
          "output_type": "stream",
          "name": "stdout",
          "text": [
            "100:\tlearn: 0.4679717\ttest: 0.4783469\tbest: 0.4780009 (80)\ttotal: 328ms\tremaining: 2.92s\n",
            "Stopped by overfitting detector  (30 iterations wait)\n",
            "\n",
            "bestTest = 0.4780009488\n",
            "bestIteration = 80\n",
            "\n",
            "Shrink model to first 81 iterations.\n",
            "\n",
            " FOLD: 8 AUC: 0.5702068082010967 Mean AUC: 0.5724486282315293\n",
            "0:\tlearn: 0.4806691\ttest: 0.4806620\tbest: 0.4806620 (0)\ttotal: 3.4ms\tremaining: 3.4s\n"
          ]
        },
        {
          "output_type": "stream",
          "name": "stderr",
          "text": [
            "10it [00:04,  2.48it/s]"
          ]
        },
        {
          "output_type": "stream",
          "name": "stdout",
          "text": [
            "Stopped by overfitting detector  (30 iterations wait)\n",
            "\n",
            "bestTest = 0.4758130142\n",
            "bestIteration = 64\n",
            "\n",
            "Shrink model to first 65 iterations.\n",
            "\n",
            " FOLD: 9 AUC: 0.589964589410928 Mean AUC: 0.5742002243494693\n",
            "\n",
            "\n",
            "0.5742002243494693\n"
          ]
        },
        {
          "output_type": "stream",
          "name": "stderr",
          "text": [
            "\n"
          ]
        }
      ]
    },
    {
      "cell_type": "code",
      "source": [
        "submission = pd.read_csv('sample_submission.csv')\n",
        "submission"
      ],
      "metadata": {
        "colab": {
          "base_uri": "https://localhost:8080/",
          "height": 424
        },
        "id": "4cFl8metGwCb",
        "outputId": "eb90adad-6bc1-4020-f3a2-71fdef43de24"
      },
      "execution_count": null,
      "outputs": [
        {
          "output_type": "execute_result",
          "data": {
            "text/html": [
              "\n",
              "  <div id=\"df-c7784a5b-4e36-42a8-b4d8-91c5f0a10cea\">\n",
              "    <div class=\"colab-df-container\">\n",
              "      <div>\n",
              "<style scoped>\n",
              "    .dataframe tbody tr th:only-of-type {\n",
              "        vertical-align: middle;\n",
              "    }\n",
              "\n",
              "    .dataframe tbody tr th {\n",
              "        vertical-align: top;\n",
              "    }\n",
              "\n",
              "    .dataframe thead th {\n",
              "        text-align: right;\n",
              "    }\n",
              "</style>\n",
              "<table border=\"1\" class=\"dataframe\">\n",
              "  <thead>\n",
              "    <tr style=\"text-align: right;\">\n",
              "      <th></th>\n",
              "      <th>id</th>\n",
              "      <th>song_popularity</th>\n",
              "    </tr>\n",
              "  </thead>\n",
              "  <tbody>\n",
              "    <tr>\n",
              "      <th>0</th>\n",
              "      <td>0</td>\n",
              "      <td>0</td>\n",
              "    </tr>\n",
              "    <tr>\n",
              "      <th>1</th>\n",
              "      <td>1</td>\n",
              "      <td>0</td>\n",
              "    </tr>\n",
              "    <tr>\n",
              "      <th>2</th>\n",
              "      <td>2</td>\n",
              "      <td>0</td>\n",
              "    </tr>\n",
              "    <tr>\n",
              "      <th>3</th>\n",
              "      <td>3</td>\n",
              "      <td>0</td>\n",
              "    </tr>\n",
              "    <tr>\n",
              "      <th>4</th>\n",
              "      <td>4</td>\n",
              "      <td>0</td>\n",
              "    </tr>\n",
              "    <tr>\n",
              "      <th>...</th>\n",
              "      <td>...</td>\n",
              "      <td>...</td>\n",
              "    </tr>\n",
              "    <tr>\n",
              "      <th>9995</th>\n",
              "      <td>9995</td>\n",
              "      <td>0</td>\n",
              "    </tr>\n",
              "    <tr>\n",
              "      <th>9996</th>\n",
              "      <td>9996</td>\n",
              "      <td>0</td>\n",
              "    </tr>\n",
              "    <tr>\n",
              "      <th>9997</th>\n",
              "      <td>9997</td>\n",
              "      <td>0</td>\n",
              "    </tr>\n",
              "    <tr>\n",
              "      <th>9998</th>\n",
              "      <td>9998</td>\n",
              "      <td>0</td>\n",
              "    </tr>\n",
              "    <tr>\n",
              "      <th>9999</th>\n",
              "      <td>9999</td>\n",
              "      <td>0</td>\n",
              "    </tr>\n",
              "  </tbody>\n",
              "</table>\n",
              "<p>10000 rows × 2 columns</p>\n",
              "</div>\n",
              "      <button class=\"colab-df-convert\" onclick=\"convertToInteractive('df-c7784a5b-4e36-42a8-b4d8-91c5f0a10cea')\"\n",
              "              title=\"Convert this dataframe to an interactive table.\"\n",
              "              style=\"display:none;\">\n",
              "        \n",
              "  <svg xmlns=\"http://www.w3.org/2000/svg\" height=\"24px\"viewBox=\"0 0 24 24\"\n",
              "       width=\"24px\">\n",
              "    <path d=\"M0 0h24v24H0V0z\" fill=\"none\"/>\n",
              "    <path d=\"M18.56 5.44l.94 2.06.94-2.06 2.06-.94-2.06-.94-.94-2.06-.94 2.06-2.06.94zm-11 1L8.5 8.5l.94-2.06 2.06-.94-2.06-.94L8.5 2.5l-.94 2.06-2.06.94zm10 10l.94 2.06.94-2.06 2.06-.94-2.06-.94-.94-2.06-.94 2.06-2.06.94z\"/><path d=\"M17.41 7.96l-1.37-1.37c-.4-.4-.92-.59-1.43-.59-.52 0-1.04.2-1.43.59L10.3 9.45l-7.72 7.72c-.78.78-.78 2.05 0 2.83L4 21.41c.39.39.9.59 1.41.59.51 0 1.02-.2 1.41-.59l7.78-7.78 2.81-2.81c.8-.78.8-2.07 0-2.86zM5.41 20L4 18.59l7.72-7.72 1.47 1.35L5.41 20z\"/>\n",
              "  </svg>\n",
              "      </button>\n",
              "      \n",
              "  <style>\n",
              "    .colab-df-container {\n",
              "      display:flex;\n",
              "      flex-wrap:wrap;\n",
              "      gap: 12px;\n",
              "    }\n",
              "\n",
              "    .colab-df-convert {\n",
              "      background-color: #E8F0FE;\n",
              "      border: none;\n",
              "      border-radius: 50%;\n",
              "      cursor: pointer;\n",
              "      display: none;\n",
              "      fill: #1967D2;\n",
              "      height: 32px;\n",
              "      padding: 0 0 0 0;\n",
              "      width: 32px;\n",
              "    }\n",
              "\n",
              "    .colab-df-convert:hover {\n",
              "      background-color: #E2EBFA;\n",
              "      box-shadow: 0px 1px 2px rgba(60, 64, 67, 0.3), 0px 1px 3px 1px rgba(60, 64, 67, 0.15);\n",
              "      fill: #174EA6;\n",
              "    }\n",
              "\n",
              "    [theme=dark] .colab-df-convert {\n",
              "      background-color: #3B4455;\n",
              "      fill: #D2E3FC;\n",
              "    }\n",
              "\n",
              "    [theme=dark] .colab-df-convert:hover {\n",
              "      background-color: #434B5C;\n",
              "      box-shadow: 0px 1px 3px 1px rgba(0, 0, 0, 0.15);\n",
              "      filter: drop-shadow(0px 1px 2px rgba(0, 0, 0, 0.3));\n",
              "      fill: #FFFFFF;\n",
              "    }\n",
              "  </style>\n",
              "\n",
              "      <script>\n",
              "        const buttonEl =\n",
              "          document.querySelector('#df-c7784a5b-4e36-42a8-b4d8-91c5f0a10cea button.colab-df-convert');\n",
              "        buttonEl.style.display =\n",
              "          google.colab.kernel.accessAllowed ? 'block' : 'none';\n",
              "\n",
              "        async function convertToInteractive(key) {\n",
              "          const element = document.querySelector('#df-c7784a5b-4e36-42a8-b4d8-91c5f0a10cea');\n",
              "          const dataTable =\n",
              "            await google.colab.kernel.invokeFunction('convertToInteractive',\n",
              "                                                     [key], {});\n",
              "          if (!dataTable) return;\n",
              "\n",
              "          const docLinkHtml = 'Like what you see? Visit the ' +\n",
              "            '<a target=\"_blank\" href=https://colab.research.google.com/notebooks/data_table.ipynb>data table notebook</a>'\n",
              "            + ' to learn more about interactive tables.';\n",
              "          element.innerHTML = '';\n",
              "          dataTable['output_type'] = 'display_data';\n",
              "          await google.colab.output.renderOutput(dataTable, element);\n",
              "          const docLink = document.createElement('div');\n",
              "          docLink.innerHTML = docLinkHtml;\n",
              "          element.appendChild(docLink);\n",
              "        }\n",
              "      </script>\n",
              "    </div>\n",
              "  </div>\n",
              "  "
            ],
            "text/plain": [
              "        id  song_popularity\n",
              "0        0                0\n",
              "1        1                0\n",
              "2        2                0\n",
              "3        3                0\n",
              "4        4                0\n",
              "...    ...              ...\n",
              "9995  9995                0\n",
              "9996  9996                0\n",
              "9997  9997                0\n",
              "9998  9998                0\n",
              "9999  9999                0\n",
              "\n",
              "[10000 rows x 2 columns]"
            ]
          },
          "metadata": {},
          "execution_count": 52
        }
      ]
    },
    {
      "cell_type": "code",
      "source": [
        "submission['song_popularity']= model.predict(test)"
      ],
      "metadata": {
        "id": "FrtviYGncEft"
      },
      "execution_count": null,
      "outputs": []
    },
    {
      "cell_type": "code",
      "source": [
        "submission.to_csv('cat_boost_tuned.csv',index=False)"
      ],
      "metadata": {
        "id": "ujZr2B-hcKt4"
      },
      "execution_count": null,
      "outputs": []
    },
    {
      "cell_type": "code",
      "source": [
        ""
      ],
      "metadata": {
        "id": "ilBMiJhUca05"
      },
      "execution_count": null,
      "outputs": []
    }
  ],
  "metadata": {
    "accelerator": "GPU",
    "colab": {
      "machine_shape": "hm",
      "name": "UnreasonableXGB.ipynb",
      "provenance": []
    },
    "kernelspec": {
      "display_name": "Python 3",
      "name": "python3"
    },
    "language_info": {
      "name": "python"
    },
    "widgets": {
      "application/vnd.jupyter.widget-state+json": {
        "c512e27725224047bdf2c7e26e6e0c23": {
          "model_module": "catboost-widget",
          "model_name": "CatboostWidgetModel",
          "model_module_version": "^1.0.0",
          "state": {
            "_view_name": "CatboostWidgetView",
            "_dom_classes": [],
            "_model_name": "CatboostWidgetModel",
            "data": {
              "catboost_info": {
                "content": {
                  "data": {
                    "meta": {
                      "name": "experiment",
                      "parameters": "parameters",
                      "test_metrics": [
                        {
                          "best_value": "Min",
                          "name": "RMSE"
                        }
                      ],
                      "learn_sets": [
                        "learn"
                      ],
                      "launch_mode": "Train",
                      "learn_metrics": [
                        {
                          "best_value": "Min",
                          "name": "RMSE"
                        }
                      ],
                      "iteration_count": 10,
                      "test_sets": [
                        "test"
                      ]
                    },
                    "iterations": [
                      {
                        "parameters": [
                          {
                            "learning_rate": 0.2,
                            "l2_leaf_reg": 10,
                            "border_count": 5,
                            "depth": 8
                          }
                        ],
                        "iteration": 0,
                        "remaining_time": 49.41222341,
                        "passed_time": 5.490247046,
                        "learn": [
                          0.2799368421
                        ],
                        "test": [
                          0.4787845833
                        ]
                      },
                      {
                        "parameters": [
                          {
                            "learning_rate": 0.3,
                            "l2_leaf_reg": 5,
                            "border_count": 10,
                            "depth": 2
                          }
                        ],
                        "iteration": 1,
                        "remaining_time": 31.4639314,
                        "passed_time": 7.86598285,
                        "learn": [
                          0.4682814995
                        ],
                        "test": [
                          0.4779476828
                        ]
                      },
                      {
                        "parameters": [
                          {
                            "learning_rate": 0.1,
                            "l2_leaf_reg": 5,
                            "border_count": 10,
                            "depth": 7
                          }
                        ],
                        "iteration": 2,
                        "remaining_time": 28.80864333,
                        "passed_time": 12.34656143,
                        "learn": [
                          0.3768331689
                        ],
                        "test": [
                          0.4776420786
                        ]
                      },
                      {
                        "parameters": [
                          {
                            "learning_rate": 0.001,
                            "l2_leaf_reg": 1,
                            "border_count": 10,
                            "depth": 8
                          }
                        ],
                        "iteration": 3,
                        "remaining_time": 25.99252683,
                        "passed_time": 17.32835122,
                        "learn": [
                          0.4967320567
                        ],
                        "test": [
                          0.496964997
                        ]
                      },
                      {
                        "parameters": [
                          {
                            "learning_rate": 0.2,
                            "l2_leaf_reg": 5,
                            "border_count": 20,
                            "depth": 5
                          }
                        ],
                        "iteration": 4,
                        "remaining_time": 20.65355751,
                        "passed_time": 20.65355751,
                        "learn": [
                          0.4052748458
                        ],
                        "test": [
                          0.4773173282
                        ]
                      },
                      {
                        "parameters": [
                          {
                            "learning_rate": 0.03,
                            "l2_leaf_reg": 5,
                            "border_count": 50,
                            "depth": 4
                          }
                        ],
                        "iteration": 5,
                        "remaining_time": 15.79751629,
                        "passed_time": 23.69627444,
                        "learn": [
                          0.4672445351
                        ],
                        "test": [
                          0.4773491397
                        ]
                      },
                      {
                        "parameters": [
                          {
                            "learning_rate": 0.3,
                            "l2_leaf_reg": 10,
                            "border_count": 50,
                            "depth": 10
                          }
                        ],
                        "iteration": 6,
                        "remaining_time": 14.91620443,
                        "passed_time": 34.80447699,
                        "learn": [
                          0.09232359901
                        ],
                        "test": [
                          0.478534623
                        ]
                      },
                      {
                        "parameters": [
                          {
                            "learning_rate": 0.03,
                            "l2_leaf_reg": 5,
                            "border_count": 100,
                            "depth": 5
                          }
                        ],
                        "iteration": 7,
                        "remaining_time": 9.594258949,
                        "passed_time": 38.3770358,
                        "learn": [
                          0.4608358491
                        ],
                        "test": [
                          0.4773323144
                        ]
                      },
                      {
                        "parameters": [
                          {
                            "learning_rate": 0.3,
                            "l2_leaf_reg": 10,
                            "border_count": 200,
                            "depth": 4
                          }
                        ],
                        "iteration": 8,
                        "remaining_time": 4.629055794,
                        "passed_time": 41.66150215,
                        "learn": [
                          0.4152216015
                        ],
                        "test": [
                          0.4775500897
                        ]
                      },
                      {
                        "parameters": [
                          {
                            "learning_rate": 0.001,
                            "l2_leaf_reg": 1,
                            "border_count": 200,
                            "depth": 8
                          }
                        ],
                        "iteration": 9,
                        "remaining_time": 0,
                        "passed_time": 50.32540465,
                        "learn": [
                          0.4966140143
                        ],
                        "test": [
                          0.496902614
                        ]
                      }
                    ]
                  },
                  "total_iterations": 10,
                  "passed_iterations": 9
                },
                "path": "catboost_info",
                "name": "catboost_info"
              }
            },
            "_view_module": "catboost-widget",
            "_model_module_version": "^1.0.0",
            "_view_count": null,
            "_view_module_version": "^1.0.0",
            "layout": "IPY_MODEL_51a2a7ee73dc4e809187e240b38ce6ec",
            "_model_module": "catboost-widget"
          }
        }
      }
    }
  },
  "nbformat": 4,
  "nbformat_minor": 0
}