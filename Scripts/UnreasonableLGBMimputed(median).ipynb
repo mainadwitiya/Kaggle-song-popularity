{
  "nbformat": 4,
  "nbformat_minor": 0,
  "metadata": {
    "colab": {
      "name": "UnreasonableLGBMimputed(median).ipynb",
      "provenance": [],
      "machine_shape": "hm"
    },
    "kernelspec": {
      "name": "python3",
      "display_name": "Python 3"
    },
    "language_info": {
      "name": "python"
    },
    "accelerator": "GPU"
  },
  "cells": [
    {
      "cell_type": "code",
      "source": [
        "!pip install optuna\n"
      ],
      "metadata": {
        "id": "OonnRv4p2hJj"
      },
      "execution_count": null,
      "outputs": []
    },
    {
      "cell_type": "code",
      "source": [
        "from google.colab import drive\n",
        "\n",
        "drive.mount('/content/gdrive')"
      ],
      "metadata": {
        "colab": {
          "base_uri": "https://localhost:8080/"
        },
        "id": "1Zq4Jugn2ZbB",
        "outputId": "b19cc272-33e7-4628-9856-d55d6d01b035"
      },
      "execution_count": 2,
      "outputs": [
        {
          "output_type": "stream",
          "name": "stdout",
          "text": [
            "Mounted at /content/gdrive\n"
          ]
        }
      ]
    },
    {
      "cell_type": "code",
      "execution_count": 3,
      "metadata": {
        "id": "sZo-rQO82Fsv"
      },
      "outputs": [],
      "source": [
        "import os\n",
        "import gc\n",
        "import random\n",
        "import pandas as pd\n",
        "import numpy as np\n",
        "import seaborn as sns\n",
        "from sklearn.model_selection import StratifiedKFold\n",
        "from sklearn.preprocessing import LabelEncoder\n",
        "from sklearn.metrics import classification_report, accuracy_score, confusion_matrix,roc_auc_score\n",
        "from optuna.integration import LightGBMPruningCallback\n",
        "from sklearn.metrics import log_loss\n",
        "import lightgbm as lgbm\n"
      ]
    },
    {
      "cell_type": "code",
      "source": [
        "from sklearn.impute   import SimpleImputer\n",
        "\n",
        "train1 = pd.read_csv('/content/gdrive/MyDrive/song-popularity-prediction/train.csv')\n",
        "test = pd.read_csv('/content/gdrive/MyDrive/song-popularity-prediction/test.csv')\n",
        "columns = [col for col in train1.columns.to_list() if col not in ['id','song_popularity']]\n",
        "data=train1[columns]\n",
        "target=train1['song_popularity']\n",
        "\n",
        "median_impute  = SimpleImputer(strategy='median')\n",
        "imputed_data = median_impute.fit_transform(data)\n",
        "imputed_data = pd.DataFrame(imputed_data, columns = data.columns)\n",
        "train=imputed_data"
      ],
      "metadata": {
        "id": "_HBqf4mK3U8Q"
      },
      "execution_count": 4,
      "outputs": []
    },
    {
      "cell_type": "code",
      "source": [
        "NUM_CLASSES=target.nunique()"
      ],
      "metadata": {
        "id": "YOxRY2HX3pOf"
      },
      "execution_count": 5,
      "outputs": []
    },
    {
      "cell_type": "code",
      "source": [
        "train"
      ],
      "metadata": {
        "id": "jB3B9sph2-re",
        "colab": {
          "base_uri": "https://localhost:8080/",
          "height": 487
        },
        "outputId": "4987834a-27a1-43bd-c0e5-d3904e2dd315"
      },
      "execution_count": 6,
      "outputs": [
        {
          "output_type": "execute_result",
          "data": {
            "text/html": [
              "\n",
              "  <div id=\"df-25652558-9a98-4a53-8f88-05b243a4423b\">\n",
              "    <div class=\"colab-df-container\">\n",
              "      <div>\n",
              "<style scoped>\n",
              "    .dataframe tbody tr th:only-of-type {\n",
              "        vertical-align: middle;\n",
              "    }\n",
              "\n",
              "    .dataframe tbody tr th {\n",
              "        vertical-align: top;\n",
              "    }\n",
              "\n",
              "    .dataframe thead th {\n",
              "        text-align: right;\n",
              "    }\n",
              "</style>\n",
              "<table border=\"1\" class=\"dataframe\">\n",
              "  <thead>\n",
              "    <tr style=\"text-align: right;\">\n",
              "      <th></th>\n",
              "      <th>song_duration_ms</th>\n",
              "      <th>acousticness</th>\n",
              "      <th>danceability</th>\n",
              "      <th>energy</th>\n",
              "      <th>instrumentalness</th>\n",
              "      <th>key</th>\n",
              "      <th>liveness</th>\n",
              "      <th>loudness</th>\n",
              "      <th>audio_mode</th>\n",
              "      <th>speechiness</th>\n",
              "      <th>tempo</th>\n",
              "      <th>time_signature</th>\n",
              "      <th>audio_valence</th>\n",
              "    </tr>\n",
              "  </thead>\n",
              "  <tbody>\n",
              "    <tr>\n",
              "      <th>0</th>\n",
              "      <td>212990.0</td>\n",
              "      <td>0.642286</td>\n",
              "      <td>0.856520</td>\n",
              "      <td>0.707073</td>\n",
              "      <td>0.002001</td>\n",
              "      <td>10.0</td>\n",
              "      <td>0.135945</td>\n",
              "      <td>-5.619088</td>\n",
              "      <td>0.0</td>\n",
              "      <td>0.082570</td>\n",
              "      <td>158.386236</td>\n",
              "      <td>4.0</td>\n",
              "      <td>0.734642</td>\n",
              "    </tr>\n",
              "    <tr>\n",
              "      <th>1</th>\n",
              "      <td>186660.0</td>\n",
              "      <td>0.054866</td>\n",
              "      <td>0.733289</td>\n",
              "      <td>0.835545</td>\n",
              "      <td>0.000996</td>\n",
              "      <td>8.0</td>\n",
              "      <td>0.436428</td>\n",
              "      <td>-5.236965</td>\n",
              "      <td>1.0</td>\n",
              "      <td>0.127358</td>\n",
              "      <td>102.752988</td>\n",
              "      <td>3.0</td>\n",
              "      <td>0.711531</td>\n",
              "    </tr>\n",
              "    <tr>\n",
              "      <th>2</th>\n",
              "      <td>193213.0</td>\n",
              "      <td>0.140532</td>\n",
              "      <td>0.188387</td>\n",
              "      <td>0.783524</td>\n",
              "      <td>-0.002694</td>\n",
              "      <td>5.0</td>\n",
              "      <td>0.170499</td>\n",
              "      <td>-4.951759</td>\n",
              "      <td>0.0</td>\n",
              "      <td>0.052282</td>\n",
              "      <td>178.685791</td>\n",
              "      <td>3.0</td>\n",
              "      <td>0.425536</td>\n",
              "    </tr>\n",
              "    <tr>\n",
              "      <th>3</th>\n",
              "      <td>249893.0</td>\n",
              "      <td>0.488660</td>\n",
              "      <td>0.585234</td>\n",
              "      <td>0.552685</td>\n",
              "      <td>0.000608</td>\n",
              "      <td>0.0</td>\n",
              "      <td>0.094805</td>\n",
              "      <td>-7.893694</td>\n",
              "      <td>0.0</td>\n",
              "      <td>0.035618</td>\n",
              "      <td>128.715630</td>\n",
              "      <td>3.0</td>\n",
              "      <td>0.453597</td>\n",
              "    </tr>\n",
              "    <tr>\n",
              "      <th>4</th>\n",
              "      <td>165969.0</td>\n",
              "      <td>0.493017</td>\n",
              "      <td>0.608234</td>\n",
              "      <td>0.740982</td>\n",
              "      <td>0.002033</td>\n",
              "      <td>10.0</td>\n",
              "      <td>0.094891</td>\n",
              "      <td>-2.684095</td>\n",
              "      <td>0.0</td>\n",
              "      <td>0.050746</td>\n",
              "      <td>121.928157</td>\n",
              "      <td>4.0</td>\n",
              "      <td>0.741311</td>\n",
              "    </tr>\n",
              "    <tr>\n",
              "      <th>...</th>\n",
              "      <td>...</td>\n",
              "      <td>...</td>\n",
              "      <td>...</td>\n",
              "      <td>...</td>\n",
              "      <td>...</td>\n",
              "      <td>...</td>\n",
              "      <td>...</td>\n",
              "      <td>...</td>\n",
              "      <td>...</td>\n",
              "      <td>...</td>\n",
              "      <td>...</td>\n",
              "      <td>...</td>\n",
              "      <td>...</td>\n",
              "    </tr>\n",
              "    <tr>\n",
              "      <th>39995</th>\n",
              "      <td>237799.0</td>\n",
              "      <td>0.140532</td>\n",
              "      <td>0.748942</td>\n",
              "      <td>0.511234</td>\n",
              "      <td>0.002913</td>\n",
              "      <td>0.0</td>\n",
              "      <td>0.173803</td>\n",
              "      <td>-8.853673</td>\n",
              "      <td>0.0</td>\n",
              "      <td>0.078060</td>\n",
              "      <td>168.262924</td>\n",
              "      <td>3.0</td>\n",
              "      <td>0.178159</td>\n",
              "    </tr>\n",
              "    <tr>\n",
              "      <th>39996</th>\n",
              "      <td>191119.0</td>\n",
              "      <td>0.067488</td>\n",
              "      <td>0.672830</td>\n",
              "      <td>0.889685</td>\n",
              "      <td>0.001225</td>\n",
              "      <td>5.0</td>\n",
              "      <td>0.122924</td>\n",
              "      <td>-7.798993</td>\n",
              "      <td>0.0</td>\n",
              "      <td>0.188607</td>\n",
              "      <td>110.684544</td>\n",
              "      <td>3.0</td>\n",
              "      <td>0.790626</td>\n",
              "    </tr>\n",
              "    <tr>\n",
              "      <th>39997</th>\n",
              "      <td>160879.0</td>\n",
              "      <td>0.877431</td>\n",
              "      <td>0.409065</td>\n",
              "      <td>0.292671</td>\n",
              "      <td>0.001974</td>\n",
              "      <td>10.0</td>\n",
              "      <td>0.110664</td>\n",
              "      <td>-15.378585</td>\n",
              "      <td>0.0</td>\n",
              "      <td>0.031294</td>\n",
              "      <td>99.556074</td>\n",
              "      <td>3.0</td>\n",
              "      <td>0.177947</td>\n",
              "    </tr>\n",
              "    <tr>\n",
              "      <th>39998</th>\n",
              "      <td>193918.0</td>\n",
              "      <td>0.140532</td>\n",
              "      <td>0.365738</td>\n",
              "      <td>0.704453</td>\n",
              "      <td>0.000339</td>\n",
              "      <td>1.0</td>\n",
              "      <td>0.356308</td>\n",
              "      <td>-4.661977</td>\n",
              "      <td>1.0</td>\n",
              "      <td>0.054096</td>\n",
              "      <td>139.857384</td>\n",
              "      <td>3.0</td>\n",
              "      <td>0.772978</td>\n",
              "    </tr>\n",
              "    <tr>\n",
              "      <th>39999</th>\n",
              "      <td>196475.0</td>\n",
              "      <td>0.007116</td>\n",
              "      <td>0.354585</td>\n",
              "      <td>0.994883</td>\n",
              "      <td>0.002191</td>\n",
              "      <td>1.0</td>\n",
              "      <td>0.200900</td>\n",
              "      <td>-4.875249</td>\n",
              "      <td>0.0</td>\n",
              "      <td>0.080549</td>\n",
              "      <td>101.974949</td>\n",
              "      <td>3.0</td>\n",
              "      <td>0.588549</td>\n",
              "    </tr>\n",
              "  </tbody>\n",
              "</table>\n",
              "<p>40000 rows × 13 columns</p>\n",
              "</div>\n",
              "      <button class=\"colab-df-convert\" onclick=\"convertToInteractive('df-25652558-9a98-4a53-8f88-05b243a4423b')\"\n",
              "              title=\"Convert this dataframe to an interactive table.\"\n",
              "              style=\"display:none;\">\n",
              "        \n",
              "  <svg xmlns=\"http://www.w3.org/2000/svg\" height=\"24px\"viewBox=\"0 0 24 24\"\n",
              "       width=\"24px\">\n",
              "    <path d=\"M0 0h24v24H0V0z\" fill=\"none\"/>\n",
              "    <path d=\"M18.56 5.44l.94 2.06.94-2.06 2.06-.94-2.06-.94-.94-2.06-.94 2.06-2.06.94zm-11 1L8.5 8.5l.94-2.06 2.06-.94-2.06-.94L8.5 2.5l-.94 2.06-2.06.94zm10 10l.94 2.06.94-2.06 2.06-.94-2.06-.94-.94-2.06-.94 2.06-2.06.94z\"/><path d=\"M17.41 7.96l-1.37-1.37c-.4-.4-.92-.59-1.43-.59-.52 0-1.04.2-1.43.59L10.3 9.45l-7.72 7.72c-.78.78-.78 2.05 0 2.83L4 21.41c.39.39.9.59 1.41.59.51 0 1.02-.2 1.41-.59l7.78-7.78 2.81-2.81c.8-.78.8-2.07 0-2.86zM5.41 20L4 18.59l7.72-7.72 1.47 1.35L5.41 20z\"/>\n",
              "  </svg>\n",
              "      </button>\n",
              "      \n",
              "  <style>\n",
              "    .colab-df-container {\n",
              "      display:flex;\n",
              "      flex-wrap:wrap;\n",
              "      gap: 12px;\n",
              "    }\n",
              "\n",
              "    .colab-df-convert {\n",
              "      background-color: #E8F0FE;\n",
              "      border: none;\n",
              "      border-radius: 50%;\n",
              "      cursor: pointer;\n",
              "      display: none;\n",
              "      fill: #1967D2;\n",
              "      height: 32px;\n",
              "      padding: 0 0 0 0;\n",
              "      width: 32px;\n",
              "    }\n",
              "\n",
              "    .colab-df-convert:hover {\n",
              "      background-color: #E2EBFA;\n",
              "      box-shadow: 0px 1px 2px rgba(60, 64, 67, 0.3), 0px 1px 3px 1px rgba(60, 64, 67, 0.15);\n",
              "      fill: #174EA6;\n",
              "    }\n",
              "\n",
              "    [theme=dark] .colab-df-convert {\n",
              "      background-color: #3B4455;\n",
              "      fill: #D2E3FC;\n",
              "    }\n",
              "\n",
              "    [theme=dark] .colab-df-convert:hover {\n",
              "      background-color: #434B5C;\n",
              "      box-shadow: 0px 1px 3px 1px rgba(0, 0, 0, 0.15);\n",
              "      filter: drop-shadow(0px 1px 2px rgba(0, 0, 0, 0.3));\n",
              "      fill: #FFFFFF;\n",
              "    }\n",
              "  </style>\n",
              "\n",
              "      <script>\n",
              "        const buttonEl =\n",
              "          document.querySelector('#df-25652558-9a98-4a53-8f88-05b243a4423b button.colab-df-convert');\n",
              "        buttonEl.style.display =\n",
              "          google.colab.kernel.accessAllowed ? 'block' : 'none';\n",
              "\n",
              "        async function convertToInteractive(key) {\n",
              "          const element = document.querySelector('#df-25652558-9a98-4a53-8f88-05b243a4423b');\n",
              "          const dataTable =\n",
              "            await google.colab.kernel.invokeFunction('convertToInteractive',\n",
              "                                                     [key], {});\n",
              "          if (!dataTable) return;\n",
              "\n",
              "          const docLinkHtml = 'Like what you see? Visit the ' +\n",
              "            '<a target=\"_blank\" href=https://colab.research.google.com/notebooks/data_table.ipynb>data table notebook</a>'\n",
              "            + ' to learn more about interactive tables.';\n",
              "          element.innerHTML = '';\n",
              "          dataTable['output_type'] = 'display_data';\n",
              "          await google.colab.output.renderOutput(dataTable, element);\n",
              "          const docLink = document.createElement('div');\n",
              "          docLink.innerHTML = docLinkHtml;\n",
              "          element.appendChild(docLink);\n",
              "        }\n",
              "      </script>\n",
              "    </div>\n",
              "  </div>\n",
              "  "
            ],
            "text/plain": [
              "       song_duration_ms  acousticness  ...  time_signature  audio_valence\n",
              "0              212990.0      0.642286  ...             4.0       0.734642\n",
              "1              186660.0      0.054866  ...             3.0       0.711531\n",
              "2              193213.0      0.140532  ...             3.0       0.425536\n",
              "3              249893.0      0.488660  ...             3.0       0.453597\n",
              "4              165969.0      0.493017  ...             4.0       0.741311\n",
              "...                 ...           ...  ...             ...            ...\n",
              "39995          237799.0      0.140532  ...             3.0       0.178159\n",
              "39996          191119.0      0.067488  ...             3.0       0.790626\n",
              "39997          160879.0      0.877431  ...             3.0       0.177947\n",
              "39998          193918.0      0.140532  ...             3.0       0.772978\n",
              "39999          196475.0      0.007116  ...             3.0       0.588549\n",
              "\n",
              "[40000 rows x 13 columns]"
            ]
          },
          "metadata": {},
          "execution_count": 6
        }
      ]
    },
    {
      "cell_type": "code",
      "source": [
        "params={'bagging_fraction': 0.7,\n",
        " 'bagging_freq': 1,\n",
        " 'feature_fraction': 0.5,\n",
        " 'lambda_l1': 0,\n",
        " 'lambda_l2': 30,\n",
        " 'learning_rate': 0.12175906487922063,\n",
        " 'max_depth': 8,\n",
        " 'min_data_in_leaf': 3100,\n",
        " 'min_gain_to_split': 1.543021792185368,\n",
        " 'n_estimators': 10000,\n",
        " 'num_leaves': 2340}"
      ],
      "metadata": {
        "id": "JZ2e0Ps121ou"
      },
      "execution_count": 7,
      "outputs": []
    },
    {
      "cell_type": "code",
      "source": [
        "from tqdm import tqdm\n",
        "np.random.seed(64)\n",
        "random.seed(64)\n",
        "\n",
        "\n",
        "target = train1['song_popularity'].values\n",
        "FOLDS=10\n",
        "kf = StratifiedKFold(n_splits = FOLDS, shuffle=True, random_state=64)    \n",
        "        \n",
        "oof = np.zeros((train.shape[0],))\n",
        "predictions = 0\n",
        "auc_value = []\n",
        "for f, (train_index, test_index) in tqdm(enumerate(kf.split(X=train, y=target))):\n",
        "        X_train, X_val = train.iloc[train_index][columns], train.iloc[test_index][columns]\n",
        "        y_train, y_val = target[train_index], target[test_index]\n",
        "        model = lgbm.LGBMClassifier(**params)\n",
        "        model.fit(X_train[columns],\n",
        "                  y_train,\n",
        "                  eval_set=[(X_val[columns], y_val)],\n",
        "                  early_stopping_rounds=300,\n",
        "                  verbose=100\n",
        "                  )\n",
        "  \n",
        "        \n",
        "        oof_temp_pred = model.predict_proba(X_val[columns])[:,1]\n",
        "        test_temp_pred = model.predict_proba(test[columns])[:,1]\n",
        "        oof[test_index] = oof_temp_pred\n",
        "        predictions += test_temp_pred/FOLDS\n",
        "        auc = roc_auc_score(y_val, oof_temp_pred)\n",
        "        auc_value.append(auc)\n",
        "        print(f'FOLD: {f} AUC: {auc} Mean AUC: {np.mean(auc_value)}')"
      ],
      "metadata": {
        "colab": {
          "base_uri": "https://localhost:8080/"
        },
        "id": "Zq5gHzk_4JHY",
        "outputId": "66c05f23-4ecb-48b4-ff8f-b36f2682eaec"
      },
      "execution_count": 11,
      "outputs": [
        {
          "output_type": "stream",
          "name": "stderr",
          "text": [
            "\r0it [00:00, ?it/s]"
          ]
        },
        {
          "output_type": "stream",
          "name": "stdout",
          "text": [
            "Training until validation scores don't improve for 300 rounds.\n",
            "[100]\tvalid_0's binary_logloss: 0.649066\n",
            "[200]\tvalid_0's binary_logloss: 0.648985\n",
            "[300]\tvalid_0's binary_logloss: 0.649338\n",
            "[400]\tvalid_0's binary_logloss: 0.649338\n"
          ]
        },
        {
          "output_type": "stream",
          "name": "stderr",
          "text": [
            "\r1it [00:00,  1.53it/s]"
          ]
        },
        {
          "output_type": "stream",
          "name": "stdout",
          "text": [
            "Early stopping, best iteration is:\n",
            "[153]\tvalid_0's binary_logloss: 0.648558\n",
            "FOLD: 0 AUC: 0.5734028113833958 Mean AUC: 0.5734028113833958\n",
            "Training until validation scores don't improve for 300 rounds.\n",
            "[100]\tvalid_0's binary_logloss: 0.650178\n",
            "[200]\tvalid_0's binary_logloss: 0.649796\n",
            "[300]\tvalid_0's binary_logloss: 0.649909\n",
            "[400]\tvalid_0's binary_logloss: 0.649918\n",
            "[500]\tvalid_0's binary_logloss: 0.649549\n",
            "[600]\tvalid_0's binary_logloss: 0.649703\n",
            "[700]\tvalid_0's binary_logloss: 0.649653\n",
            "[800]\tvalid_0's binary_logloss: 0.64979\n",
            "Early stopping, best iteration is:\n",
            "[562]\tvalid_0's binary_logloss: 0.649428\n"
          ]
        },
        {
          "output_type": "stream",
          "name": "stderr",
          "text": [
            "\r2it [00:01,  1.04s/it]"
          ]
        },
        {
          "output_type": "stream",
          "name": "stdout",
          "text": [
            "FOLD: 1 AUC: 0.5637257428914504 Mean AUC: 0.5685642771374231\n",
            "Training until validation scores don't improve for 300 rounds.\n",
            "[100]\tvalid_0's binary_logloss: 0.648412\n",
            "[200]\tvalid_0's binary_logloss: 0.648475\n"
          ]
        },
        {
          "output_type": "stream",
          "name": "stderr",
          "text": [
            "\r3it [00:02,  1.18it/s]"
          ]
        },
        {
          "output_type": "stream",
          "name": "stdout",
          "text": [
            "[300]\tvalid_0's binary_logloss: 0.648702\n",
            "[400]\tvalid_0's binary_logloss: 0.648702\n",
            "Early stopping, best iteration is:\n",
            "[128]\tvalid_0's binary_logloss: 0.648226\n",
            "FOLD: 2 AUC: 0.5713440558832825 Mean AUC: 0.5694908700527096\n",
            "Training until validation scores don't improve for 300 rounds.\n",
            "[100]\tvalid_0's binary_logloss: 0.647104\n",
            "[200]\tvalid_0's binary_logloss: 0.646639\n",
            "[300]\tvalid_0's binary_logloss: 0.646504\n",
            "[400]\tvalid_0's binary_logloss: 0.646504\n",
            "[500]\tvalid_0's binary_logloss: 0.646504\n",
            "Early stopping, best iteration is:\n",
            "[276]\tvalid_0's binary_logloss: 0.646504\n"
          ]
        },
        {
          "output_type": "stream",
          "name": "stderr",
          "text": [
            "\r4it [00:03,  1.20it/s]"
          ]
        },
        {
          "output_type": "stream",
          "name": "stdout",
          "text": [
            "FOLD: 3 AUC: 0.5787191939005994 Mean AUC: 0.571797951014682\n",
            "Training until validation scores don't improve for 300 rounds.\n",
            "[100]\tvalid_0's binary_logloss: 0.65075\n",
            "[200]\tvalid_0's binary_logloss: 0.650865\n"
          ]
        },
        {
          "output_type": "stream",
          "name": "stderr",
          "text": [
            "\r5it [00:04,  1.31it/s]"
          ]
        },
        {
          "output_type": "stream",
          "name": "stdout",
          "text": [
            "[300]\tvalid_0's binary_logloss: 0.65085\n",
            "Early stopping, best iteration is:\n",
            "[92]\tvalid_0's binary_logloss: 0.650577\n",
            "FOLD: 4 AUC: 0.5625920745467909 Mean AUC: 0.5699567757211038\n",
            "Training until validation scores don't improve for 300 rounds.\n",
            "[100]\tvalid_0's binary_logloss: 0.648531\n",
            "[200]\tvalid_0's binary_logloss: 0.648564\n",
            "[300]\tvalid_0's binary_logloss: 0.648587\n",
            "[400]\tvalid_0's binary_logloss: 0.648587\n"
          ]
        },
        {
          "output_type": "stream",
          "name": "stderr",
          "text": [
            "\r6it [00:04,  1.37it/s]"
          ]
        },
        {
          "output_type": "stream",
          "name": "stdout",
          "text": [
            "Early stopping, best iteration is:\n",
            "[167]\tvalid_0's binary_logloss: 0.648299\n",
            "FOLD: 5 AUC: 0.5706207052114329 Mean AUC: 0.5700674306361586\n",
            "Training until validation scores don't improve for 300 rounds.\n",
            "[100]\tvalid_0's binary_logloss: 0.647533\n",
            "[200]\tvalid_0's binary_logloss: 0.647625\n"
          ]
        },
        {
          "output_type": "stream",
          "name": "stderr",
          "text": [
            "\r7it [00:05,  1.48it/s]"
          ]
        },
        {
          "output_type": "stream",
          "name": "stdout",
          "text": [
            "[300]\tvalid_0's binary_logloss: 0.647607\n",
            "Early stopping, best iteration is:\n",
            "[72]\tvalid_0's binary_logloss: 0.647245\n",
            "FOLD: 6 AUC: 0.5793748698140107 Mean AUC: 0.5713970648044232\n",
            "Training until validation scores don't improve for 300 rounds.\n",
            "[100]\tvalid_0's binary_logloss: 0.648095\n",
            "[200]\tvalid_0's binary_logloss: 0.647649\n",
            "[300]\tvalid_0's binary_logloss: 0.647398\n",
            "[400]\tvalid_0's binary_logloss: 0.647398\n",
            "Early stopping, best iteration is:\n",
            "[179]\tvalid_0's binary_logloss: 0.647389\n"
          ]
        },
        {
          "output_type": "stream",
          "name": "stderr",
          "text": [
            "\r8it [00:05,  1.48it/s]"
          ]
        },
        {
          "output_type": "stream",
          "name": "stdout",
          "text": [
            "FOLD: 7 AUC: 0.5726831750595482 Mean AUC: 0.5715578285863139\n",
            "Training until validation scores don't improve for 300 rounds.\n",
            "[100]\tvalid_0's binary_logloss: 0.65011\n",
            "[200]\tvalid_0's binary_logloss: 0.649822\n",
            "[300]\tvalid_0's binary_logloss: 0.649822\n"
          ]
        },
        {
          "output_type": "stream",
          "name": "stderr",
          "text": [
            "\r9it [00:06,  1.53it/s]"
          ]
        },
        {
          "output_type": "stream",
          "name": "stdout",
          "text": [
            "[400]\tvalid_0's binary_logloss: 0.649822\n",
            "Early stopping, best iteration is:\n",
            "[155]\tvalid_0's binary_logloss: 0.649735\n",
            "FOLD: 8 AUC: 0.5657041267744418 Mean AUC: 0.5709074172738836\n",
            "Training until validation scores don't improve for 300 rounds.\n",
            "[100]\tvalid_0's binary_logloss: 0.645247\n",
            "[200]\tvalid_0's binary_logloss: 0.645162\n",
            "[300]\tvalid_0's binary_logloss: 0.645291\n",
            "[400]\tvalid_0's binary_logloss: 0.645241\n",
            "[500]\tvalid_0's binary_logloss: 0.645069\n",
            "[600]\tvalid_0's binary_logloss: 0.645005\n",
            "[700]\tvalid_0's binary_logloss: 0.645104\n",
            "[800]\tvalid_0's binary_logloss: 0.645104\n",
            "Early stopping, best iteration is:\n",
            "[570]\tvalid_0's binary_logloss: 0.644838\n"
          ]
        },
        {
          "output_type": "stream",
          "name": "stderr",
          "text": [
            "10it [00:07,  1.29it/s]"
          ]
        },
        {
          "output_type": "stream",
          "name": "stdout",
          "text": [
            "FOLD: 9 AUC: 0.5840569785626172 Mean AUC: 0.572222373402757\n"
          ]
        },
        {
          "output_type": "stream",
          "name": "stderr",
          "text": [
            "\n"
          ]
        }
      ]
    },
    {
      "cell_type": "code",
      "source": [
        "submission_df =pd.read_csv('/content/gdrive/MyDrive/song-popularity-prediction/sample_submission.csv')\n",
        "submission_df['song_popularity'] = predictions\n",
        "submission_df.to_csv('submission_lgbm_best_params1_200_trials_imputed_median_300_rounds.csv', index=False)"
      ],
      "metadata": {
        "id": "ZS3Y_E-V4hE5"
      },
      "execution_count": 12,
      "outputs": []
    },
    {
      "cell_type": "code",
      "source": [
        ""
      ],
      "metadata": {
        "id": "A8JWFrVf71Jp"
      },
      "execution_count": null,
      "outputs": []
    }
  ]
}